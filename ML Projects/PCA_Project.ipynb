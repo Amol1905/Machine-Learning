{
 "cells": [
  {
   "cell_type": "code",
   "execution_count": 1,
   "id": "d9f05726",
   "metadata": {},
   "outputs": [],
   "source": [
    "import pandas as pd\n",
    "import numpy as np\n",
    "import matplotlib.pyplot as plt"
   ]
  },
  {
   "cell_type": "markdown",
   "id": "797b0951",
   "metadata": {},
   "source": [
    "# 1. Feature Extraction"
   ]
  },
  {
   "cell_type": "code",
   "execution_count": 2,
   "id": "a1455bd8",
   "metadata": {},
   "outputs": [],
   "source": [
    "df = pd.read_csv(\"D:\\Python\\ML\\Datasets\\glass.csv\")"
   ]
  },
  {
   "cell_type": "code",
   "execution_count": 3,
   "id": "1c6e664b",
   "metadata": {},
   "outputs": [
    {
     "data": {
      "text/html": [
       "<div>\n",
       "<style scoped>\n",
       "    .dataframe tbody tr th:only-of-type {\n",
       "        vertical-align: middle;\n",
       "    }\n",
       "\n",
       "    .dataframe tbody tr th {\n",
       "        vertical-align: top;\n",
       "    }\n",
       "\n",
       "    .dataframe thead th {\n",
       "        text-align: right;\n",
       "    }\n",
       "</style>\n",
       "<table border=\"1\" class=\"dataframe\">\n",
       "  <thead>\n",
       "    <tr style=\"text-align: right;\">\n",
       "      <th></th>\n",
       "      <th>RI</th>\n",
       "      <th>Na</th>\n",
       "      <th>Mg</th>\n",
       "      <th>Al</th>\n",
       "      <th>Si</th>\n",
       "      <th>K</th>\n",
       "      <th>Ca</th>\n",
       "      <th>Ba</th>\n",
       "      <th>Fe</th>\n",
       "      <th>Type</th>\n",
       "    </tr>\n",
       "  </thead>\n",
       "  <tbody>\n",
       "    <tr>\n",
       "      <th>0</th>\n",
       "      <td>1.52101</td>\n",
       "      <td>13.64</td>\n",
       "      <td>4.49</td>\n",
       "      <td>1.10</td>\n",
       "      <td>71.78</td>\n",
       "      <td>0.06</td>\n",
       "      <td>8.75</td>\n",
       "      <td>0.0</td>\n",
       "      <td>0.0</td>\n",
       "      <td>1</td>\n",
       "    </tr>\n",
       "    <tr>\n",
       "      <th>1</th>\n",
       "      <td>1.51761</td>\n",
       "      <td>13.89</td>\n",
       "      <td>3.60</td>\n",
       "      <td>1.36</td>\n",
       "      <td>72.73</td>\n",
       "      <td>0.48</td>\n",
       "      <td>7.83</td>\n",
       "      <td>0.0</td>\n",
       "      <td>0.0</td>\n",
       "      <td>1</td>\n",
       "    </tr>\n",
       "    <tr>\n",
       "      <th>2</th>\n",
       "      <td>1.51618</td>\n",
       "      <td>13.53</td>\n",
       "      <td>3.55</td>\n",
       "      <td>1.54</td>\n",
       "      <td>72.99</td>\n",
       "      <td>0.39</td>\n",
       "      <td>7.78</td>\n",
       "      <td>0.0</td>\n",
       "      <td>0.0</td>\n",
       "      <td>1</td>\n",
       "    </tr>\n",
       "    <tr>\n",
       "      <th>3</th>\n",
       "      <td>1.51766</td>\n",
       "      <td>13.21</td>\n",
       "      <td>3.69</td>\n",
       "      <td>1.29</td>\n",
       "      <td>72.61</td>\n",
       "      <td>0.57</td>\n",
       "      <td>8.22</td>\n",
       "      <td>0.0</td>\n",
       "      <td>0.0</td>\n",
       "      <td>1</td>\n",
       "    </tr>\n",
       "    <tr>\n",
       "      <th>4</th>\n",
       "      <td>1.51742</td>\n",
       "      <td>13.27</td>\n",
       "      <td>3.62</td>\n",
       "      <td>1.24</td>\n",
       "      <td>73.08</td>\n",
       "      <td>0.55</td>\n",
       "      <td>8.07</td>\n",
       "      <td>0.0</td>\n",
       "      <td>0.0</td>\n",
       "      <td>1</td>\n",
       "    </tr>\n",
       "  </tbody>\n",
       "</table>\n",
       "</div>"
      ],
      "text/plain": [
       "        RI     Na    Mg    Al     Si     K    Ca   Ba   Fe  Type\n",
       "0  1.52101  13.64  4.49  1.10  71.78  0.06  8.75  0.0  0.0     1\n",
       "1  1.51761  13.89  3.60  1.36  72.73  0.48  7.83  0.0  0.0     1\n",
       "2  1.51618  13.53  3.55  1.54  72.99  0.39  7.78  0.0  0.0     1\n",
       "3  1.51766  13.21  3.69  1.29  72.61  0.57  8.22  0.0  0.0     1\n",
       "4  1.51742  13.27  3.62  1.24  73.08  0.55  8.07  0.0  0.0     1"
      ]
     },
     "execution_count": 3,
     "metadata": {},
     "output_type": "execute_result"
    }
   ],
   "source": [
    "df.head()"
   ]
  },
  {
   "cell_type": "code",
   "execution_count": 4,
   "id": "34649980",
   "metadata": {},
   "outputs": [
    {
     "data": {
      "text/plain": [
       "RI      0\n",
       "Na      0\n",
       "Mg      0\n",
       "Al      0\n",
       "Si      0\n",
       "K       0\n",
       "Ca      0\n",
       "Ba      0\n",
       "Fe      0\n",
       "Type    0\n",
       "dtype: int64"
      ]
     },
     "execution_count": 4,
     "metadata": {},
     "output_type": "execute_result"
    }
   ],
   "source": [
    "df.isna().sum()"
   ]
  },
  {
   "cell_type": "code",
   "execution_count": 5,
   "id": "6f327f88",
   "metadata": {},
   "outputs": [],
   "source": [
    "x = df.drop(columns = ['Type'])\n",
    "y = df['Type']\n"
   ]
  },
  {
   "cell_type": "code",
   "execution_count": 6,
   "id": "3ff786e1",
   "metadata": {},
   "outputs": [],
   "source": [
    "from sklearn.model_selection import train_test_split"
   ]
  },
  {
   "cell_type": "code",
   "execution_count": 7,
   "id": "7b8e0c7f",
   "metadata": {},
   "outputs": [],
   "source": [
    "xtrain,xtest,ytrain,ytest  = train_test_split(x,y,test_size  = .20,random_state=1)"
   ]
  },
  {
   "cell_type": "code",
   "execution_count": 8,
   "id": "d5275b0c",
   "metadata": {},
   "outputs": [],
   "source": [
    "from sklearn.preprocessing import StandardScaler"
   ]
  },
  {
   "cell_type": "code",
   "execution_count": 9,
   "id": "41b0f026",
   "metadata": {},
   "outputs": [],
   "source": [
    "sc = StandardScaler()\n",
    "sc_xtrain = sc.fit_transform(xtrain)\n",
    "sc_xtest = sc.fit_transform(xtest)"
   ]
  },
  {
   "cell_type": "code",
   "execution_count": 19,
   "id": "f7a91516",
   "metadata": {},
   "outputs": [
    {
     "name": "stdout",
     "output_type": "stream",
     "text": [
      "Explained Variance (Eigen Values): [2.59759741e+00 1.92711785e+00 1.37769170e+00 1.26786135e+00\n",
      " 9.41675496e-01 4.67278006e-01 3.88836152e-01 8.30736039e-02\n",
      " 1.80960041e-03]\n",
      "Sum of Explained Variance: 9.052941176470593\n",
      "Explained Variance Ratio: [2.86934087e-01 2.12872018e-01 1.52181669e-01 1.40049662e-01\n",
      " 1.04018736e-01 5.16161540e-02 4.29513618e-02 9.17642149e-03\n",
      " 1.99890884e-04]\n",
      "PC1 Ratio: 0.28693408687459376\n"
     ]
    }
   ],
   "source": [
    "from sklearn.decomposition import PCA\n",
    "pca = PCA()\n",
    "pca.fit(sc_xtrain)\n",
    "print(f'Explained Variance (Eigen Values): {pca.explained_variance_}')\n",
    "print(f'Sum of Explained Variance: {np.sum(pca.explained_variance_)}')\n",
    "print(f'Explained Variance Ratio: {pca.explained_variance_ratio_}')\n",
    "print(f'PC1 Ratio: {2.59759741e+00 /9.052941176470593}')"
   ]
  },
  {
   "cell_type": "markdown",
   "id": "06657fc9",
   "metadata": {},
   "source": [
    "# Elbow Plot for variance and dimension"
   ]
  },
  {
   "cell_type": "code",
   "execution_count": 96,
   "id": "8cddc35f",
   "metadata": {},
   "outputs": [
    {
     "data": {
      "text/plain": [
       "array([ 5.74795336,  9.85964439, 13.64251154, 16.58237366, 19.13881288,\n",
       "       21.36865721, 23.32120968, 25.09281499, 26.65547517, 28.08043088,\n",
       "       29.44143972, 30.66398049, 31.79971682, 32.91280711, 33.96311764,\n",
       "       34.9754434 , 35.92674613, 36.86126057, 37.76851945, 38.65384678,\n",
       "       39.49275389, 40.30478093, 41.07994168, 41.83225354, 42.55994389,\n",
       "       43.25869985, 43.94915456, 44.6140782 , 45.24475323, 45.86105452,\n",
       "       46.47197663, 47.06901372, 47.64629731, 48.21997965, 48.78480156,\n",
       "       49.33112329, 49.87055373, 50.39491484, 50.8997581 , 51.38828831,\n",
       "       51.87053225, 52.34643315, 52.80644081, 53.2640695 , 53.71365335,\n",
       "       54.16037526, 54.60421221, 55.041049  , 55.47376194, 55.90078888,\n",
       "       56.32005818, 56.73223862, 57.13469922, 57.53413326, 57.92902451,\n",
       "       58.31982952, 58.69972815, 59.07218191, 59.44059491, 59.80631787,\n",
       "       60.15959602, 60.51068381, 60.85609736, 61.19749143, 61.53527554,\n",
       "       61.87175222, 62.20346206, 62.53318729, 62.85320316, 63.16997888,\n",
       "       63.48267425, 63.79453544, 64.10274754, 64.40602355, 64.70753267,\n",
       "       65.00467289, 65.29952164, 65.59315036, 65.88099806, 66.16790357,\n",
       "       66.45107499, 66.73396013, 67.0156615 , 67.29487677, 67.57171866,\n",
       "       67.8480343 , 68.12195757, 68.39376785, 68.66190872, 68.92735128,\n",
       "       69.1894232 , 69.44958706, 69.70778279, 69.96266001, 70.21616413,\n",
       "       70.46856497, 70.7186386 , 70.96444187, 71.20880139, 71.45018868,\n",
       "       71.68784113, 71.92409025, 72.15642204, 72.38666469, 72.616162  ,\n",
       "       72.84262528, 73.06758439, 73.2912539 , 73.51196585, 73.73216106,\n",
       "       73.94897035, 74.16366699, 74.37484874, 74.58473608, 74.78961202,\n",
       "       74.99364545, 75.19566524, 75.39593669, 75.59294369, 75.78867347,\n",
       "       75.98309101, 76.1748538 , 76.36520386, 76.55527094, 76.74483335,\n",
       "       76.93036054, 77.1146692 , 77.29729057, 77.47703475, 77.65638318,\n",
       "       77.83417427, 78.010356  , 78.18424324, 78.35767566, 78.52965196,\n",
       "       78.69819308, 78.86614971, 79.03253371, 79.19650329, 79.35969949,\n",
       "       79.52132436, 79.68216548, 79.84185774, 80.00037967, 80.1568456 ,\n",
       "       80.312616  , 80.46684289, 80.61995497, 80.77268198, 80.92281135,\n",
       "       81.07215562, 81.21998139, 81.36758677, 81.51491637, 81.66039056,\n",
       "       81.80524304, 81.9486587 , 82.09114193, 82.23294826, 82.37430927,\n",
       "       82.5156329 , 82.65669346, 82.79757846, 82.93806084, 83.07807282,\n",
       "       83.2172159 , 83.3556642 , 83.49298384, 83.62939742, 83.76412502,\n",
       "       83.89854051, 84.03179534, 84.16357711, 84.2947968 , 84.4248198 ,\n",
       "       84.55468392, 84.68285632, 84.81081459, 84.93833584, 85.06510866,\n",
       "       85.19121627, 85.31553361, 85.43971717, 85.5631509 , 85.6849485 ,\n",
       "       85.80497492, 85.92371174, 86.04115807, 86.15777594, 86.2734868 ,\n",
       "       86.38829496, 86.502924  , 86.6163755 , 86.72719002, 86.8368172 ,\n",
       "       86.94573072, 87.05353808, 87.16060172, 87.26694009, 87.37255202,\n",
       "       87.47744166, 87.58182431, 87.68390289, 87.78494793, 87.8856841 ,\n",
       "       87.9848391 , 88.0835072 , 88.18068217, 88.27757732, 88.37384805,\n",
       "       88.46911626, 88.56338939, 88.65709846, 88.74990312, 88.84136423,\n",
       "       88.93241524, 89.02262338, 89.11240651, 89.20094302, 89.28916267,\n",
       "       89.37579347, 89.46203498, 89.5478197 , 89.63312472, 89.71715539,\n",
       "       89.8005577 , 89.88307093, 89.96511344, 90.04587915, 90.12618946,\n",
       "       90.20612499, 90.28523543, 90.36375905, 90.44083348, 90.5164315 ,\n",
       "       90.59155245, 90.66568265, 90.73929264, 90.81267556, 90.88536782,\n",
       "       90.95792322, 91.02942063, 91.09991255, 91.16954054, 91.23907603,\n",
       "       91.30833205, 91.37719375, 91.44546231, 91.51243053, 91.57893878,\n",
       "       91.64495113, 91.70991242, 91.77393259, 91.83676516, 91.89927518,\n",
       "       91.96131418, 92.02262263, 92.0832839 , 92.14378596, 92.20392191,\n",
       "       92.26345134, 92.32230736, 92.38081029, 92.43913239, 92.49663022,\n",
       "       92.55389079, 92.61083066, 92.66743886, 92.72367479, 92.77887891,\n",
       "       92.83360556, 92.8881556 , 92.94241212, 92.99601721, 93.04872389,\n",
       "       93.10124978, 93.15342243, 93.20516674, 93.2563305 , 93.30688253,\n",
       "       93.35706166, 93.40698196, 93.45661911, 93.50572376, 93.55442384,\n",
       "       93.60249372, 93.65033189, 93.6977207 , 93.74421886, 93.79065027,\n",
       "       93.83622188, 93.88160806, 93.92679293, 93.97182405, 94.01616933,\n",
       "       94.06024119, 94.10385366, 94.14711917, 94.18995514, 94.23208022,\n",
       "       94.27387179, 94.31527703, 94.35661154, 94.39745316, 94.43822806,\n",
       "       94.47848985, 94.51861281, 94.5584112 , 94.59803977, 94.63745825,\n",
       "       94.67623452, 94.71458365, 94.75282656, 94.79084406, 94.82870948,\n",
       "       94.86593064, 94.9029857 , 94.9396132 , 94.97577983, 95.01146743])"
      ]
     },
     "execution_count": 96,
     "metadata": {},
     "output_type": "execute_result"
    }
   ],
   "source": [
    "val = pca.explained_variance_ratio_.cumsum()*100 #both are sme\n",
    "# val = np.cumsum(pca.explained_variance_ratio_)* 100\n",
    "val"
   ]
  },
  {
   "cell_type": "code",
   "execution_count": 22,
   "id": "cd22562d",
   "metadata": {},
   "outputs": [
    {
     "data": {
      "text/plain": [
       "<matplotlib.legend.Legend at 0x17e5d446cd0>"
      ]
     },
     "execution_count": 22,
     "metadata": {},
     "output_type": "execute_result"
    },
    {
     "data": {
      "image/png": "[encoded data removed]",
      "text/plain": [
       "<Figure size 720x504 with 1 Axes>"
      ]
     },
     "metadata": {
      "needs_background": "light"
     },
     "output_type": "display_data"
    }
   ],
   "source": [
    "plt.figure(figsize = (10,7))\n",
    "plt.plot(range(len(val)),val,label = 'Explained Variance')\n",
    "plt.axhline(y = 94,linestyle = '--',c = 'r',label = '94% Explained variance')\n",
    "plt.title('Elbow Plot for explained variance and dimension')\n",
    "plt.xlabel('Dimension')\n",
    "plt.ylabel('Cumulative explained varience')\n",
    "plt.legend()\n"
   ]
  },
  {
   "cell_type": "code",
   "execution_count": 23,
   "id": "47dfac58",
   "metadata": {},
   "outputs": [
    {
     "data": {
      "text/plain": [
       "6"
      ]
     },
     "execution_count": 23,
     "metadata": {},
     "output_type": "execute_result"
    }
   ],
   "source": [
    "pca = PCA(n_components=0.94)\n",
    "pca.fit(sc_xtrain)\n",
    "pca.n_components_\n",
    "# It gives us firtst 6 column or feature which match 0.94 variance ratio\n",
    "# pca.n_components"
   ]
  },
  {
   "cell_type": "code",
   "execution_count": null,
   "id": "cce966d3",
   "metadata": {},
   "outputs": [],
   "source": [
    "# help(PCA)"
   ]
  },
  {
   "cell_type": "code",
   "execution_count": null,
   "id": "9ece588b",
   "metadata": {},
   "outputs": [],
   "source": [
    "# pca.n_samples_"
   ]
  },
  {
   "cell_type": "markdown",
   "id": "12d2d181",
   "metadata": {},
   "source": [
    "### Digit Project"
   ]
  },
  {
   "cell_type": "code",
   "execution_count": 61,
   "id": "c57bed3e",
   "metadata": {},
   "outputs": [],
   "source": [
    "train = pd.read_csv(\"D:\\\\Python\\\\ML\\\\Datasets\\\\digit\\\\train.csv\")"
   ]
  },
  {
   "cell_type": "code",
   "execution_count": 62,
   "id": "5d937999",
   "metadata": {},
   "outputs": [
    {
     "data": {
      "text/html": [
       "<div>\n",
       "<style scoped>\n",
       "    .dataframe tbody tr th:only-of-type {\n",
       "        vertical-align: middle;\n",
       "    }\n",
       "\n",
       "    .dataframe tbody tr th {\n",
       "        vertical-align: top;\n",
       "    }\n",
       "\n",
       "    .dataframe thead th {\n",
       "        text-align: right;\n",
       "    }\n",
       "</style>\n",
       "<table border=\"1\" class=\"dataframe\">\n",
       "  <thead>\n",
       "    <tr style=\"text-align: right;\">\n",
       "      <th></th>\n",
       "      <th>label</th>\n",
       "      <th>pixel0</th>\n",
       "      <th>pixel1</th>\n",
       "      <th>pixel2</th>\n",
       "      <th>pixel3</th>\n",
       "      <th>pixel4</th>\n",
       "      <th>pixel5</th>\n",
       "      <th>pixel6</th>\n",
       "      <th>pixel7</th>\n",
       "      <th>pixel8</th>\n",
       "      <th>...</th>\n",
       "      <th>pixel774</th>\n",
       "      <th>pixel775</th>\n",
       "      <th>pixel776</th>\n",
       "      <th>pixel777</th>\n",
       "      <th>pixel778</th>\n",
       "      <th>pixel779</th>\n",
       "      <th>pixel780</th>\n",
       "      <th>pixel781</th>\n",
       "      <th>pixel782</th>\n",
       "      <th>pixel783</th>\n",
       "    </tr>\n",
       "  </thead>\n",
       "  <tbody>\n",
       "    <tr>\n",
       "      <th>0</th>\n",
       "      <td>1</td>\n",
       "      <td>0</td>\n",
       "      <td>0</td>\n",
       "      <td>0</td>\n",
       "      <td>0</td>\n",
       "      <td>0</td>\n",
       "      <td>0</td>\n",
       "      <td>0</td>\n",
       "      <td>0</td>\n",
       "      <td>0</td>\n",
       "      <td>...</td>\n",
       "      <td>0</td>\n",
       "      <td>0</td>\n",
       "      <td>0</td>\n",
       "      <td>0</td>\n",
       "      <td>0</td>\n",
       "      <td>0</td>\n",
       "      <td>0</td>\n",
       "      <td>0</td>\n",
       "      <td>0</td>\n",
       "      <td>0</td>\n",
       "    </tr>\n",
       "    <tr>\n",
       "      <th>1</th>\n",
       "      <td>0</td>\n",
       "      <td>0</td>\n",
       "      <td>0</td>\n",
       "      <td>0</td>\n",
       "      <td>0</td>\n",
       "      <td>0</td>\n",
       "      <td>0</td>\n",
       "      <td>0</td>\n",
       "      <td>0</td>\n",
       "      <td>0</td>\n",
       "      <td>...</td>\n",
       "      <td>0</td>\n",
       "      <td>0</td>\n",
       "      <td>0</td>\n",
       "      <td>0</td>\n",
       "      <td>0</td>\n",
       "      <td>0</td>\n",
       "      <td>0</td>\n",
       "      <td>0</td>\n",
       "      <td>0</td>\n",
       "      <td>0</td>\n",
       "    </tr>\n",
       "    <tr>\n",
       "      <th>2</th>\n",
       "      <td>1</td>\n",
       "      <td>0</td>\n",
       "      <td>0</td>\n",
       "      <td>0</td>\n",
       "      <td>0</td>\n",
       "      <td>0</td>\n",
       "      <td>0</td>\n",
       "      <td>0</td>\n",
       "      <td>0</td>\n",
       "      <td>0</td>\n",
       "      <td>...</td>\n",
       "      <td>0</td>\n",
       "      <td>0</td>\n",
       "      <td>0</td>\n",
       "      <td>0</td>\n",
       "      <td>0</td>\n",
       "      <td>0</td>\n",
       "      <td>0</td>\n",
       "      <td>0</td>\n",
       "      <td>0</td>\n",
       "      <td>0</td>\n",
       "    </tr>\n",
       "    <tr>\n",
       "      <th>3</th>\n",
       "      <td>4</td>\n",
       "      <td>0</td>\n",
       "      <td>0</td>\n",
       "      <td>0</td>\n",
       "      <td>0</td>\n",
       "      <td>0</td>\n",
       "      <td>0</td>\n",
       "      <td>0</td>\n",
       "      <td>0</td>\n",
       "      <td>0</td>\n",
       "      <td>...</td>\n",
       "      <td>0</td>\n",
       "      <td>0</td>\n",
       "      <td>0</td>\n",
       "      <td>0</td>\n",
       "      <td>0</td>\n",
       "      <td>0</td>\n",
       "      <td>0</td>\n",
       "      <td>0</td>\n",
       "      <td>0</td>\n",
       "      <td>0</td>\n",
       "    </tr>\n",
       "    <tr>\n",
       "      <th>4</th>\n",
       "      <td>0</td>\n",
       "      <td>0</td>\n",
       "      <td>0</td>\n",
       "      <td>0</td>\n",
       "      <td>0</td>\n",
       "      <td>0</td>\n",
       "      <td>0</td>\n",
       "      <td>0</td>\n",
       "      <td>0</td>\n",
       "      <td>0</td>\n",
       "      <td>...</td>\n",
       "      <td>0</td>\n",
       "      <td>0</td>\n",
       "      <td>0</td>\n",
       "      <td>0</td>\n",
       "      <td>0</td>\n",
       "      <td>0</td>\n",
       "      <td>0</td>\n",
       "      <td>0</td>\n",
       "      <td>0</td>\n",
       "      <td>0</td>\n",
       "    </tr>\n",
       "  </tbody>\n",
       "</table>\n",
       "<p>5 rows × 785 columns</p>\n",
       "</div>"
      ],
      "text/plain": [
       "   label  pixel0  pixel1  pixel2  pixel3  pixel4  pixel5  pixel6  pixel7  \\\n",
       "0      1       0       0       0       0       0       0       0       0   \n",
       "1      0       0       0       0       0       0       0       0       0   \n",
       "2      1       0       0       0       0       0       0       0       0   \n",
       "3      4       0       0       0       0       0       0       0       0   \n",
       "4      0       0       0       0       0       0       0       0       0   \n",
       "\n",
       "   pixel8  ...  pixel774  pixel775  pixel776  pixel777  pixel778  pixel779  \\\n",
       "0       0  ...         0         0         0         0         0         0   \n",
       "1       0  ...         0         0         0         0         0         0   \n",
       "2       0  ...         0         0         0         0         0         0   \n",
       "3       0  ...         0         0         0         0         0         0   \n",
       "4       0  ...         0         0         0         0         0         0   \n",
       "\n",
       "   pixel780  pixel781  pixel782  pixel783  \n",
       "0         0         0         0         0  \n",
       "1         0         0         0         0  \n",
       "2         0         0         0         0  \n",
       "3         0         0         0         0  \n",
       "4         0         0         0         0  \n",
       "\n",
       "[5 rows x 785 columns]"
      ]
     },
     "execution_count": 62,
     "metadata": {},
     "output_type": "execute_result"
    }
   ],
   "source": [
    "train.head()"
   ]
  },
  {
   "cell_type": "code",
   "execution_count": 63,
   "id": "f2ed74dd",
   "metadata": {},
   "outputs": [],
   "source": [
    "xtrain = train.drop(columns = 'label').values\n",
    "ytrain = train['label'].values"
   ]
  },
  {
   "cell_type": "code",
   "execution_count": 64,
   "id": "6b743f6b",
   "metadata": {},
   "outputs": [],
   "source": [
    "test = pd.read_csv(\"D:\\\\Python\\\\ML\\\\Datasets\\\\digit\\\\test.csv\")"
   ]
  },
  {
   "cell_type": "code",
   "execution_count": 65,
   "id": "8bcbcfaa",
   "metadata": {},
   "outputs": [
    {
     "data": {
      "text/html": [
       "<div>\n",
       "<style scoped>\n",
       "    .dataframe tbody tr th:only-of-type {\n",
       "        vertical-align: middle;\n",
       "    }\n",
       "\n",
       "    .dataframe tbody tr th {\n",
       "        vertical-align: top;\n",
       "    }\n",
       "\n",
       "    .dataframe thead th {\n",
       "        text-align: right;\n",
       "    }\n",
       "</style>\n",
       "<table border=\"1\" class=\"dataframe\">\n",
       "  <thead>\n",
       "    <tr style=\"text-align: right;\">\n",
       "      <th></th>\n",
       "      <th>pixel0</th>\n",
       "      <th>pixel1</th>\n",
       "      <th>pixel2</th>\n",
       "      <th>pixel3</th>\n",
       "      <th>pixel4</th>\n",
       "      <th>pixel5</th>\n",
       "      <th>pixel6</th>\n",
       "      <th>pixel7</th>\n",
       "      <th>pixel8</th>\n",
       "      <th>pixel9</th>\n",
       "      <th>...</th>\n",
       "      <th>pixel774</th>\n",
       "      <th>pixel775</th>\n",
       "      <th>pixel776</th>\n",
       "      <th>pixel777</th>\n",
       "      <th>pixel778</th>\n",
       "      <th>pixel779</th>\n",
       "      <th>pixel780</th>\n",
       "      <th>pixel781</th>\n",
       "      <th>pixel782</th>\n",
       "      <th>pixel783</th>\n",
       "    </tr>\n",
       "  </thead>\n",
       "  <tbody>\n",
       "    <tr>\n",
       "      <th>0</th>\n",
       "      <td>0</td>\n",
       "      <td>0</td>\n",
       "      <td>0</td>\n",
       "      <td>0</td>\n",
       "      <td>0</td>\n",
       "      <td>0</td>\n",
       "      <td>0</td>\n",
       "      <td>0</td>\n",
       "      <td>0</td>\n",
       "      <td>0</td>\n",
       "      <td>...</td>\n",
       "      <td>0</td>\n",
       "      <td>0</td>\n",
       "      <td>0</td>\n",
       "      <td>0</td>\n",
       "      <td>0</td>\n",
       "      <td>0</td>\n",
       "      <td>0</td>\n",
       "      <td>0</td>\n",
       "      <td>0</td>\n",
       "      <td>0</td>\n",
       "    </tr>\n",
       "    <tr>\n",
       "      <th>1</th>\n",
       "      <td>0</td>\n",
       "      <td>0</td>\n",
       "      <td>0</td>\n",
       "      <td>0</td>\n",
       "      <td>0</td>\n",
       "      <td>0</td>\n",
       "      <td>0</td>\n",
       "      <td>0</td>\n",
       "      <td>0</td>\n",
       "      <td>0</td>\n",
       "      <td>...</td>\n",
       "      <td>0</td>\n",
       "      <td>0</td>\n",
       "      <td>0</td>\n",
       "      <td>0</td>\n",
       "      <td>0</td>\n",
       "      <td>0</td>\n",
       "      <td>0</td>\n",
       "      <td>0</td>\n",
       "      <td>0</td>\n",
       "      <td>0</td>\n",
       "    </tr>\n",
       "    <tr>\n",
       "      <th>2</th>\n",
       "      <td>0</td>\n",
       "      <td>0</td>\n",
       "      <td>0</td>\n",
       "      <td>0</td>\n",
       "      <td>0</td>\n",
       "      <td>0</td>\n",
       "      <td>0</td>\n",
       "      <td>0</td>\n",
       "      <td>0</td>\n",
       "      <td>0</td>\n",
       "      <td>...</td>\n",
       "      <td>0</td>\n",
       "      <td>0</td>\n",
       "      <td>0</td>\n",
       "      <td>0</td>\n",
       "      <td>0</td>\n",
       "      <td>0</td>\n",
       "      <td>0</td>\n",
       "      <td>0</td>\n",
       "      <td>0</td>\n",
       "      <td>0</td>\n",
       "    </tr>\n",
       "    <tr>\n",
       "      <th>3</th>\n",
       "      <td>0</td>\n",
       "      <td>0</td>\n",
       "      <td>0</td>\n",
       "      <td>0</td>\n",
       "      <td>0</td>\n",
       "      <td>0</td>\n",
       "      <td>0</td>\n",
       "      <td>0</td>\n",
       "      <td>0</td>\n",
       "      <td>0</td>\n",
       "      <td>...</td>\n",
       "      <td>0</td>\n",
       "      <td>0</td>\n",
       "      <td>0</td>\n",
       "      <td>0</td>\n",
       "      <td>0</td>\n",
       "      <td>0</td>\n",
       "      <td>0</td>\n",
       "      <td>0</td>\n",
       "      <td>0</td>\n",
       "      <td>0</td>\n",
       "    </tr>\n",
       "    <tr>\n",
       "      <th>4</th>\n",
       "      <td>0</td>\n",
       "      <td>0</td>\n",
       "      <td>0</td>\n",
       "      <td>0</td>\n",
       "      <td>0</td>\n",
       "      <td>0</td>\n",
       "      <td>0</td>\n",
       "      <td>0</td>\n",
       "      <td>0</td>\n",
       "      <td>0</td>\n",
       "      <td>...</td>\n",
       "      <td>0</td>\n",
       "      <td>0</td>\n",
       "      <td>0</td>\n",
       "      <td>0</td>\n",
       "      <td>0</td>\n",
       "      <td>0</td>\n",
       "      <td>0</td>\n",
       "      <td>0</td>\n",
       "      <td>0</td>\n",
       "      <td>0</td>\n",
       "    </tr>\n",
       "  </tbody>\n",
       "</table>\n",
       "<p>5 rows × 784 columns</p>\n",
       "</div>"
      ],
      "text/plain": [
       "   pixel0  pixel1  pixel2  pixel3  pixel4  pixel5  pixel6  pixel7  pixel8  \\\n",
       "0       0       0       0       0       0       0       0       0       0   \n",
       "1       0       0       0       0       0       0       0       0       0   \n",
       "2       0       0       0       0       0       0       0       0       0   \n",
       "3       0       0       0       0       0       0       0       0       0   \n",
       "4       0       0       0       0       0       0       0       0       0   \n",
       "\n",
       "   pixel9  ...  pixel774  pixel775  pixel776  pixel777  pixel778  pixel779  \\\n",
       "0       0  ...         0         0         0         0         0         0   \n",
       "1       0  ...         0         0         0         0         0         0   \n",
       "2       0  ...         0         0         0         0         0         0   \n",
       "3       0  ...         0         0         0         0         0         0   \n",
       "4       0  ...         0         0         0         0         0         0   \n",
       "\n",
       "   pixel780  pixel781  pixel782  pixel783  \n",
       "0         0         0         0         0  \n",
       "1         0         0         0         0  \n",
       "2         0         0         0         0  \n",
       "3         0         0         0         0  \n",
       "4         0         0         0         0  \n",
       "\n",
       "[5 rows x 784 columns]"
      ]
     },
     "execution_count": 65,
     "metadata": {},
     "output_type": "execute_result"
    }
   ],
   "source": [
    "test.head()"
   ]
  },
  {
   "cell_type": "code",
   "execution_count": 66,
   "id": "dce1894b",
   "metadata": {},
   "outputs": [
    {
     "data": {
      "text/plain": [
       "array([[0, 0, 0, ..., 0, 0, 0],\n",
       "       [0, 0, 0, ..., 0, 0, 0],\n",
       "       [0, 0, 0, ..., 0, 0, 0],\n",
       "       ...,\n",
       "       [0, 0, 0, ..., 0, 0, 0],\n",
       "       [0, 0, 0, ..., 0, 0, 0],\n",
       "       [0, 0, 0, ..., 0, 0, 0]], dtype=int64)"
      ]
     },
     "execution_count": 66,
     "metadata": {},
     "output_type": "execute_result"
    }
   ],
   "source": [
    "test = test.values\n",
    "test"
   ]
  },
  {
   "cell_type": "code",
   "execution_count": 67,
   "id": "d62e8c85",
   "metadata": {},
   "outputs": [],
   "source": [
    "import cv2"
   ]
  },
  {
   "cell_type": "code",
   "execution_count": 69,
   "id": "7f024159",
   "metadata": {},
   "outputs": [
    {
     "data": {
      "text/plain": [
       "<matplotlib.image.AxesImage at 0x17e00401430>"
      ]
     },
     "execution_count": 69,
     "metadata": {},
     "output_type": "execute_result"
    },
    {
     "data": {
      "image/png": "[encoded data removed]",
      "text/plain": [
       "<Figure size 432x288 with 1 Axes>"
      ]
     },
     "metadata": {
      "needs_background": "light"
     },
     "output_type": "display_data"
    }
   ],
   "source": [
    "plt.imshow(xtrain[67].reshape(28,28),cmap = 'gray')"
   ]
  },
  {
   "cell_type": "code",
   "execution_count": 48,
   "id": "d1fc83af",
   "metadata": {},
   "outputs": [],
   "source": [
    "# help(plt.subplot)"
   ]
  },
  {
   "cell_type": "code",
   "execution_count": 70,
   "id": "bb9b3203",
   "metadata": {},
   "outputs": [
    {
     "data": {
      "image/png": "[encoded data removed]",
      "text/plain": [
       "<Figure size 432x288 with 4 Axes>"
      ]
     },
     "metadata": {
      "needs_background": "light"
     },
     "output_type": "display_data"
    }
   ],
   "source": [
    "for i in range(1,4+1):\n",
    "    plt.subplot(2,2,i)\n",
    "    plt.imshow(xtrain[i].reshape(28,28),cmap = 'gray')\n",
    "    "
   ]
  },
  {
   "cell_type": "markdown",
   "id": "c5ac3c8e",
   "metadata": {},
   "source": [
    "### Scalling Data"
   ]
  },
  {
   "cell_type": "code",
   "execution_count": 49,
   "id": "e118d85b",
   "metadata": {},
   "outputs": [],
   "source": [
    "from sklearn.preprocessing import StandardScaler\n",
    "sc =StandardScaler()"
   ]
  },
  {
   "cell_type": "code",
   "execution_count": 71,
   "id": "f9744bf7",
   "metadata": {},
   "outputs": [],
   "source": [
    "sc.fit(xtrain)\n",
    "sc_xtrain = sc.transform(xtrain)\n",
    "sc_test = sc.transform(test)"
   ]
  },
  {
   "cell_type": "markdown",
   "id": "c1fe3274",
   "metadata": {},
   "source": [
    "# PCA Tranformation"
   ]
  },
  {
   "cell_type": "code",
   "execution_count": 72,
   "id": "8223b855",
   "metadata": {},
   "outputs": [],
   "source": [
    "from sklearn.decomposition import PCA"
   ]
  },
  {
   "cell_type": "code",
   "execution_count": 73,
   "id": "ffb1ca4b",
   "metadata": {},
   "outputs": [
    {
     "data": {
      "text/plain": [
       "<matplotlib.legend.Legend at 0x17e00188e20>"
      ]
     },
     "execution_count": 73,
     "metadata": {},
     "output_type": "execute_result"
    },
    {
     "data": {
      "image/png": "[encoded data removed]",
      "text/plain": [
       "<Figure size 432x288 with 1 Axes>"
      ]
     },
     "metadata": {
      "needs_background": "light"
     },
     "output_type": "display_data"
    }
   ],
   "source": [
    "pca = PCA()\n",
    "pca.fit(sc_xtrain)\n",
    "val = np.cumsum(pca.explained_variance_ratio_)*100\n",
    "plt.plot(range(1,len(val)+1),val,label=\"cumulative sum of explained variance\")\n",
    "plt.axhline(y = 95 ,linestyle = '--',c = 'r',label=\"95 % explained variance\")\n",
    "plt.xlabel(\"Dimensions\")\n",
    "plt.ylabel(\"Explained Variance\")\n",
    "plt.legend()"
   ]
  },
  {
   "cell_type": "code",
   "execution_count": 74,
   "id": "a30bcb90",
   "metadata": {},
   "outputs": [
    {
     "name": "stdout",
     "output_type": "stream",
     "text": [
      "Selected Components:  320\n"
     ]
    }
   ],
   "source": [
    "pca = PCA(n_components=0.95)\n",
    "pca.fit(sc_xtrain)\n",
    "pca_xtrain = pca.transform(sc_xtrain)\n",
    "pca_test = pca.transform(sc_test)\n",
    "print(\"Selected Components: \",pca.n_components_)"
   ]
  },
  {
   "cell_type": "markdown",
   "id": "87ae28f9",
   "metadata": {},
   "source": [
    "# Visualization of Data Before And After PCA"
   ]
  },
  {
   "cell_type": "code",
   "execution_count": 76,
   "id": "4ed68007",
   "metadata": {},
   "outputs": [
    {
     "data": {
      "text/plain": [
       "Text(0.5, 1.0, 'Data After PCA')"
      ]
     },
     "execution_count": 76,
     "metadata": {},
     "output_type": "execute_result"
    },
    {
     "data": {
      "image/png": "[encoded data removed]",
      "text/plain": [
       "<Figure size 432x288 with 2 Axes>"
      ]
     },
     "metadata": {
      "needs_background": "light"
     },
     "output_type": "display_data"
    }
   ],
   "source": [
    "data_point=xtrain[1].reshape(28,28)\n",
    "pca_data_point=pca.inverse_transform(pca_xtrain[1]).reshape(28,28)\n",
    "plt.subplot(1,2,1)\n",
    "plt.imshow(data_point,cmap=\"gray\")\n",
    "plt.title(\"Original Data\")\n",
    "plt.subplot(1,2,2)\n",
    "plt.imshow(pca_data_point,cmap=\"gray\")\n",
    "plt.title(\"Data After PCA\")"
   ]
  },
  {
   "cell_type": "markdown",
   "id": "cd9f1d2f",
   "metadata": {},
   "source": [
    "## Classification of Handwritten Digits data using Logistic Regression"
   ]
  },
  {
   "cell_type": "code",
   "execution_count": 82,
   "id": "cbd8f85f",
   "metadata": {},
   "outputs": [
    {
     "name": "stdout",
     "output_type": "stream",
     "text": [
      "Time Taken by model to train data is :  0:00:11.272385\n"
     ]
    },
    {
     "name": "stderr",
     "output_type": "stream",
     "text": [
      "C:\\Users\\Win\\AppData\\Local\\Programs\\Python\\Python39\\lib\\site-packages\\sklearn\\linear_model\\_logistic.py:763: ConvergenceWarning: lbfgs failed to converge (status=1):\n",
      "STOP: TOTAL NO. of ITERATIONS REACHED LIMIT.\n",
      "\n",
      "Increase the number of iterations (max_iter) or scale the data as shown in:\n",
      "    https://scikit-learn.org/stable/modules/preprocessing.html\n",
      "Please also refer to the documentation for alternative solver options:\n",
      "    https://scikit-learn.org/stable/modules/linear_model.html#logistic-regression\n",
      "  n_iter_i = _check_optimize_result(\n"
     ]
    }
   ],
   "source": [
    "import datetime\n",
    "from sklearn.linear_model import LogisticRegression\n",
    "model=LogisticRegression()\n",
    "start_time=datetime.datetime.now()\n",
    "model.fit(pca_xtrain,ytrain)\n",
    "end_time=datetime.datetime.now()\n",
    "print(\"Time Taken by model to train data is : \",str(end_time-start_time))"
   ]
  },
  {
   "cell_type": "code",
   "execution_count": 83,
   "id": "e823c8de",
   "metadata": {},
   "outputs": [
    {
     "name": "stdout",
     "output_type": "stream",
     "text": [
      "Time Taken by model to Predict the output ona test data is :  0:00:00.079953\n"
     ]
    }
   ],
   "source": [
    "start_time=datetime.datetime.now()\n",
    "ypred=model.predict(pca_xtrain)\n",
    "end_time=datetime.datetime.now()\n",
    "print(\"Time Taken by model to Predict the output ona test data is : \",str(end_time-start_time))"
   ]
  },
  {
   "cell_type": "code",
   "execution_count": 85,
   "id": "86a678f0",
   "metadata": {},
   "outputs": [
    {
     "name": "stdout",
     "output_type": "stream",
     "text": [
      "Accuracy is  0.9383333333333334\n",
      "              precision    recall  f1-score   support\n",
      "\n",
      "           0       0.97      0.98      0.97      4132\n",
      "           1       0.97      0.98      0.97      4684\n",
      "           2       0.93      0.93      0.93      4177\n",
      "           3       0.92      0.91      0.92      4351\n",
      "           4       0.95      0.94      0.94      4072\n",
      "           5       0.91      0.90      0.90      3795\n",
      "           6       0.96      0.97      0.96      4137\n",
      "           7       0.95      0.94      0.95      4401\n",
      "           8       0.91      0.90      0.91      4063\n",
      "           9       0.92      0.92      0.92      4188\n",
      "\n",
      "    accuracy                           0.94     42000\n",
      "   macro avg       0.94      0.94      0.94     42000\n",
      "weighted avg       0.94      0.94      0.94     42000\n",
      "\n"
     ]
    },
    {
     "data": {
      "text/plain": [
       "<AxesSubplot:>"
      ]
     },
     "execution_count": 85,
     "metadata": {},
     "output_type": "execute_result"
    },
    {
     "data": {
      "image/png": "[encoded data removed]",
      "text/plain": [
       "<Figure size 432x288 with 2 Axes>"
      ]
     },
     "metadata": {
      "needs_background": "light"
     },
     "output_type": "display_data"
    }
   ],
   "source": [
    "from sklearn.metrics import accuracy_score,classification_report,confusion_matrix\n",
    "import seaborn as sns\n",
    "print(\"Accuracy is \",accuracy_score(ytrain,ypred))\n",
    "print(classification_report(ytrain,ypred))\n",
    "cm=confusion_matrix(ytrain,ypred)\n",
    "sns.heatmap(cm,annot=True)  "
   ]
  },
  {
   "cell_type": "code",
   "execution_count": 90,
   "id": "a67d6fc6",
   "metadata": {},
   "outputs": [],
   "source": [
    "output=pd.DataFrame(ypred,columns=[\"label\"])\n",
    "output.to_csv(\"D:\\\\Python\\\\ML\\\\Datasets\\\\digit\\\\test_label.csv\")"
   ]
  },
  {
   "cell_type": "code",
   "execution_count": 89,
   "id": "7403431a",
   "metadata": {},
   "outputs": [
    {
     "data": {
      "text/html": [
       "<div>\n",
       "<style scoped>\n",
       "    .dataframe tbody tr th:only-of-type {\n",
       "        vertical-align: middle;\n",
       "    }\n",
       "\n",
       "    .dataframe tbody tr th {\n",
       "        vertical-align: top;\n",
       "    }\n",
       "\n",
       "    .dataframe thead th {\n",
       "        text-align: right;\n",
       "    }\n",
       "</style>\n",
       "<table border=\"1\" class=\"dataframe\">\n",
       "  <thead>\n",
       "    <tr style=\"text-align: right;\">\n",
       "      <th></th>\n",
       "      <th>label</th>\n",
       "    </tr>\n",
       "  </thead>\n",
       "  <tbody>\n",
       "    <tr>\n",
       "      <th>0</th>\n",
       "      <td>1</td>\n",
       "    </tr>\n",
       "    <tr>\n",
       "      <th>1</th>\n",
       "      <td>0</td>\n",
       "    </tr>\n",
       "    <tr>\n",
       "      <th>2</th>\n",
       "      <td>1</td>\n",
       "    </tr>\n",
       "    <tr>\n",
       "      <th>3</th>\n",
       "      <td>4</td>\n",
       "    </tr>\n",
       "    <tr>\n",
       "      <th>4</th>\n",
       "      <td>0</td>\n",
       "    </tr>\n",
       "    <tr>\n",
       "      <th>...</th>\n",
       "      <td>...</td>\n",
       "    </tr>\n",
       "    <tr>\n",
       "      <th>41995</th>\n",
       "      <td>0</td>\n",
       "    </tr>\n",
       "    <tr>\n",
       "      <th>41996</th>\n",
       "      <td>1</td>\n",
       "    </tr>\n",
       "    <tr>\n",
       "      <th>41997</th>\n",
       "      <td>7</td>\n",
       "    </tr>\n",
       "    <tr>\n",
       "      <th>41998</th>\n",
       "      <td>6</td>\n",
       "    </tr>\n",
       "    <tr>\n",
       "      <th>41999</th>\n",
       "      <td>9</td>\n",
       "    </tr>\n",
       "  </tbody>\n",
       "</table>\n",
       "<p>42000 rows × 1 columns</p>\n",
       "</div>"
      ],
      "text/plain": [
       "       label\n",
       "0          1\n",
       "1          0\n",
       "2          1\n",
       "3          4\n",
       "4          0\n",
       "...      ...\n",
       "41995      0\n",
       "41996      1\n",
       "41997      7\n",
       "41998      6\n",
       "41999      9\n",
       "\n",
       "[42000 rows x 1 columns]"
      ]
     },
     "execution_count": 89,
     "metadata": {},
     "output_type": "execute_result"
    }
   ],
   "source": [
    "output"
   ]
  },
  {
   "cell_type": "code",
   "execution_count": null,
   "id": "9c73b8eb",
   "metadata": {},
   "outputs": [],
   "source": []
  }
 ],
 "metadata": {
  "kernelspec": {
   "display_name": "Python 3",
   "language": "python",
   "name": "python3"
  },
  "language_info": {
   "codemirror_mode": {
    "name": "ipython",
    "version": 3
   },
   "file_extension": ".py",
   "mimetype": "text/x-python",
   "name": "python",
   "nbconvert_exporter": "python",
   "pygments_lexer": "ipython3",
   "version": "3.9.2"
  }
 },
 "nbformat": 4,
 "nbformat_minor": 5
}
