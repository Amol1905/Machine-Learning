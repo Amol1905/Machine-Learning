{
  "nbformat": 4,
  "nbformat_minor": 0,
  "metadata": {
    "colab": {
      "name": "Electricity_GRU.ipynb",
      "provenance": [],
      "collapsed_sections": []
    },
    "kernelspec": {
      "name": "python3",
      "display_name": "Python 3"
    },
    "language_info": {
      "name": "python"
    }
  },
  "cells": [
    {
      "cell_type": "markdown",
      "metadata": {
        "id": "qYLT7ZWXddQL"
      },
      "source": [
        "https://towardsdatascience.com/activation-functions-neural-networks-1cbd9f8d91d6"
      ]
    },
    {
      "cell_type": "code",
      "metadata": {
        "id": "9z-9B0j9_03F"
      },
      "source": [
        "import pandas as pd\n",
        "import matplotlib.pyplot as plt\n",
        "import numpy as np\n"
      ],
      "execution_count": 100,
      "outputs": []
    },
    {
      "cell_type": "code",
      "metadata": {
        "colab": {
          "base_uri": "https://localhost:8080/",
          "height": 235
        },
        "id": "aZBirP5WAIO_",
        "outputId": "ab74c2bc-2f93-4698-fe02-e0ff9f605384"
      },
      "source": [
        "df = pd.read_csv('/content/Electric_Production.csv',parse_dates=['DATE'],index_col= 'DATE')\n",
        "df.head()"
      ],
      "execution_count": 102,
      "outputs": [
        {
          "output_type": "execute_result",
          "data": {
            "text/html": [
              "<div>\n",
              "<style scoped>\n",
              "    .dataframe tbody tr th:only-of-type {\n",
              "        vertical-align: middle;\n",
              "    }\n",
              "\n",
              "    .dataframe tbody tr th {\n",
              "        vertical-align: top;\n",
              "    }\n",
              "\n",
              "    .dataframe thead th {\n",
              "        text-align: right;\n",
              "    }\n",
              "</style>\n",
              "<table border=\"1\" class=\"dataframe\">\n",
              "  <thead>\n",
              "    <tr style=\"text-align: right;\">\n",
              "      <th></th>\n",
              "      <th>IPG2211A2N</th>\n",
              "    </tr>\n",
              "    <tr>\n",
              "      <th>DATE</th>\n",
              "      <th></th>\n",
              "    </tr>\n",
              "  </thead>\n",
              "  <tbody>\n",
              "    <tr>\n",
              "      <th>1985-01-01</th>\n",
              "      <td>72.5052</td>\n",
              "    </tr>\n",
              "    <tr>\n",
              "      <th>1985-02-01</th>\n",
              "      <td>70.6720</td>\n",
              "    </tr>\n",
              "    <tr>\n",
              "      <th>1985-03-01</th>\n",
              "      <td>62.4502</td>\n",
              "    </tr>\n",
              "    <tr>\n",
              "      <th>1985-04-01</th>\n",
              "      <td>57.4714</td>\n",
              "    </tr>\n",
              "    <tr>\n",
              "      <th>1985-05-01</th>\n",
              "      <td>55.3151</td>\n",
              "    </tr>\n",
              "  </tbody>\n",
              "</table>\n",
              "</div>"
            ],
            "text/plain": [
              "            IPG2211A2N\n",
              "DATE                  \n",
              "1985-01-01     72.5052\n",
              "1985-02-01     70.6720\n",
              "1985-03-01     62.4502\n",
              "1985-04-01     57.4714\n",
              "1985-05-01     55.3151"
            ]
          },
          "metadata": {
            "tags": []
          },
          "execution_count": 102
        }
      ]
    },
    {
      "cell_type": "code",
      "metadata": {
        "colab": {
          "base_uri": "https://localhost:8080/"
        },
        "id": "CpdshBlKagcQ",
        "outputId": "572a6ee7-0f5a-4fc5-f934-5c421118adc8"
      },
      "source": [
        "df.isna().sum()"
      ],
      "execution_count": 118,
      "outputs": [
        {
          "output_type": "execute_result",
          "data": {
            "text/plain": [
              "Consumption    0\n",
              "dtype: int64"
            ]
          },
          "metadata": {
            "tags": []
          },
          "execution_count": 118
        }
      ]
    },
    {
      "cell_type": "code",
      "metadata": {
        "colab": {
          "base_uri": "https://localhost:8080/"
        },
        "id": "m0tn5TclJ0k2",
        "outputId": "98faa7d6-4a8b-4720-b15b-ecd8f84fdb6c"
      },
      "source": [
        "from sklearn.preprocessing import MinMaxScaler\n",
        "mnc = MinMaxScaler()\n",
        "mnc_df = mnc.fit_transform(df)\n",
        "mnc_df.shape"
      ],
      "execution_count": 121,
      "outputs": [
        {
          "output_type": "execute_result",
          "data": {
            "text/plain": [
              "(397, 1)"
            ]
          },
          "metadata": {
            "tags": []
          },
          "execution_count": 121
        }
      ]
    },
    {
      "cell_type": "code",
      "metadata": {
        "id": "m-CJ6Vm2E2JA"
      },
      "source": [
        ""
      ],
      "execution_count": 105,
      "outputs": []
    },
    {
      "cell_type": "code",
      "metadata": {
        "colab": {
          "base_uri": "https://localhost:8080/"
        },
        "id": "m8Y8SepyAetG",
        "outputId": "2fe9f2e6-3ab2-47d5-bc8c-eb7c6cb52dd6"
      },
      "source": [
        "train = mnc_df[:int(len(mnc_df) * 0.80)]\n",
        "test = mnc_df[int(len(mnc_df) * 0.80):]\n",
        "train.shape,test.shape\n"
      ],
      "execution_count": 122,
      "outputs": [
        {
          "output_type": "execute_result",
          "data": {
            "text/plain": [
              "((317, 1), (80, 1))"
            ]
          },
          "metadata": {
            "tags": []
          },
          "execution_count": 122
        }
      ]
    },
    {
      "cell_type": "code",
      "metadata": {
        "id": "68SWbIhwHED6"
      },
      "source": [
        "def feature_selection(n_steps,data):\n",
        "  x = []\n",
        "  y = []\n",
        "  for i in range(n_steps,len(data)):\n",
        "    x.append(data[i-n_steps:i,0])\n",
        "    y.append(data[i,0])\n",
        "  return np.array(x),np.array(y)\n"
      ],
      "execution_count": 126,
      "outputs": []
    },
    {
      "cell_type": "code",
      "metadata": {
        "colab": {
          "base_uri": "https://localhost:8080/"
        },
        "id": "FhmDAbW5KCIC",
        "outputId": "c8ca532b-5141-411e-9845-71d961ca394c"
      },
      "source": [
        "n_steps = 12\n",
        "x_train, y_train = feature_selection(n_steps,train)\n",
        "x_train.shape,y_train.shape"
      ],
      "execution_count": 127,
      "outputs": [
        {
          "output_type": "execute_result",
          "data": {
            "text/plain": [
              "((305, 12), (305,))"
            ]
          },
          "metadata": {
            "tags": []
          },
          "execution_count": 127
        }
      ]
    },
    {
      "cell_type": "code",
      "metadata": {
        "id": "a70hRW2TKPFJ",
        "colab": {
          "base_uri": "https://localhost:8080/"
        },
        "outputId": "1fb203d6-92d3-46d5-eb1e-66c595642ff3"
      },
      "source": [
        "x_test,y_test = feature_selection(n_steps,test)\n",
        "x_test.shape,y_test.shape"
      ],
      "execution_count": 128,
      "outputs": [
        {
          "output_type": "execute_result",
          "data": {
            "text/plain": [
              "((68, 12), (68,))"
            ]
          },
          "metadata": {
            "tags": []
          },
          "execution_count": 128
        }
      ]
    },
    {
      "cell_type": "code",
      "metadata": {
        "colab": {
          "base_uri": "https://localhost:8080/"
        },
        "id": "TAuelXr9fM_c",
        "outputId": "31b1131b-7480-49ed-ddd5-683cacb1129e"
      },
      "source": [
        "x_train = x_train.reshape(x_train.shape[0],x_train.shape[1],1)\n",
        "x_train.shape"
      ],
      "execution_count": 135,
      "outputs": [
        {
          "output_type": "execute_result",
          "data": {
            "text/plain": [
              "(305, 12, 1)"
            ]
          },
          "metadata": {
            "tags": []
          },
          "execution_count": 135
        }
      ]
    },
    {
      "cell_type": "code",
      "metadata": {
        "colab": {
          "base_uri": "https://localhost:8080/"
        },
        "id": "0wzZ_8VcbPIj",
        "outputId": "c0bae55a-ff3f-4e93-d30f-2adfb9266f73"
      },
      "source": [
        "from keras.layers import Dense,GRU\n",
        "from keras.models import Sequential\n",
        "model = Sequential()\n",
        "model.add(GRU(100,activation='relu',input_shape = (n_steps,1)))\n",
        "model.add(Dense(1))\n",
        "model.compile(optimizer='adam',loss = 'mean_squared_error')\n",
        "model.summary()"
      ],
      "execution_count": 253,
      "outputs": [
        {
          "output_type": "stream",
          "text": [
            "Model: \"sequential_8\"\n",
            "_________________________________________________________________\n",
            "Layer (type)                 Output Shape              Param #   \n",
            "=================================================================\n",
            "gru (GRU)                    (None, 100)               30900     \n",
            "_________________________________________________________________\n",
            "dense_6 (Dense)              (None, 1)                 101       \n",
            "=================================================================\n",
            "Total params: 31,001\n",
            "Trainable params: 31,001\n",
            "Non-trainable params: 0\n",
            "_________________________________________________________________\n"
          ],
          "name": "stdout"
        }
      ]
    },
    {
      "cell_type": "code",
      "metadata": {
        "id": "3eG68QsrevN_"
      },
      "source": [
        ""
      ],
      "execution_count": 253,
      "outputs": []
    },
    {
      "cell_type": "code",
      "metadata": {
        "colab": {
          "base_uri": "https://localhost:8080/"
        },
        "id": "LvyWJMWqd-Kj",
        "outputId": "3beaa77b-ebb9-4bbe-fd99-dff06da6c1ff"
      },
      "source": [
        "history = model.fit(x_train,y_train,epochs=100,batch_size=12)"
      ],
      "execution_count": 254,
      "outputs": [
        {
          "output_type": "stream",
          "text": [
            "Epoch 1/100\n",
            "26/26 [==============================] - 1s 8ms/step - loss: 0.1465\n",
            "Epoch 2/100\n",
            "26/26 [==============================] - 0s 9ms/step - loss: 0.0230\n",
            "Epoch 3/100\n",
            "26/26 [==============================] - 0s 8ms/step - loss: 0.0170\n",
            "Epoch 4/100\n",
            "26/26 [==============================] - 0s 8ms/step - loss: 0.0137\n",
            "Epoch 5/100\n",
            "26/26 [==============================] - 0s 8ms/step - loss: 0.0130\n",
            "Epoch 6/100\n",
            "26/26 [==============================] - 0s 8ms/step - loss: 0.0131\n",
            "Epoch 7/100\n",
            "26/26 [==============================] - 0s 8ms/step - loss: 0.0103\n",
            "Epoch 8/100\n",
            "26/26 [==============================] - 0s 8ms/step - loss: 0.0114\n",
            "Epoch 9/100\n",
            "26/26 [==============================] - 0s 9ms/step - loss: 0.0115\n",
            "Epoch 10/100\n",
            "26/26 [==============================] - 0s 8ms/step - loss: 0.0112\n",
            "Epoch 11/100\n",
            "26/26 [==============================] - 0s 8ms/step - loss: 0.0106\n",
            "Epoch 12/100\n",
            "26/26 [==============================] - 0s 9ms/step - loss: 0.0111\n",
            "Epoch 13/100\n",
            "26/26 [==============================] - 0s 8ms/step - loss: 0.0103\n",
            "Epoch 14/100\n",
            "26/26 [==============================] - 0s 8ms/step - loss: 0.0090\n",
            "Epoch 15/100\n",
            "26/26 [==============================] - 0s 8ms/step - loss: 0.0087\n",
            "Epoch 16/100\n",
            "26/26 [==============================] - 0s 8ms/step - loss: 0.0083\n",
            "Epoch 17/100\n",
            "26/26 [==============================] - 0s 9ms/step - loss: 0.0079\n",
            "Epoch 18/100\n",
            "26/26 [==============================] - 0s 8ms/step - loss: 0.0069\n",
            "Epoch 19/100\n",
            "26/26 [==============================] - 0s 8ms/step - loss: 0.0065\n",
            "Epoch 20/100\n",
            "26/26 [==============================] - 0s 8ms/step - loss: 0.0065\n",
            "Epoch 21/100\n",
            "26/26 [==============================] - 0s 8ms/step - loss: 0.0053\n",
            "Epoch 22/100\n",
            "26/26 [==============================] - 0s 9ms/step - loss: 0.0048\n",
            "Epoch 23/100\n",
            "26/26 [==============================] - 0s 8ms/step - loss: 0.0038\n",
            "Epoch 24/100\n",
            "26/26 [==============================] - 0s 8ms/step - loss: 0.0038\n",
            "Epoch 25/100\n",
            "26/26 [==============================] - 0s 8ms/step - loss: 0.0027\n",
            "Epoch 26/100\n",
            "26/26 [==============================] - 0s 8ms/step - loss: 0.0022\n",
            "Epoch 27/100\n",
            "26/26 [==============================] - 0s 8ms/step - loss: 0.0027\n",
            "Epoch 28/100\n",
            "26/26 [==============================] - 0s 8ms/step - loss: 0.0020\n",
            "Epoch 29/100\n",
            "26/26 [==============================] - 0s 8ms/step - loss: 0.0025\n",
            "Epoch 30/100\n",
            "26/26 [==============================] - 0s 8ms/step - loss: 0.0021\n",
            "Epoch 31/100\n",
            "26/26 [==============================] - 0s 9ms/step - loss: 0.0026\n",
            "Epoch 32/100\n",
            "26/26 [==============================] - 0s 9ms/step - loss: 0.0019\n",
            "Epoch 33/100\n",
            "26/26 [==============================] - 0s 8ms/step - loss: 0.0017\n",
            "Epoch 34/100\n",
            "26/26 [==============================] - 0s 8ms/step - loss: 0.0017\n",
            "Epoch 35/100\n",
            "26/26 [==============================] - 0s 8ms/step - loss: 0.0017\n",
            "Epoch 36/100\n",
            "26/26 [==============================] - 0s 8ms/step - loss: 0.0016\n",
            "Epoch 37/100\n",
            "26/26 [==============================] - 0s 8ms/step - loss: 0.0016\n",
            "Epoch 38/100\n",
            "26/26 [==============================] - 0s 8ms/step - loss: 0.0017\n",
            "Epoch 39/100\n",
            "26/26 [==============================] - 0s 8ms/step - loss: 0.0016\n",
            "Epoch 40/100\n",
            "26/26 [==============================] - 0s 9ms/step - loss: 0.0014\n",
            "Epoch 41/100\n",
            "26/26 [==============================] - 0s 8ms/step - loss: 0.0014\n",
            "Epoch 42/100\n",
            "26/26 [==============================] - 0s 8ms/step - loss: 0.0014\n",
            "Epoch 43/100\n",
            "26/26 [==============================] - 0s 8ms/step - loss: 0.0019\n",
            "Epoch 44/100\n",
            "26/26 [==============================] - 0s 8ms/step - loss: 0.0017\n",
            "Epoch 45/100\n",
            "26/26 [==============================] - 0s 8ms/step - loss: 0.0013\n",
            "Epoch 46/100\n",
            "26/26 [==============================] - 0s 8ms/step - loss: 0.0015\n",
            "Epoch 47/100\n",
            "26/26 [==============================] - 0s 8ms/step - loss: 0.0017\n",
            "Epoch 48/100\n",
            "26/26 [==============================] - 0s 8ms/step - loss: 0.0019\n",
            "Epoch 49/100\n",
            "26/26 [==============================] - 0s 8ms/step - loss: 0.0023\n",
            "Epoch 50/100\n",
            "26/26 [==============================] - 0s 9ms/step - loss: 0.0017\n",
            "Epoch 51/100\n",
            "26/26 [==============================] - 0s 8ms/step - loss: 0.0022\n",
            "Epoch 52/100\n",
            "26/26 [==============================] - 0s 8ms/step - loss: 0.0022\n",
            "Epoch 53/100\n",
            "26/26 [==============================] - 0s 8ms/step - loss: 0.0018\n",
            "Epoch 54/100\n",
            "26/26 [==============================] - 0s 8ms/step - loss: 0.0013\n",
            "Epoch 55/100\n",
            "26/26 [==============================] - 0s 9ms/step - loss: 0.0012\n",
            "Epoch 56/100\n",
            "26/26 [==============================] - 0s 8ms/step - loss: 0.0015\n",
            "Epoch 57/100\n",
            "26/26 [==============================] - 0s 8ms/step - loss: 0.0015\n",
            "Epoch 58/100\n",
            "26/26 [==============================] - 0s 8ms/step - loss: 0.0013\n",
            "Epoch 59/100\n",
            "26/26 [==============================] - 0s 9ms/step - loss: 0.0014\n",
            "Epoch 60/100\n",
            "26/26 [==============================] - 0s 8ms/step - loss: 0.0015\n",
            "Epoch 61/100\n",
            "26/26 [==============================] - 0s 8ms/step - loss: 0.0018\n",
            "Epoch 62/100\n",
            "26/26 [==============================] - 0s 8ms/step - loss: 0.0017\n",
            "Epoch 63/100\n",
            "26/26 [==============================] - 0s 8ms/step - loss: 0.0015\n",
            "Epoch 64/100\n",
            "26/26 [==============================] - 0s 8ms/step - loss: 0.0013\n",
            "Epoch 65/100\n",
            "26/26 [==============================] - 0s 8ms/step - loss: 0.0012\n",
            "Epoch 66/100\n",
            "26/26 [==============================] - 0s 8ms/step - loss: 0.0019\n",
            "Epoch 67/100\n",
            "26/26 [==============================] - 0s 9ms/step - loss: 0.0012\n",
            "Epoch 68/100\n",
            "26/26 [==============================] - 0s 9ms/step - loss: 0.0014\n",
            "Epoch 69/100\n",
            "26/26 [==============================] - 0s 8ms/step - loss: 0.0015\n",
            "Epoch 70/100\n",
            "26/26 [==============================] - 0s 8ms/step - loss: 0.0014\n",
            "Epoch 71/100\n",
            "26/26 [==============================] - 0s 8ms/step - loss: 0.0015\n",
            "Epoch 72/100\n",
            "26/26 [==============================] - 0s 8ms/step - loss: 0.0015\n",
            "Epoch 73/100\n",
            "26/26 [==============================] - 0s 8ms/step - loss: 0.0015\n",
            "Epoch 74/100\n",
            "26/26 [==============================] - 0s 8ms/step - loss: 0.0016\n",
            "Epoch 75/100\n",
            "26/26 [==============================] - 0s 8ms/step - loss: 0.0014\n",
            "Epoch 76/100\n",
            "26/26 [==============================] - 0s 8ms/step - loss: 0.0013\n",
            "Epoch 77/100\n",
            "26/26 [==============================] - 0s 8ms/step - loss: 0.0016\n",
            "Epoch 78/100\n",
            "26/26 [==============================] - 0s 8ms/step - loss: 0.0013\n",
            "Epoch 79/100\n",
            "26/26 [==============================] - 0s 8ms/step - loss: 0.0015\n",
            "Epoch 80/100\n",
            "26/26 [==============================] - 0s 8ms/step - loss: 0.0015\n",
            "Epoch 81/100\n",
            "26/26 [==============================] - 0s 9ms/step - loss: 0.0015\n",
            "Epoch 82/100\n",
            "26/26 [==============================] - 0s 8ms/step - loss: 0.0017\n",
            "Epoch 83/100\n",
            "26/26 [==============================] - 0s 8ms/step - loss: 0.0012\n",
            "Epoch 84/100\n",
            "26/26 [==============================] - 0s 8ms/step - loss: 0.0016\n",
            "Epoch 85/100\n",
            "26/26 [==============================] - 0s 8ms/step - loss: 0.0014\n",
            "Epoch 86/100\n",
            "26/26 [==============================] - 0s 9ms/step - loss: 0.0017\n",
            "Epoch 87/100\n",
            "26/26 [==============================] - 0s 9ms/step - loss: 0.0015\n",
            "Epoch 88/100\n",
            "26/26 [==============================] - 0s 8ms/step - loss: 0.0017\n",
            "Epoch 89/100\n",
            "26/26 [==============================] - 0s 9ms/step - loss: 0.0017\n",
            "Epoch 90/100\n",
            "26/26 [==============================] - 0s 9ms/step - loss: 0.0022\n",
            "Epoch 91/100\n",
            "26/26 [==============================] - 0s 9ms/step - loss: 0.0024\n",
            "Epoch 92/100\n",
            "26/26 [==============================] - 0s 9ms/step - loss: 0.0014\n",
            "Epoch 93/100\n",
            "26/26 [==============================] - 0s 8ms/step - loss: 0.0015\n",
            "Epoch 94/100\n",
            "26/26 [==============================] - 0s 8ms/step - loss: 0.0018\n",
            "Epoch 95/100\n",
            "26/26 [==============================] - 0s 8ms/step - loss: 0.0018\n",
            "Epoch 96/100\n",
            "26/26 [==============================] - 0s 9ms/step - loss: 0.0014\n",
            "Epoch 97/100\n",
            "26/26 [==============================] - 0s 9ms/step - loss: 0.0015\n",
            "Epoch 98/100\n",
            "26/26 [==============================] - 0s 9ms/step - loss: 0.0014\n",
            "Epoch 99/100\n",
            "26/26 [==============================] - 0s 8ms/step - loss: 0.0014\n",
            "Epoch 100/100\n",
            "26/26 [==============================] - 0s 8ms/step - loss: 0.0014\n"
          ],
          "name": "stdout"
        }
      ]
    },
    {
      "cell_type": "code",
      "metadata": {
        "colab": {
          "base_uri": "https://localhost:8080/",
          "height": 282
        },
        "id": "LIcn2CReeouZ",
        "outputId": "9751697b-831e-48fd-e3d4-89fd8ec1c5e3"
      },
      "source": [
        "plt.plot(history.history['loss'])"
      ],
      "execution_count": 255,
      "outputs": [
        {
          "output_type": "execute_result",
          "data": {
            "text/plain": [
              "[<matplotlib.lines.Line2D at 0x7f77cb3aad10>]"
            ]
          },
          "metadata": {
            "tags": []
          },
          "execution_count": 255
        },
        {
          "output_type": "display_data",
          "data": {
            "image/png": "[encoded data removed]",
            "text/plain": [
              "<Figure size 432x288 with 1 Axes>"
            ]
          },
          "metadata": {
            "tags": [],
            "needs_background": "light"
          }
        }
      ]
    },
    {
      "cell_type": "code",
      "metadata": {
        "id": "zseEn-Tpf1_2"
      },
      "source": [
        "x_test = x_test.reshape(x_test.shape[0],x_test.shape[1],1)"
      ],
      "execution_count": 256,
      "outputs": []
    },
    {
      "cell_type": "code",
      "metadata": {
        "id": "J5mJE3fNfkG7"
      },
      "source": [
        "train_predict = model.predict(x_train)\n",
        "test_predict = model.predict(x_test)\n",
        "# test_predict.shape[0]+train_predict.shape[0]\n",
        "# (train_predict)\n",
        "# mnc.inverse_transform(mnc_df)"
      ],
      "execution_count": 259,
      "outputs": []
    },
    {
      "cell_type": "code",
      "metadata": {
        "colab": {
          "base_uri": "https://localhost:8080/"
        },
        "id": "tLxsGxGOfzTF",
        "outputId": "8653c50d-0a7b-435c-8a5b-4b89b4761975"
      },
      "source": [
        "from sklearn.metrics import r2_score\n",
        "train_predict = mnc.inverse_transform(train_predict)\n",
        "trainY = mnc.inverse_transform(y_train.reshape(-1,1))\n",
        "print(f'Train Dataset Score {r2_score(trainY,train_predict)}')"
      ],
      "execution_count": 260,
      "outputs": [
        {
          "output_type": "stream",
          "text": [
            "Train Dataset Score 0.963204320916738\n"
          ],
          "name": "stdout"
        }
      ]
    },
    {
      "cell_type": "code",
      "metadata": {
        "colab": {
          "base_uri": "https://localhost:8080/"
        },
        "id": "vc8bZvZQg15l",
        "outputId": "f89e783d-ff2c-4f03-afca-7446ec76bce2"
      },
      "source": [
        "test_predict = mnc.inverse_transform(test_predict)\n",
        "testY = mnc.inverse_transform(y_test.reshape(-1,1))\n",
        "print(f'Train Dataset Score {r2_score(testY,test_predict)}')"
      ],
      "execution_count": 261,
      "outputs": [
        {
          "output_type": "stream",
          "text": [
            "Train Dataset Score 0.8304041529172304\n"
          ],
          "name": "stdout"
        }
      ]
    },
    {
      "cell_type": "code",
      "metadata": {
        "id": "6IfKfYxvj6gk"
      },
      "source": [
        "new_test_predict = np.empty_like(df)\n",
        "new_test_predict[:,:]= np.nan\n",
        "new_test_predict[len(train_predict):397 - 24] = test_predict\n",
        "# new_test_predict"
      ],
      "execution_count": 262,
      "outputs": []
    },
    {
      "cell_type": "code",
      "metadata": {
        "id": "VWU8P7mpo5Iy"
      },
      "source": [
        "# # df.index[:len(train_predict)]\n",
        "# train_predict_dataframe = pd.DataFrame({'DATE':df.index[:len(train_predict)],'consumed':mnc.fit_transform(train_predict).flatten()}).set_index('DATE')\n",
        "# mnc.inverse_transform(train_predict)"
      ],
      "execution_count": 263,
      "outputs": []
    },
    {
      "cell_type": "code",
      "metadata": {
        "colab": {
          "base_uri": "https://localhost:8080/",
          "height": 445
        },
        "id": "gjWpevoth0GZ",
        "outputId": "efb90e6f-7f8c-4f3b-ed28-303e8270e24d"
      },
      "source": [
        "plt.figure(figsize = (10,7))\n",
        "plt.plot((mnc_df))\n",
        "# plt.plot(mnc.fit_transform(train_predict_dataframe))\n",
        "plt.plot(mnc.fit_transform(train_predict))\n",
        "\n",
        "plt.plot(mnc.fit_transform(new_test_predict))\n"
      ],
      "execution_count": 264,
      "outputs": [
        {
          "output_type": "execute_result",
          "data": {
            "text/plain": [
              "[<matplotlib.lines.Line2D at 0x7f77caa8cd50>]"
            ]
          },
          "metadata": {
            "tags": []
          },
          "execution_count": 264
        },
        {
          "output_type": "display_data",
          "data": {
            "image/png": "[encoded data removed]",
            "text/plain": [
              "<Figure size 720x504 with 1 Axes>"
            ]
          },
          "metadata": {
            "tags": [],
            "needs_background": "light"
          }
        }
      ]
    },
    {
      "cell_type": "code",
      "metadata": {
        "id": "-fr0r76JiPQD"
      },
      "source": [
        "# "
      ],
      "execution_count": 231,
      "outputs": []
    },
    {
      "cell_type": "code",
      "metadata": {
        "id": "peCKMJU5jA3h"
      },
      "source": [
        ""
      ],
      "execution_count": null,
      "outputs": []
    }
  ]
}