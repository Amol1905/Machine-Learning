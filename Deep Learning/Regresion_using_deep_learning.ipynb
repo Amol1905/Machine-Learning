{
  "nbformat": 4,
  "nbformat_minor": 0,
  "metadata": {
    "colab": {
      "name": "Regresion_using_deep_learning.ipynb",
      "provenance": []
    },
    "kernelspec": {
      "name": "python3",
      "display_name": "Python 3"
    },
    "language_info": {
      "name": "python"
    }
  },
  "cells": [
    {
      "cell_type": "code",
      "metadata": {
        "id": "Pv94S4joAOBm"
      },
      "source": [
        "import pandas as pd\n",
        "import numpy as np\n",
        "import seaborn as sns\n",
        "import matplotlib.pyplot as plt\n"
      ],
      "execution_count": 46,
      "outputs": []
    },
    {
      "cell_type": "code",
      "metadata": {
        "id": "7NOf28irAR9f"
      },
      "source": [
        "\n",
        "df = pd.read_csv('/content/sample_data/california_housing_train.csv')"
      ],
      "execution_count": 47,
      "outputs": []
    },
    {
      "cell_type": "code",
      "metadata": {
        "colab": {
          "base_uri": "https://localhost:8080/",
          "height": 224
        },
        "id": "_aMReNtlIiXX",
        "outputId": "73b16e9c-4cd6-474d-be22-c39ab37d6840"
      },
      "source": [
        "df.head()"
      ],
      "execution_count": 48,
      "outputs": [
        {
          "output_type": "execute_result",
          "data": {
            "text/html": [
              "<div>\n",
              "<style scoped>\n",
              "    .dataframe tbody tr th:only-of-type {\n",
              "        vertical-align: middle;\n",
              "    }\n",
              "\n",
              "    .dataframe tbody tr th {\n",
              "        vertical-align: top;\n",
              "    }\n",
              "\n",
              "    .dataframe thead th {\n",
              "        text-align: right;\n",
              "    }\n",
              "</style>\n",
              "<table border=\"1\" class=\"dataframe\">\n",
              "  <thead>\n",
              "    <tr style=\"text-align: right;\">\n",
              "      <th></th>\n",
              "      <th>longitude</th>\n",
              "      <th>latitude</th>\n",
              "      <th>housing_median_age</th>\n",
              "      <th>total_rooms</th>\n",
              "      <th>total_bedrooms</th>\n",
              "      <th>population</th>\n",
              "      <th>households</th>\n",
              "      <th>median_income</th>\n",
              "      <th>median_house_value</th>\n",
              "    </tr>\n",
              "  </thead>\n",
              "  <tbody>\n",
              "    <tr>\n",
              "      <th>0</th>\n",
              "      <td>-114.31</td>\n",
              "      <td>34.19</td>\n",
              "      <td>15.0</td>\n",
              "      <td>5612.0</td>\n",
              "      <td>1283.0</td>\n",
              "      <td>1015.0</td>\n",
              "      <td>472.0</td>\n",
              "      <td>1.4936</td>\n",
              "      <td>66900.0</td>\n",
              "    </tr>\n",
              "    <tr>\n",
              "      <th>1</th>\n",
              "      <td>-114.47</td>\n",
              "      <td>34.40</td>\n",
              "      <td>19.0</td>\n",
              "      <td>7650.0</td>\n",
              "      <td>1901.0</td>\n",
              "      <td>1129.0</td>\n",
              "      <td>463.0</td>\n",
              "      <td>1.8200</td>\n",
              "      <td>80100.0</td>\n",
              "    </tr>\n",
              "    <tr>\n",
              "      <th>2</th>\n",
              "      <td>-114.56</td>\n",
              "      <td>33.69</td>\n",
              "      <td>17.0</td>\n",
              "      <td>720.0</td>\n",
              "      <td>174.0</td>\n",
              "      <td>333.0</td>\n",
              "      <td>117.0</td>\n",
              "      <td>1.6509</td>\n",
              "      <td>85700.0</td>\n",
              "    </tr>\n",
              "    <tr>\n",
              "      <th>3</th>\n",
              "      <td>-114.57</td>\n",
              "      <td>33.64</td>\n",
              "      <td>14.0</td>\n",
              "      <td>1501.0</td>\n",
              "      <td>337.0</td>\n",
              "      <td>515.0</td>\n",
              "      <td>226.0</td>\n",
              "      <td>3.1917</td>\n",
              "      <td>73400.0</td>\n",
              "    </tr>\n",
              "    <tr>\n",
              "      <th>4</th>\n",
              "      <td>-114.57</td>\n",
              "      <td>33.57</td>\n",
              "      <td>20.0</td>\n",
              "      <td>1454.0</td>\n",
              "      <td>326.0</td>\n",
              "      <td>624.0</td>\n",
              "      <td>262.0</td>\n",
              "      <td>1.9250</td>\n",
              "      <td>65500.0</td>\n",
              "    </tr>\n",
              "  </tbody>\n",
              "</table>\n",
              "</div>"
            ],
            "text/plain": [
              "   longitude  latitude  ...  median_income  median_house_value\n",
              "0    -114.31     34.19  ...         1.4936             66900.0\n",
              "1    -114.47     34.40  ...         1.8200             80100.0\n",
              "2    -114.56     33.69  ...         1.6509             85700.0\n",
              "3    -114.57     33.64  ...         3.1917             73400.0\n",
              "4    -114.57     33.57  ...         1.9250             65500.0\n",
              "\n",
              "[5 rows x 9 columns]"
            ]
          },
          "metadata": {
            "tags": []
          },
          "execution_count": 48
        }
      ]
    },
    {
      "cell_type": "code",
      "metadata": {
        "id": "sOG49YjtImXi"
      },
      "source": [
        "x = df.drop(columns = ['median_house_value'])\n",
        "y = df['median_house_value']\n"
      ],
      "execution_count": 49,
      "outputs": []
    },
    {
      "cell_type": "code",
      "metadata": {
        "id": "TFZoPmTZJGsM"
      },
      "source": [
        "from keras.models import Sequential\n",
        "from keras.layers import Dense\n",
        "from sklearn.preprocessing import StandardScaler\n",
        "from sklearn.model_selection import train_test_split\n",
        "sc = StandardScaler()\n",
        "xtrain,xtest,ytrain,ytest = train_test_split(x,y,test_size = 0.25)\n",
        "sc.fit(xtrain)\n",
        "sc_xtrain = sc.transform(xtrain)\n",
        "sc_xtest = sc.transform(xtest)\n"
      ],
      "execution_count": 50,
      "outputs": []
    },
    {
      "cell_type": "code",
      "metadata": {
        "id": "pT3gQv4IKJk5"
      },
      "source": [
        "model = Sequential()\n",
        "model.add(Dense(12,activation='relu',input_dim = 8))\n",
        "model.add(Dense(10,activation='relu'))\n",
        "model.add(Dense(1,activation='linear'))\n"
      ],
      "execution_count": 51,
      "outputs": []
    },
    {
      "cell_type": "code",
      "metadata": {
        "colab": {
          "base_uri": "https://localhost:8080/"
        },
        "id": "ciF7RQDfKoQD",
        "outputId": "a584e01a-2509-4a98-fc86-dc14bca4abb0"
      },
      "source": [
        "model.summary()"
      ],
      "execution_count": 52,
      "outputs": [
        {
          "output_type": "stream",
          "text": [
            "Model: \"sequential_1\"\n",
            "_________________________________________________________________\n",
            "Layer (type)                 Output Shape              Param #   \n",
            "=================================================================\n",
            "dense_3 (Dense)              (None, 12)                108       \n",
            "_________________________________________________________________\n",
            "dense_4 (Dense)              (None, 10)                130       \n",
            "_________________________________________________________________\n",
            "dense_5 (Dense)              (None, 1)                 11        \n",
            "=================================================================\n",
            "Total params: 249\n",
            "Trainable params: 249\n",
            "Non-trainable params: 0\n",
            "_________________________________________________________________\n"
          ],
          "name": "stdout"
        }
      ]
    },
    {
      "cell_type": "code",
      "metadata": {
        "id": "3SveFnRTKqJ1"
      },
      "source": [
        "from keras.optimizers import SGD\n",
        "# model.evaluate(sc_xtrain,ytrain,batch_size=10,epochs = )\n",
        "model.compile(loss = 'mean_absolute_error',optimizer= SGD(),metrics=['accuracy'])\n"
      ],
      "execution_count": 57,
      "outputs": []
    },
    {
      "cell_type": "code",
      "metadata": {
        "colab": {
          "base_uri": "https://localhost:8080/"
        },
        "id": "IWAKYYnFLmVS",
        "outputId": "6885cfa3-74cd-4185-8496-7f4a46eb2047"
      },
      "source": [
        "history = model.fit(sc_xtrain,ytrain,epochs= 25,batch_size=10)"
      ],
      "execution_count": 58,
      "outputs": [
        {
          "output_type": "stream",
          "text": [
            "Epoch 1/25\n",
            "1275/1275 [==============================] - 2s 953us/step - loss: 89467.2057 - accuracy: 0.0000e+00\n",
            "Epoch 2/25\n",
            "1275/1275 [==============================] - 1s 999us/step - loss: 88050.5829 - accuracy: 0.0000e+00\n",
            "Epoch 3/25\n",
            "1275/1275 [==============================] - 1s 965us/step - loss: 89080.1480 - accuracy: 0.0000e+00\n",
            "Epoch 4/25\n",
            "1275/1275 [==============================] - 1s 956us/step - loss: 89241.8872 - accuracy: 0.0000e+00\n",
            "Epoch 5/25\n",
            "1275/1275 [==============================] - 1s 964us/step - loss: 88962.2618 - accuracy: 0.0000e+00\n",
            "Epoch 6/25\n",
            "1275/1275 [==============================] - 1s 946us/step - loss: 89389.1690 - accuracy: 0.0000e+00\n",
            "Epoch 7/25\n",
            "1275/1275 [==============================] - 1s 972us/step - loss: 89435.4475 - accuracy: 0.0000e+00\n",
            "Epoch 8/25\n",
            "1275/1275 [==============================] - 1s 957us/step - loss: 88758.5995 - accuracy: 0.0000e+00\n",
            "Epoch 9/25\n",
            "1275/1275 [==============================] - 1s 972us/step - loss: 88520.1208 - accuracy: 0.0000e+00\n",
            "Epoch 10/25\n",
            "1275/1275 [==============================] - 1s 975us/step - loss: 88058.8565 - accuracy: 0.0000e+00\n",
            "Epoch 11/25\n",
            "1275/1275 [==============================] - 1s 963us/step - loss: 88620.9578 - accuracy: 0.0000e+00\n",
            "Epoch 12/25\n",
            "1275/1275 [==============================] - 1s 955us/step - loss: 87278.7374 - accuracy: 0.0000e+00\n",
            "Epoch 13/25\n",
            "1275/1275 [==============================] - 1s 950us/step - loss: 88846.4832 - accuracy: 0.0000e+00\n",
            "Epoch 14/25\n",
            "1275/1275 [==============================] - 1s 956us/step - loss: 89108.1032 - accuracy: 0.0000e+00\n",
            "Epoch 15/25\n",
            "1275/1275 [==============================] - 1s 949us/step - loss: 89253.8943 - accuracy: 0.0000e+00\n",
            "Epoch 16/25\n",
            "1275/1275 [==============================] - 1s 970us/step - loss: 88880.0481 - accuracy: 0.0000e+00\n",
            "Epoch 17/25\n",
            "1275/1275 [==============================] - 1s 968us/step - loss: 88805.6538 - accuracy: 0.0000e+00\n",
            "Epoch 18/25\n",
            "1275/1275 [==============================] - 1s 956us/step - loss: 86712.0065 - accuracy: 0.0000e+00\n",
            "Epoch 19/25\n",
            "1275/1275 [==============================] - 1s 957us/step - loss: 90708.6368 - accuracy: 0.0000e+00\n",
            "Epoch 20/25\n",
            "1275/1275 [==============================] - 1s 973us/step - loss: 88763.2258 - accuracy: 0.0000e+00\n",
            "Epoch 21/25\n",
            "1275/1275 [==============================] - 1s 944us/step - loss: 88669.6807 - accuracy: 0.0000e+00\n",
            "Epoch 22/25\n",
            "1275/1275 [==============================] - 1s 1ms/step - loss: 89489.2486 - accuracy: 0.0000e+00\n",
            "Epoch 23/25\n",
            "1275/1275 [==============================] - 1s 966us/step - loss: 89860.7536 - accuracy: 0.0000e+00\n",
            "Epoch 24/25\n",
            "1275/1275 [==============================] - 1s 981us/step - loss: 88552.8877 - accuracy: 0.0000e+00\n",
            "Epoch 25/25\n",
            "1275/1275 [==============================] - 1s 985us/step - loss: 90240.3007 - accuracy: 0.0000e+00\n"
          ],
          "name": "stdout"
        }
      ]
    },
    {
      "cell_type": "code",
      "metadata": {
        "colab": {
          "base_uri": "https://localhost:8080/"
        },
        "id": "QigE7PUFLxFE",
        "outputId": "12fcd795-95c7-4d8b-9b5b-e1f5f68245db"
      },
      "source": [
        "loss,acc = model.evaluate(sc_xtrain,sc_xtrain)"
      ],
      "execution_count": 55,
      "outputs": [
        {
          "output_type": "stream",
          "text": [
            "399/399 [==============================] - 0s 852us/step - loss: 176073.8906 - mse: 31002134528.0000\n"
          ],
          "name": "stdout"
        }
      ]
    },
    {
      "cell_type": "code",
      "metadata": {
        "colab": {
          "base_uri": "https://localhost:8080/"
        },
        "id": "qsMUpeRIMGoz",
        "outputId": "82385e56-cde0-40ec-dbdd-df644c968e5c"
      },
      "source": [
        "loss,acc"
      ],
      "execution_count": 56,
      "outputs": [
        {
          "output_type": "execute_result",
          "data": {
            "text/plain": [
              "(176073.890625, 31002134528.0)"
            ]
          },
          "metadata": {
            "tags": []
          },
          "execution_count": 56
        }
      ]
    },
    {
      "cell_type": "code",
      "metadata": {
        "colab": {
          "base_uri": "https://localhost:8080/",
          "height": 282
        },
        "id": "G3tEp10AMHlh",
        "outputId": "022ebe44-0fcb-4dd4-ef7e-7437af4d3a76"
      },
      "source": [
        "plt.plot(history.history['loss'])"
      ],
      "execution_count": 19,
      "outputs": [
        {
          "output_type": "execute_result",
          "data": {
            "text/plain": [
              "[<matplotlib.lines.Line2D at 0x7f1f128db2d0>]"
            ]
          },
          "metadata": {
            "tags": []
          },
          "execution_count": 19
        },
        {
          "output_type": "display_data",
          "data": {
            "image/png": "[encoded data removed]",
            "text/plain": [
              "<Figure size 432x288 with 1 Axes>"
            ]
          },
          "metadata": {
            "tags": [],
            "needs_background": "light"
          }
        }
      ]
    },
    {
      "cell_type": "code",
      "metadata": {
        "colab": {
          "base_uri": "https://localhost:8080/",
          "height": 293
        },
        "id": "Rt_IZ7h0MaPR",
        "outputId": "c270628b-1f61-4038-88d5-9d2e3101858e"
      },
      "source": [
        "plt.plot(history.history['mse'])\n"
      ],
      "execution_count": 20,
      "outputs": [
        {
          "output_type": "execute_result",
          "data": {
            "text/plain": [
              "[<matplotlib.lines.Line2D at 0x7f1f128450d0>]"
            ]
          },
          "metadata": {
            "tags": []
          },
          "execution_count": 20
        },
        {
          "output_type": "display_data",
          "data": {
            "image/png": "[encoded data removed]",
            "text/plain": [
              "<Figure size 432x288 with 1 Axes>"
            ]
          },
          "metadata": {
            "tags": [],
            "needs_background": "light"
          }
        }
      ]
    },
    {
      "cell_type": "code",
      "metadata": {
        "colab": {
          "base_uri": "https://localhost:8080/"
        },
        "id": "DmbgxygaNrRk",
        "outputId": "2c615a49-4f2b-43f5-e341-d37545eb1c84"
      },
      "source": [
        "ypred = model.predict(sc_xtrain)\n",
        "ypred"
      ],
      "execution_count": 45,
      "outputs": [
        {
          "output_type": "execute_result",
          "data": {
            "text/plain": [
              "array([[175984.56],\n",
              "       [175984.56],\n",
              "       [175984.56],\n",
              "       ...,\n",
              "       [175984.56],\n",
              "       [175984.56],\n",
              "       [175984.56]], dtype=float32)"
            ]
          },
          "metadata": {
            "tags": []
          },
          "execution_count": 45
        }
      ]
    },
    {
      "cell_type": "code",
      "metadata": {
        "colab": {
          "base_uri": "https://localhost:8080/"
        },
        "id": "amhcFZ5FOARv",
        "outputId": "ca9fd35a-83da-4978-e868-82a9ab61bfc1"
      },
      "source": [
        "ytest"
      ],
      "execution_count": 35,
      "outputs": [
        {
          "output_type": "execute_result",
          "data": {
            "text/plain": [
              "6387     117700.0\n",
              "5879     118100.0\n",
              "15844    275000.0\n",
              "6405      89800.0\n",
              "7138     282100.0\n",
              "           ...   \n",
              "2830     251300.0\n",
              "6964     115200.0\n",
              "8676     500001.0\n",
              "15358    182600.0\n",
              "6411      95400.0\n",
              "Name: median_house_value, Length: 4250, dtype: float64"
            ]
          },
          "metadata": {
            "tags": []
          },
          "execution_count": 35
        }
      ]
    },
    {
      "cell_type": "code",
      "metadata": {
        "colab": {
          "base_uri": "https://localhost:8080/",
          "height": 419
        },
        "id": "_rcxVYqWOEUm",
        "outputId": "c27ce062-6f23-4f42-858f-9652e887b1cd"
      },
      "source": [
        "result = pd.DataFrame({'Actual':ytest,'Predicted':ypred.flatten()})\n",
        "result"
      ],
      "execution_count": 44,
      "outputs": [
        {
          "output_type": "execute_result",
          "data": {
            "text/html": [
              "<div>\n",
              "<style scoped>\n",
              "    .dataframe tbody tr th:only-of-type {\n",
              "        vertical-align: middle;\n",
              "    }\n",
              "\n",
              "    .dataframe tbody tr th {\n",
              "        vertical-align: top;\n",
              "    }\n",
              "\n",
              "    .dataframe thead th {\n",
              "        text-align: right;\n",
              "    }\n",
              "</style>\n",
              "<table border=\"1\" class=\"dataframe\">\n",
              "  <thead>\n",
              "    <tr style=\"text-align: right;\">\n",
              "      <th></th>\n",
              "      <th>Actual</th>\n",
              "      <th>Predicted</th>\n",
              "    </tr>\n",
              "  </thead>\n",
              "  <tbody>\n",
              "    <tr>\n",
              "      <th>6387</th>\n",
              "      <td>117700.0</td>\n",
              "      <td>175984.5625</td>\n",
              "    </tr>\n",
              "    <tr>\n",
              "      <th>5879</th>\n",
              "      <td>118100.0</td>\n",
              "      <td>175984.5625</td>\n",
              "    </tr>\n",
              "    <tr>\n",
              "      <th>15844</th>\n",
              "      <td>275000.0</td>\n",
              "      <td>175984.5625</td>\n",
              "    </tr>\n",
              "    <tr>\n",
              "      <th>6405</th>\n",
              "      <td>89800.0</td>\n",
              "      <td>175984.5625</td>\n",
              "    </tr>\n",
              "    <tr>\n",
              "      <th>7138</th>\n",
              "      <td>282100.0</td>\n",
              "      <td>175984.5625</td>\n",
              "    </tr>\n",
              "    <tr>\n",
              "      <th>...</th>\n",
              "      <td>...</td>\n",
              "      <td>...</td>\n",
              "    </tr>\n",
              "    <tr>\n",
              "      <th>2830</th>\n",
              "      <td>251300.0</td>\n",
              "      <td>175984.5625</td>\n",
              "    </tr>\n",
              "    <tr>\n",
              "      <th>6964</th>\n",
              "      <td>115200.0</td>\n",
              "      <td>175984.5625</td>\n",
              "    </tr>\n",
              "    <tr>\n",
              "      <th>8676</th>\n",
              "      <td>500001.0</td>\n",
              "      <td>175984.5625</td>\n",
              "    </tr>\n",
              "    <tr>\n",
              "      <th>15358</th>\n",
              "      <td>182600.0</td>\n",
              "      <td>175984.5625</td>\n",
              "    </tr>\n",
              "    <tr>\n",
              "      <th>6411</th>\n",
              "      <td>95400.0</td>\n",
              "      <td>175984.5625</td>\n",
              "    </tr>\n",
              "  </tbody>\n",
              "</table>\n",
              "<p>4250 rows × 2 columns</p>\n",
              "</div>"
            ],
            "text/plain": [
              "         Actual    Predicted\n",
              "6387   117700.0  175984.5625\n",
              "5879   118100.0  175984.5625\n",
              "15844  275000.0  175984.5625\n",
              "6405    89800.0  175984.5625\n",
              "7138   282100.0  175984.5625\n",
              "...         ...          ...\n",
              "2830   251300.0  175984.5625\n",
              "6964   115200.0  175984.5625\n",
              "8676   500001.0  175984.5625\n",
              "15358  182600.0  175984.5625\n",
              "6411    95400.0  175984.5625\n",
              "\n",
              "[4250 rows x 2 columns]"
            ]
          },
          "metadata": {
            "tags": []
          },
          "execution_count": 44
        }
      ]
    },
    {
      "cell_type": "code",
      "metadata": {
        "colab": {
          "base_uri": "https://localhost:8080/"
        },
        "id": "zD1DnLeKOQec",
        "outputId": "a65564eb-4dbf-4d02-e2bc-0f327594983a"
      },
      "source": [
        "ytest.shape,ypred.shape"
      ],
      "execution_count": 37,
      "outputs": [
        {
          "output_type": "execute_result",
          "data": {
            "text/plain": [
              "((4250,), (4250, 1))"
            ]
          },
          "metadata": {
            "tags": []
          },
          "execution_count": 37
        }
      ]
    },
    {
      "cell_type": "code",
      "metadata": {
        "id": "uh5O1Ev5POUl"
      },
      "source": [
        ""
      ],
      "execution_count": null,
      "outputs": []
    }
  ]
}