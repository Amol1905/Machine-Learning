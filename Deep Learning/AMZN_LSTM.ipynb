{
 "cells": [
  {
   "cell_type": "code",
   "execution_count": null,
   "metadata": {
    "id": "q8pUDc0_3Z6G"
   },
   "outputs": [],
   "source": [
    "import pandas as pd\n",
    "import matplotlib.pyplot as plt\n",
    "import numpy as np\n"
   ]
  },
  {
   "cell_type": "code",
   "execution_count": 3,
   "metadata": {
    "colab": {
     "base_uri": "https://localhost:8080/",
     "height": 235
    },
    "id": "I08ttMZN3ltU",
    "outputId": "5770cdb8-587d-43d5-a4e8-83f982098d7c"
   },
   "outputs": [
    {
     "data": {
      "text/html": [
       "<div>\n",
       "<style scoped>\n",
       "    .dataframe tbody tr th:only-of-type {\n",
       "        vertical-align: middle;\n",
       "    }\n",
       "\n",
       "    .dataframe tbody tr th {\n",
       "        vertical-align: top;\n",
       "    }\n",
       "\n",
       "    .dataframe thead th {\n",
       "        text-align: right;\n",
       "    }\n",
       "</style>\n",
       "<table border=\"1\" class=\"dataframe\">\n",
       "  <thead>\n",
       "    <tr style=\"text-align: right;\">\n",
       "      <th></th>\n",
       "      <th>Open</th>\n",
       "      <th>High</th>\n",
       "      <th>Low</th>\n",
       "      <th>Close</th>\n",
       "      <th>Adj Close</th>\n",
       "      <th>Volume</th>\n",
       "    </tr>\n",
       "    <tr>\n",
       "      <th>Date</th>\n",
       "      <th></th>\n",
       "      <th></th>\n",
       "      <th></th>\n",
       "      <th></th>\n",
       "      <th></th>\n",
       "      <th></th>\n",
       "    </tr>\n",
       "  </thead>\n",
       "  <tbody>\n",
       "    <tr>\n",
       "      <th>2014-01-02</th>\n",
       "      <td>398.799988</td>\n",
       "      <td>399.359985</td>\n",
       "      <td>394.019989</td>\n",
       "      <td>397.970001</td>\n",
       "      <td>397.970001</td>\n",
       "      <td>2137800</td>\n",
       "    </tr>\n",
       "    <tr>\n",
       "      <th>2014-01-03</th>\n",
       "      <td>398.290009</td>\n",
       "      <td>402.709991</td>\n",
       "      <td>396.220001</td>\n",
       "      <td>396.440002</td>\n",
       "      <td>396.440002</td>\n",
       "      <td>2210200</td>\n",
       "    </tr>\n",
       "    <tr>\n",
       "      <th>2014-01-06</th>\n",
       "      <td>395.850006</td>\n",
       "      <td>397.000000</td>\n",
       "      <td>388.420013</td>\n",
       "      <td>393.630005</td>\n",
       "      <td>393.630005</td>\n",
       "      <td>3170600</td>\n",
       "    </tr>\n",
       "    <tr>\n",
       "      <th>2014-01-07</th>\n",
       "      <td>395.040009</td>\n",
       "      <td>398.470001</td>\n",
       "      <td>394.290009</td>\n",
       "      <td>398.029999</td>\n",
       "      <td>398.029999</td>\n",
       "      <td>1916000</td>\n",
       "    </tr>\n",
       "    <tr>\n",
       "      <th>2014-01-08</th>\n",
       "      <td>398.470001</td>\n",
       "      <td>403.000000</td>\n",
       "      <td>396.040009</td>\n",
       "      <td>401.920013</td>\n",
       "      <td>401.920013</td>\n",
       "      <td>2316500</td>\n",
       "    </tr>\n",
       "  </tbody>\n",
       "</table>\n",
       "</div>"
      ],
      "text/plain": [
       "                  Open        High         Low       Close   Adj Close   Volume\n",
       "Date                                                                           \n",
       "2014-01-02  398.799988  399.359985  394.019989  397.970001  397.970001  2137800\n",
       "2014-01-03  398.290009  402.709991  396.220001  396.440002  396.440002  2210200\n",
       "2014-01-06  395.850006  397.000000  388.420013  393.630005  393.630005  3170600\n",
       "2014-01-07  395.040009  398.470001  394.290009  398.029999  398.029999  1916000\n",
       "2014-01-08  398.470001  403.000000  396.040009  401.920013  401.920013  2316500"
      ]
     },
     "execution_count": 3,
     "metadata": {
      "tags": []
     },
     "output_type": "execute_result"
    }
   ],
   "source": [
    "df = pd.read_csv('/content/AMZNtrain.csv',parse_dates=['Date'],index_col='Date')\n",
    "df.head()"
   ]
  },
  {
   "cell_type": "code",
   "execution_count": 6,
   "metadata": {
    "colab": {
     "base_uri": "https://localhost:8080/"
    },
    "id": "PBuR7bTZ3zXo",
    "outputId": "6edae2de-4646-490d-d755-ed5f16c78ed0"
   },
   "outputs": [
    {
     "data": {
      "text/plain": [
       "(1258, 1)"
      ]
     },
     "execution_count": 6,
     "metadata": {
      "tags": []
     },
     "output_type": "execute_result"
    }
   ],
   "source": [
    "xtrain = df[['Open']]\n",
    "xtrain.shape"
   ]
  },
  {
   "cell_type": "code",
   "execution_count": 7,
   "metadata": {
    "colab": {
     "base_uri": "https://localhost:8080/"
    },
    "id": "OEQG1IT-44ys",
    "outputId": "fb064d7c-2560-484e-c2fb-aaaea15e40af"
   },
   "outputs": [
    {
     "data": {
      "text/plain": [
       "(1258, 1)"
      ]
     },
     "execution_count": 7,
     "metadata": {
      "tags": []
     },
     "output_type": "execute_result"
    }
   ],
   "source": [
    "from sklearn.preprocessing import MinMaxScaler\n",
    "mnc = MinMaxScaler()\n",
    "mnc_xtrain = mnc.fit_transform(xtrain)\n",
    "mnc_xtrain.shape"
   ]
  },
  {
   "cell_type": "code",
   "execution_count": 8,
   "metadata": {
    "id": "NcrcrtzG5PMC"
   },
   "outputs": [],
   "source": [
    "def feature_selection(n_steps,data):\n",
    "  x = []\n",
    "  y = []\n",
    "  for i in range(n_steps,len(data)):\n",
    "    x.append(data[i-n_steps:i,0])\n",
    "    y.append(data[i,0])\n",
    "  return np.array(x),np.array(y)\n"
   ]
  },
  {
   "cell_type": "code",
   "execution_count": 12,
   "metadata": {
    "colab": {
     "base_uri": "https://localhost:8080/"
    },
    "id": "gHit9_705eav",
    "outputId": "95918bab-3f2a-4175-9042-b45f098a22e5"
   },
   "outputs": [
    {
     "data": {
      "text/plain": [
       "((1243, 15), (1243,))"
      ]
     },
     "execution_count": 12,
     "metadata": {
      "tags": []
     },
     "output_type": "execute_result"
    }
   ],
   "source": [
    "n_steps = 15\n",
    "x_train, y_train = feature_selection(n_steps,mnc_xtrain)\n",
    "x_train.shape,y_train.shape"
   ]
  },
  {
   "cell_type": "code",
   "execution_count": 13,
   "metadata": {
    "colab": {
     "base_uri": "https://localhost:8080/"
    },
    "id": "wX1qciPP50yR",
    "outputId": "1b4d521f-acb4-42b7-ebe3-9a468f433424"
   },
   "outputs": [
    {
     "data": {
      "text/plain": [
       "(1243, 15, 1)"
      ]
     },
     "execution_count": 13,
     "metadata": {
      "tags": []
     },
     "output_type": "execute_result"
    }
   ],
   "source": [
    "x_train = x_train.reshape(x_train.shape[0],x_train.shape[1],1)\n",
    "x_train.shape"
   ]
  },
  {
   "cell_type": "code",
   "execution_count": null,
   "metadata": {
    "id": "ojmSTL_l7Jl3"
   },
   "outputs": [],
   "source": [
    "# GRU Model"
   ]
  },
  {
   "cell_type": "code",
   "execution_count": 76,
   "metadata": {
    "colab": {
     "base_uri": "https://localhost:8080/"
    },
    "id": "Zr9SAljt6VCK",
    "outputId": "a9581a30-67c4-498a-ff74-7bb98ab30df6"
   },
   "outputs": [
    {
     "name": "stdout",
     "output_type": "stream",
     "text": [
      "Model: \"sequential_4\"\n",
      "_________________________________________________________________\n",
      "Layer (type)                 Output Shape              Param #   \n",
      "=================================================================\n",
      "lstm_2 (LSTM)                (None, 100)               40800     \n",
      "_________________________________________________________________\n",
      "dense_4 (Dense)              (None, 1)                 101       \n",
      "=================================================================\n",
      "Total params: 40,901\n",
      "Trainable params: 40,901\n",
      "Non-trainable params: 0\n",
      "_________________________________________________________________\n"
     ]
    }
   ],
   "source": [
    "from keras.models import Sequential\n",
    "from keras.layers import LSTM,Dense\n",
    "model = Sequential()\n",
    "model.add(LSTM(100,activation = 'relu',input_shape = (n_steps,1)))\n",
    "model.add(Dense(1))\n",
    "model.compile(optimizer = 'adam',loss = 'mean_squared_error')\n",
    "model.summary()"
   ]
  },
  {
   "cell_type": "code",
   "execution_count": 77,
   "metadata": {
    "colab": {
     "base_uri": "https://localhost:8080/"
    },
    "id": "FjYUbNwS71NP",
    "outputId": "393c38f6-bc3d-4b09-9068-6a4e204db350"
   },
   "outputs": [
    {
     "name": "stdout",
     "output_type": "stream",
     "text": [
      "Epoch 1/100\n",
      "104/104 [==============================] - 3s 10ms/step - loss: 0.0559\n",
      "Epoch 2/100\n",
      "104/104 [==============================] - 1s 10ms/step - loss: 5.5126e-04\n",
      "Epoch 3/100\n",
      "104/104 [==============================] - 1s 10ms/step - loss: 4.4319e-04\n",
      "Epoch 4/100\n",
      "104/104 [==============================] - 1s 10ms/step - loss: 4.2852e-04\n",
      "Epoch 5/100\n",
      "104/104 [==============================] - 1s 10ms/step - loss: 3.3897e-04\n",
      "Epoch 6/100\n",
      "104/104 [==============================] - 1s 10ms/step - loss: 4.4499e-04\n",
      "Epoch 7/100\n",
      "104/104 [==============================] - 1s 10ms/step - loss: 3.7701e-04\n",
      "Epoch 8/100\n",
      "104/104 [==============================] - 1s 10ms/step - loss: 3.1951e-04\n",
      "Epoch 9/100\n",
      "104/104 [==============================] - 1s 11ms/step - loss: 5.0278e-04\n",
      "Epoch 10/100\n",
      "104/104 [==============================] - 1s 10ms/step - loss: 3.4359e-04\n",
      "Epoch 11/100\n",
      "104/104 [==============================] - 1s 10ms/step - loss: 3.1229e-04\n",
      "Epoch 12/100\n",
      "104/104 [==============================] - 1s 10ms/step - loss: 3.3679e-04\n",
      "Epoch 13/100\n",
      "104/104 [==============================] - 1s 10ms/step - loss: 2.9831e-04\n",
      "Epoch 14/100\n",
      "104/104 [==============================] - 1s 10ms/step - loss: 3.6471e-04\n",
      "Epoch 15/100\n",
      "104/104 [==============================] - 1s 10ms/step - loss: 2.8218e-04\n",
      "Epoch 16/100\n",
      "104/104 [==============================] - 1s 10ms/step - loss: 2.5039e-04\n",
      "Epoch 17/100\n",
      "104/104 [==============================] - 1s 10ms/step - loss: 2.2101e-04\n",
      "Epoch 18/100\n",
      "104/104 [==============================] - 1s 9ms/step - loss: 3.4332e-04\n",
      "Epoch 19/100\n",
      "104/104 [==============================] - 1s 10ms/step - loss: 2.8010e-04\n",
      "Epoch 20/100\n",
      "104/104 [==============================] - 1s 10ms/step - loss: 2.4655e-04\n",
      "Epoch 21/100\n",
      "104/104 [==============================] - 1s 10ms/step - loss: 2.6950e-04\n",
      "Epoch 22/100\n",
      "104/104 [==============================] - 1s 10ms/step - loss: 2.5321e-04\n",
      "Epoch 23/100\n",
      "104/104 [==============================] - 1s 10ms/step - loss: 2.3980e-04\n",
      "Epoch 24/100\n",
      "104/104 [==============================] - 1s 10ms/step - loss: 2.7236e-04\n",
      "Epoch 25/100\n",
      "104/104 [==============================] - 1s 11ms/step - loss: 2.2976e-04\n",
      "Epoch 26/100\n",
      "104/104 [==============================] - 1s 10ms/step - loss: 2.3013e-04\n",
      "Epoch 27/100\n",
      "104/104 [==============================] - 1s 10ms/step - loss: 3.1411e-04\n",
      "Epoch 28/100\n",
      "104/104 [==============================] - 1s 10ms/step - loss: 2.1418e-04\n",
      "Epoch 29/100\n",
      "104/104 [==============================] - 1s 10ms/step - loss: 2.7478e-04\n",
      "Epoch 30/100\n",
      "104/104 [==============================] - 1s 10ms/step - loss: 2.3101e-04\n",
      "Epoch 31/100\n",
      "104/104 [==============================] - 1s 10ms/step - loss: 2.0327e-04\n",
      "Epoch 32/100\n",
      "104/104 [==============================] - 1s 11ms/step - loss: 2.4799e-04\n",
      "Epoch 33/100\n",
      "104/104 [==============================] - 1s 11ms/step - loss: 1.9532e-04\n",
      "Epoch 34/100\n",
      "104/104 [==============================] - 1s 11ms/step - loss: 2.2015e-04\n",
      "Epoch 35/100\n",
      "104/104 [==============================] - 1s 10ms/step - loss: 1.8914e-04\n",
      "Epoch 36/100\n",
      "104/104 [==============================] - 1s 10ms/step - loss: 2.7629e-04\n",
      "Epoch 37/100\n",
      "104/104 [==============================] - 1s 11ms/step - loss: 2.6450e-04\n",
      "Epoch 38/100\n",
      "104/104 [==============================] - 1s 11ms/step - loss: 1.6502e-04\n",
      "Epoch 39/100\n",
      "104/104 [==============================] - 1s 10ms/step - loss: 3.3248e-04\n",
      "Epoch 40/100\n",
      "104/104 [==============================] - 1s 10ms/step - loss: 2.0835e-04\n",
      "Epoch 41/100\n",
      "104/104 [==============================] - 1s 10ms/step - loss: 1.6197e-04\n",
      "Epoch 42/100\n",
      "104/104 [==============================] - 1s 10ms/step - loss: 1.7497e-04\n",
      "Epoch 43/100\n",
      "104/104 [==============================] - 1s 10ms/step - loss: 2.6751e-04\n",
      "Epoch 44/100\n",
      "104/104 [==============================] - 1s 10ms/step - loss: 1.9774e-04\n",
      "Epoch 45/100\n",
      "104/104 [==============================] - 1s 10ms/step - loss: 1.7599e-04\n",
      "Epoch 46/100\n",
      "104/104 [==============================] - 1s 10ms/step - loss: 2.2458e-04\n",
      "Epoch 47/100\n",
      "104/104 [==============================] - 1s 10ms/step - loss: 1.5912e-04\n",
      "Epoch 48/100\n",
      "104/104 [==============================] - 1s 10ms/step - loss: 1.6017e-04\n",
      "Epoch 49/100\n",
      "104/104 [==============================] - 1s 10ms/step - loss: 1.5877e-04\n",
      "Epoch 50/100\n",
      "104/104 [==============================] - 1s 10ms/step - loss: 1.9190e-04\n",
      "Epoch 51/100\n",
      "104/104 [==============================] - 1s 10ms/step - loss: 2.0855e-04\n",
      "Epoch 52/100\n",
      "104/104 [==============================] - 1s 10ms/step - loss: 2.3349e-04\n",
      "Epoch 53/100\n",
      "104/104 [==============================] - 1s 10ms/step - loss: 1.6540e-04\n",
      "Epoch 54/100\n",
      "104/104 [==============================] - 1s 10ms/step - loss: 1.3665e-04\n",
      "Epoch 55/100\n",
      "104/104 [==============================] - 1s 10ms/step - loss: 1.6510e-04\n",
      "Epoch 56/100\n",
      "104/104 [==============================] - 1s 10ms/step - loss: 2.1546e-04\n",
      "Epoch 57/100\n",
      "104/104 [==============================] - 1s 10ms/step - loss: 1.8188e-04\n",
      "Epoch 58/100\n",
      "104/104 [==============================] - 1s 10ms/step - loss: 2.4362e-04\n",
      "Epoch 59/100\n",
      "104/104 [==============================] - 1s 10ms/step - loss: 1.5985e-04\n",
      "Epoch 60/100\n",
      "104/104 [==============================] - 1s 10ms/step - loss: 1.7673e-04\n",
      "Epoch 61/100\n",
      "104/104 [==============================] - 1s 10ms/step - loss: 1.7987e-04\n",
      "Epoch 62/100\n",
      "104/104 [==============================] - 1s 10ms/step - loss: 2.0743e-04\n",
      "Epoch 63/100\n",
      "104/104 [==============================] - 1s 10ms/step - loss: 1.2672e-04\n",
      "Epoch 64/100\n",
      "104/104 [==============================] - 1s 11ms/step - loss: 3.3529e-04\n",
      "Epoch 65/100\n",
      "104/104 [==============================] - 1s 10ms/step - loss: 1.6868e-04\n",
      "Epoch 66/100\n",
      "104/104 [==============================] - 1s 10ms/step - loss: 1.6516e-04\n",
      "Epoch 67/100\n",
      "104/104 [==============================] - 1s 10ms/step - loss: 1.7429e-04\n",
      "Epoch 68/100\n",
      "104/104 [==============================] - 1s 11ms/step - loss: 1.5934e-04\n",
      "Epoch 69/100\n",
      "104/104 [==============================] - 1s 10ms/step - loss: 1.8504e-04\n",
      "Epoch 70/100\n",
      "104/104 [==============================] - 1s 10ms/step - loss: 2.1147e-04\n",
      "Epoch 71/100\n",
      "104/104 [==============================] - 1s 10ms/step - loss: 1.6197e-04\n",
      "Epoch 72/100\n",
      "104/104 [==============================] - 1s 10ms/step - loss: 1.4577e-04\n",
      "Epoch 73/100\n",
      "104/104 [==============================] - 1s 10ms/step - loss: 1.6952e-04\n",
      "Epoch 74/100\n",
      "104/104 [==============================] - 1s 10ms/step - loss: 1.6561e-04\n",
      "Epoch 75/100\n",
      "104/104 [==============================] - 1s 10ms/step - loss: 2.5615e-04\n",
      "Epoch 76/100\n",
      "104/104 [==============================] - 1s 10ms/step - loss: 1.3763e-04\n",
      "Epoch 77/100\n",
      "104/104 [==============================] - 1s 10ms/step - loss: 2.4550e-04\n",
      "Epoch 78/100\n",
      "104/104 [==============================] - 1s 10ms/step - loss: 1.4538e-04\n",
      "Epoch 79/100\n",
      "104/104 [==============================] - 1s 10ms/step - loss: 1.4553e-04\n",
      "Epoch 80/100\n",
      "104/104 [==============================] - 1s 10ms/step - loss: 1.6542e-04\n",
      "Epoch 81/100\n",
      "104/104 [==============================] - 1s 10ms/step - loss: 1.8677e-04\n",
      "Epoch 82/100\n",
      "104/104 [==============================] - 1s 10ms/step - loss: 1.8099e-04\n",
      "Epoch 83/100\n",
      "104/104 [==============================] - 1s 10ms/step - loss: 2.1942e-04\n",
      "Epoch 84/100\n",
      "104/104 [==============================] - 1s 10ms/step - loss: 1.7753e-04\n",
      "Epoch 85/100\n",
      "104/104 [==============================] - 1s 10ms/step - loss: 1.5469e-04\n",
      "Epoch 86/100\n",
      "104/104 [==============================] - 1s 10ms/step - loss: 2.1630e-04\n",
      "Epoch 87/100\n",
      "104/104 [==============================] - 1s 10ms/step - loss: 1.7036e-04\n",
      "Epoch 88/100\n",
      "104/104 [==============================] - 1s 10ms/step - loss: 1.4989e-04\n",
      "Epoch 89/100\n",
      "104/104 [==============================] - 1s 10ms/step - loss: 1.7674e-04\n",
      "Epoch 90/100\n",
      "104/104 [==============================] - 1s 11ms/step - loss: 1.5083e-04\n",
      "Epoch 91/100\n",
      "104/104 [==============================] - 1s 11ms/step - loss: 1.9194e-04\n",
      "Epoch 92/100\n",
      "104/104 [==============================] - 1s 10ms/step - loss: 1.7512e-04\n",
      "Epoch 93/100\n",
      "104/104 [==============================] - 1s 10ms/step - loss: 1.7577e-04\n",
      "Epoch 94/100\n",
      "104/104 [==============================] - 1s 11ms/step - loss: 1.5289e-04\n",
      "Epoch 95/100\n",
      "104/104 [==============================] - 1s 10ms/step - loss: 2.4460e-04\n",
      "Epoch 96/100\n",
      "104/104 [==============================] - 1s 10ms/step - loss: 1.5694e-04\n",
      "Epoch 97/100\n",
      "104/104 [==============================] - 1s 10ms/step - loss: 1.5733e-04\n",
      "Epoch 98/100\n",
      "104/104 [==============================] - 1s 10ms/step - loss: 1.7728e-04\n",
      "Epoch 99/100\n",
      "104/104 [==============================] - 1s 11ms/step - loss: 2.3818e-04\n",
      "Epoch 100/100\n",
      "104/104 [==============================] - 1s 11ms/step - loss: 1.8731e-04\n"
     ]
    }
   ],
   "source": [
    "history = model.fit(x_train,y_train,epochs=100,batch_size=12)"
   ]
  },
  {
   "cell_type": "code",
   "execution_count": 78,
   "metadata": {
    "colab": {
     "base_uri": "https://localhost:8080/",
     "height": 282
    },
    "id": "awfX0xWi8GYQ",
    "outputId": "cb1c1bc9-5ff3-4496-fc47-2ffc96f001b6"
   },
   "outputs": [
    {
     "data": {
      "text/plain": [
       "[<matplotlib.lines.Line2D at 0x7f9ab780e210>]"
      ]
     },
     "execution_count": 78,
     "metadata": {
      "tags": []
     },
     "output_type": "execute_result"
    },
    {
     "data": {
      "image/png": "[encoded data removed]",
      "text/plain": [
       "<Figure size 432x288 with 1 Axes>"
      ]
     },
     "metadata": {
      "needs_background": "light",
      "tags": []
     },
     "output_type": "display_data"
    }
   ],
   "source": [
    "plt.plot(history.history['loss'])"
   ]
  },
  {
   "cell_type": "code",
   "execution_count": 79,
   "metadata": {
    "colab": {
     "base_uri": "https://localhost:8080/",
     "height": 235
    },
    "id": "tNz1XMfm8p0b",
    "outputId": "19a3c7a6-f9e6-451b-d93f-bb0a98affffc"
   },
   "outputs": [
    {
     "data": {
      "text/html": [
       "<div>\n",
       "<style scoped>\n",
       "    .dataframe tbody tr th:only-of-type {\n",
       "        vertical-align: middle;\n",
       "    }\n",
       "\n",
       "    .dataframe tbody tr th {\n",
       "        vertical-align: top;\n",
       "    }\n",
       "\n",
       "    .dataframe thead th {\n",
       "        text-align: right;\n",
       "    }\n",
       "</style>\n",
       "<table border=\"1\" class=\"dataframe\">\n",
       "  <thead>\n",
       "    <tr style=\"text-align: right;\">\n",
       "      <th></th>\n",
       "      <th>Open</th>\n",
       "      <th>High</th>\n",
       "      <th>Low</th>\n",
       "      <th>Close</th>\n",
       "      <th>Adj Close</th>\n",
       "      <th>Volume</th>\n",
       "    </tr>\n",
       "    <tr>\n",
       "      <th>Date</th>\n",
       "      <th></th>\n",
       "      <th></th>\n",
       "      <th></th>\n",
       "      <th></th>\n",
       "      <th></th>\n",
       "      <th></th>\n",
       "    </tr>\n",
       "  </thead>\n",
       "  <tbody>\n",
       "    <tr>\n",
       "      <th>2014-01-02</th>\n",
       "      <td>398.799988</td>\n",
       "      <td>399.359985</td>\n",
       "      <td>394.019989</td>\n",
       "      <td>397.970001</td>\n",
       "      <td>397.970001</td>\n",
       "      <td>2137800</td>\n",
       "    </tr>\n",
       "    <tr>\n",
       "      <th>2014-01-03</th>\n",
       "      <td>398.290009</td>\n",
       "      <td>402.709991</td>\n",
       "      <td>396.220001</td>\n",
       "      <td>396.440002</td>\n",
       "      <td>396.440002</td>\n",
       "      <td>2210200</td>\n",
       "    </tr>\n",
       "    <tr>\n",
       "      <th>2014-01-06</th>\n",
       "      <td>395.850006</td>\n",
       "      <td>397.000000</td>\n",
       "      <td>388.420013</td>\n",
       "      <td>393.630005</td>\n",
       "      <td>393.630005</td>\n",
       "      <td>3170600</td>\n",
       "    </tr>\n",
       "    <tr>\n",
       "      <th>2014-01-07</th>\n",
       "      <td>395.040009</td>\n",
       "      <td>398.470001</td>\n",
       "      <td>394.290009</td>\n",
       "      <td>398.029999</td>\n",
       "      <td>398.029999</td>\n",
       "      <td>1916000</td>\n",
       "    </tr>\n",
       "    <tr>\n",
       "      <th>2014-01-08</th>\n",
       "      <td>398.470001</td>\n",
       "      <td>403.000000</td>\n",
       "      <td>396.040009</td>\n",
       "      <td>401.920013</td>\n",
       "      <td>401.920013</td>\n",
       "      <td>2316500</td>\n",
       "    </tr>\n",
       "  </tbody>\n",
       "</table>\n",
       "</div>"
      ],
      "text/plain": [
       "                  Open        High         Low       Close   Adj Close   Volume\n",
       "Date                                                                           \n",
       "2014-01-02  398.799988  399.359985  394.019989  397.970001  397.970001  2137800\n",
       "2014-01-03  398.290009  402.709991  396.220001  396.440002  396.440002  2210200\n",
       "2014-01-06  395.850006  397.000000  388.420013  393.630005  393.630005  3170600\n",
       "2014-01-07  395.040009  398.470001  394.290009  398.029999  398.029999  1916000\n",
       "2014-01-08  398.470001  403.000000  396.040009  401.920013  401.920013  2316500"
      ]
     },
     "execution_count": 79,
     "metadata": {
      "tags": []
     },
     "output_type": "execute_result"
    }
   ],
   "source": [
    "test = pd.read_csv('/content/AMZNtrain.csv',parse_dates=['Date'],index_col='Date')\n",
    "test.head()\n"
   ]
  },
  {
   "cell_type": "code",
   "execution_count": 80,
   "metadata": {
    "colab": {
     "base_uri": "https://localhost:8080/"
    },
    "id": "sUkvPLl180ZA",
    "outputId": "a39dae97-1ac4-475e-810a-25a84d1d3701"
   },
   "outputs": [
    {
     "data": {
      "text/plain": [
       "(1258, 6)"
      ]
     },
     "execution_count": 80,
     "metadata": {
      "tags": []
     },
     "output_type": "execute_result"
    }
   ],
   "source": [
    "test.shape"
   ]
  },
  {
   "cell_type": "code",
   "execution_count": 81,
   "metadata": {
    "colab": {
     "base_uri": "https://localhost:8080/"
    },
    "id": "BFTHjoAB9Acl",
    "outputId": "f344955d-c601-49eb-ca8f-0f984ef8f9ed"
   },
   "outputs": [
    {
     "data": {
      "text/plain": [
       "(1258, 1)"
      ]
     },
     "execution_count": 81,
     "metadata": {
      "tags": []
     },
     "output_type": "execute_result"
    }
   ],
   "source": [
    "xtest = test[['Open']]\n",
    "xtest.shape"
   ]
  },
  {
   "cell_type": "code",
   "execution_count": 82,
   "metadata": {
    "colab": {
     "base_uri": "https://localhost:8080/"
    },
    "id": "0H8yG7ow9O29",
    "outputId": "a3342d82-9940-4a7f-ed93-236811316eef"
   },
   "outputs": [
    {
     "data": {
      "text/plain": [
       "(1258, 1)"
      ]
     },
     "execution_count": 82,
     "metadata": {
      "tags": []
     },
     "output_type": "execute_result"
    }
   ],
   "source": [
    "mnc_xtest = mnc.fit_transform(xtest)\n",
    "mnc_xtest.shape"
   ]
  },
  {
   "cell_type": "code",
   "execution_count": 83,
   "metadata": {
    "colab": {
     "base_uri": "https://localhost:8080/"
    },
    "id": "9swHNezK9biN",
    "outputId": "a925d4d7-558b-471e-e3be-1874e959e8b1"
   },
   "outputs": [
    {
     "data": {
      "text/plain": [
       "((1243, 15), (1243,))"
      ]
     },
     "execution_count": 83,
     "metadata": {
      "tags": []
     },
     "output_type": "execute_result"
    }
   ],
   "source": [
    "x_test,y_test = feature_selection(n_steps,mnc_xtest)\n",
    "x_test.shape,y_test.shape"
   ]
  },
  {
   "cell_type": "code",
   "execution_count": 84,
   "metadata": {
    "colab": {
     "base_uri": "https://localhost:8080/"
    },
    "id": "6g3TR5Ep9oUW",
    "outputId": "48beb738-fb59-4d01-ad7b-1aa10f99c9e2"
   },
   "outputs": [
    {
     "data": {
      "text/plain": [
       "(1243, 15, 1)"
      ]
     },
     "execution_count": 84,
     "metadata": {
      "tags": []
     },
     "output_type": "execute_result"
    }
   ],
   "source": [
    "x_test = x_test.reshape(x_test.shape[0],x_test.shape[1],1)\n",
    "x_test.shape"
   ]
  },
  {
   "cell_type": "code",
   "execution_count": 85,
   "metadata": {
    "colab": {
     "base_uri": "https://localhost:8080/"
    },
    "id": "ya-BvrL99zfg",
    "outputId": "fd389a45-6e60-4c9f-efea-81c5d9fca0de"
   },
   "outputs": [
    {
     "data": {
      "text/plain": [
       "array([[ 406.48758],\n",
       "       [ 403.3131 ],\n",
       "       [ 396.6265 ],\n",
       "       ...,\n",
       "       [1375.2145 ],\n",
       "       [1456.4891 ],\n",
       "       [1490.731  ]], dtype=float32)"
      ]
     },
     "execution_count": 85,
     "metadata": {
      "tags": []
     },
     "output_type": "execute_result"
    }
   ],
   "source": [
    "pred = model.predict(x_test)\n",
    "predicted_value = mnc.inverse_transform(pred)\n",
    "predicted_value"
   ]
  },
  {
   "cell_type": "code",
   "execution_count": 86,
   "metadata": {
    "colab": {
     "base_uri": "https://localhost:8080/"
    },
    "id": "ge9JV0Lt-JR6",
    "outputId": "bedd094a-bb13-4528-c90d-e65072e5baf9"
   },
   "outputs": [
    {
     "data": {
      "text/plain": [
       "(1243, 1)"
      ]
     },
     "execution_count": 86,
     "metadata": {
      "tags": []
     },
     "output_type": "execute_result"
    }
   ],
   "source": [
    "actual_value = mnc.inverse_transform(y_test.reshape(-1,1))\n",
    "actual_value.shape\n"
   ]
  },
  {
   "cell_type": "code",
   "execution_count": 86,
   "metadata": {
    "id": "NNXhMTwSAlpz"
   },
   "outputs": [],
   "source": []
  },
  {
   "cell_type": "code",
   "execution_count": 87,
   "metadata": {
    "colab": {
     "base_uri": "https://localhost:8080/",
     "height": 419
    },
    "id": "kQ7jgkqP-Yzp",
    "outputId": "be49ff9a-a893-488b-a5bb-1efbb9a7b50a"
   },
   "outputs": [
    {
     "data": {
      "text/html": [
       "<div>\n",
       "<style scoped>\n",
       "    .dataframe tbody tr th:only-of-type {\n",
       "        vertical-align: middle;\n",
       "    }\n",
       "\n",
       "    .dataframe tbody tr th {\n",
       "        vertical-align: top;\n",
       "    }\n",
       "\n",
       "    .dataframe thead th {\n",
       "        text-align: right;\n",
       "    }\n",
       "</style>\n",
       "<table border=\"1\" class=\"dataframe\">\n",
       "  <thead>\n",
       "    <tr style=\"text-align: right;\">\n",
       "      <th></th>\n",
       "      <th>Actual</th>\n",
       "      <th>Predicted</th>\n",
       "    </tr>\n",
       "  </thead>\n",
       "  <tbody>\n",
       "    <tr>\n",
       "      <th>0</th>\n",
       "      <td>[398.160004]</td>\n",
       "      <td>[406.48758]</td>\n",
       "    </tr>\n",
       "    <tr>\n",
       "      <th>1</th>\n",
       "      <td>[390.5]</td>\n",
       "      <td>[403.3131]</td>\n",
       "    </tr>\n",
       "    <tr>\n",
       "      <th>2</th>\n",
       "      <td>[387.399994]</td>\n",
       "      <td>[396.6265]</td>\n",
       "    </tr>\n",
       "    <tr>\n",
       "      <th>3</th>\n",
       "      <td>[392.160004]</td>\n",
       "      <td>[391.6717]</td>\n",
       "    </tr>\n",
       "    <tr>\n",
       "      <th>4</th>\n",
       "      <td>[393.769989]</td>\n",
       "      <td>[392.98798]</td>\n",
       "    </tr>\n",
       "    <tr>\n",
       "      <th>...</th>\n",
       "      <td>...</td>\n",
       "      <td>...</td>\n",
       "    </tr>\n",
       "    <tr>\n",
       "      <th>1238</th>\n",
       "      <td>[1346.0]</td>\n",
       "      <td>[1477.9395]</td>\n",
       "    </tr>\n",
       "    <tr>\n",
       "      <th>1239</th>\n",
       "      <td>[1368.890015]</td>\n",
       "      <td>[1374.5378]</td>\n",
       "    </tr>\n",
       "    <tr>\n",
       "      <th>1240</th>\n",
       "      <td>[1454.199951]</td>\n",
       "      <td>[1375.2145]</td>\n",
       "    </tr>\n",
       "    <tr>\n",
       "      <th>1241</th>\n",
       "      <td>[1473.349976]</td>\n",
       "      <td>[1456.4891]</td>\n",
       "    </tr>\n",
       "    <tr>\n",
       "      <th>1242</th>\n",
       "      <td>[1510.800049]</td>\n",
       "      <td>[1490.731]</td>\n",
       "    </tr>\n",
       "  </tbody>\n",
       "</table>\n",
       "<p>1243 rows × 2 columns</p>\n",
       "</div>"
      ],
      "text/plain": [
       "             Actual    Predicted\n",
       "0      [398.160004]  [406.48758]\n",
       "1           [390.5]   [403.3131]\n",
       "2      [387.399994]   [396.6265]\n",
       "3      [392.160004]   [391.6717]\n",
       "4      [393.769989]  [392.98798]\n",
       "...             ...          ...\n",
       "1238       [1346.0]  [1477.9395]\n",
       "1239  [1368.890015]  [1374.5378]\n",
       "1240  [1454.199951]  [1375.2145]\n",
       "1241  [1473.349976]  [1456.4891]\n",
       "1242  [1510.800049]   [1490.731]\n",
       "\n",
       "[1243 rows x 2 columns]"
      ]
     },
     "execution_count": 87,
     "metadata": {
      "tags": []
     },
     "output_type": "execute_result"
    }
   ],
   "source": [
    "result = pd.DataFrame({'Actual':list(actual_value),'Predicted':list(predicted_value)})\n",
    "result"
   ]
  },
  {
   "cell_type": "code",
   "execution_count": 88,
   "metadata": {
    "colab": {
     "base_uri": "https://localhost:8080/"
    },
    "id": "7OmtiRbDCn0V",
    "outputId": "e2bc01d9-783c-464a-e23f-4478aabb7e4d"
   },
   "outputs": [
    {
     "name": "stdout",
     "output_type": "stream",
     "text": [
      "mse 438.53633764513717\n",
      "RMSE 20.941259218230815\n",
      "r2_score 0.9980831882691061\n"
     ]
    }
   ],
   "source": [
    "from sklearn.metrics import r2_score,mean_squared_error\n",
    "print('mse',mean_squared_error(actual_value,predicted_value))\n",
    "print('RMSE',np.sqrt(mean_squared_error(actual_value,predicted_value)))\n",
    "print('r2_score',r2_score(actual_value,predicted_value))\n"
   ]
  },
  {
   "cell_type": "code",
   "execution_count": null,
   "metadata": {
    "id": "cp2Ylo6jDB7b"
   },
   "outputs": [],
   "source": []
  }
 ],
 "metadata": {
  "colab": {
   "name": "AMZN_LSTM.ipynb",
   "provenance": []
  },
  "kernelspec": {
   "display_name": "Python 3",
   "language": "python",
   "name": "python3"
  },
  "language_info": {
   "codemirror_mode": {
    "name": "ipython",
    "version": 3
   },
   "file_extension": ".py",
   "mimetype": "text/x-python",
   "name": "python",
   "nbconvert_exporter": "python",
   "pygments_lexer": "ipython3",
   "version": "3.9.2"
  }
 },
 "nbformat": 4,
 "nbformat_minor": 1
}
