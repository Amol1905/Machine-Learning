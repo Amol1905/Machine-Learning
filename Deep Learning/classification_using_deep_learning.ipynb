{
  "nbformat": 4,
  "nbformat_minor": 0,
  "metadata": {
    "colab": {
      "name": "classification_using_deep_learning.ipynb",
      "provenance": []
    },
    "kernelspec": {
      "name": "python3",
      "display_name": "Python 3"
    },
    "language_info": {
      "name": "python"
    }
  },
  "cells": [
    {
      "cell_type": "code",
      "metadata": {
        "id": "jxPPc5lp0MSH"
      },
      "source": [
        "import pandas as pd\n",
        "import numpy as np\n",
        "import seaborn as sns\n",
        "import matplotlib.pyplot as plt"
      ],
      "execution_count": 1,
      "outputs": []
    },
    {
      "cell_type": "code",
      "metadata": {
        "id": "Iv8IT8rU1CHx"
      },
      "source": [
        "df = pd.read_csv('/content/diabetes.csv')"
      ],
      "execution_count": 2,
      "outputs": []
    },
    {
      "cell_type": "code",
      "metadata": {
        "colab": {
          "base_uri": "https://localhost:8080/",
          "height": 204
        },
        "id": "b_nC0gOx1Uoj",
        "outputId": "481d02d8-9ed3-4ba3-d3cd-cabceafda355"
      },
      "source": [
        "df.head()"
      ],
      "execution_count": 3,
      "outputs": [
        {
          "output_type": "execute_result",
          "data": {
            "text/html": [
              "<div>\n",
              "<style scoped>\n",
              "    .dataframe tbody tr th:only-of-type {\n",
              "        vertical-align: middle;\n",
              "    }\n",
              "\n",
              "    .dataframe tbody tr th {\n",
              "        vertical-align: top;\n",
              "    }\n",
              "\n",
              "    .dataframe thead th {\n",
              "        text-align: right;\n",
              "    }\n",
              "</style>\n",
              "<table border=\"1\" class=\"dataframe\">\n",
              "  <thead>\n",
              "    <tr style=\"text-align: right;\">\n",
              "      <th></th>\n",
              "      <th>Pregnancies</th>\n",
              "      <th>Glucose</th>\n",
              "      <th>BloodPressure</th>\n",
              "      <th>SkinThickness</th>\n",
              "      <th>Insulin</th>\n",
              "      <th>BMI</th>\n",
              "      <th>DiabetesPedigreeFunction</th>\n",
              "      <th>Age</th>\n",
              "      <th>Outcome</th>\n",
              "    </tr>\n",
              "  </thead>\n",
              "  <tbody>\n",
              "    <tr>\n",
              "      <th>0</th>\n",
              "      <td>6</td>\n",
              "      <td>148</td>\n",
              "      <td>72</td>\n",
              "      <td>35</td>\n",
              "      <td>0</td>\n",
              "      <td>33.6</td>\n",
              "      <td>0.627</td>\n",
              "      <td>50</td>\n",
              "      <td>1</td>\n",
              "    </tr>\n",
              "    <tr>\n",
              "      <th>1</th>\n",
              "      <td>1</td>\n",
              "      <td>85</td>\n",
              "      <td>66</td>\n",
              "      <td>29</td>\n",
              "      <td>0</td>\n",
              "      <td>26.6</td>\n",
              "      <td>0.351</td>\n",
              "      <td>31</td>\n",
              "      <td>0</td>\n",
              "    </tr>\n",
              "    <tr>\n",
              "      <th>2</th>\n",
              "      <td>8</td>\n",
              "      <td>183</td>\n",
              "      <td>64</td>\n",
              "      <td>0</td>\n",
              "      <td>0</td>\n",
              "      <td>23.3</td>\n",
              "      <td>0.672</td>\n",
              "      <td>32</td>\n",
              "      <td>1</td>\n",
              "    </tr>\n",
              "    <tr>\n",
              "      <th>3</th>\n",
              "      <td>1</td>\n",
              "      <td>89</td>\n",
              "      <td>66</td>\n",
              "      <td>23</td>\n",
              "      <td>94</td>\n",
              "      <td>28.1</td>\n",
              "      <td>0.167</td>\n",
              "      <td>21</td>\n",
              "      <td>0</td>\n",
              "    </tr>\n",
              "    <tr>\n",
              "      <th>4</th>\n",
              "      <td>0</td>\n",
              "      <td>137</td>\n",
              "      <td>40</td>\n",
              "      <td>35</td>\n",
              "      <td>168</td>\n",
              "      <td>43.1</td>\n",
              "      <td>2.288</td>\n",
              "      <td>33</td>\n",
              "      <td>1</td>\n",
              "    </tr>\n",
              "  </tbody>\n",
              "</table>\n",
              "</div>"
            ],
            "text/plain": [
              "   Pregnancies  Glucose  BloodPressure  ...  DiabetesPedigreeFunction  Age  Outcome\n",
              "0            6      148             72  ...                     0.627   50        1\n",
              "1            1       85             66  ...                     0.351   31        0\n",
              "2            8      183             64  ...                     0.672   32        1\n",
              "3            1       89             66  ...                     0.167   21        0\n",
              "4            0      137             40  ...                     2.288   33        1\n",
              "\n",
              "[5 rows x 9 columns]"
            ]
          },
          "metadata": {
            "tags": []
          },
          "execution_count": 3
        }
      ]
    },
    {
      "cell_type": "code",
      "metadata": {
        "id": "0f2b-wI61Vqa"
      },
      "source": [
        "x = df.drop(columns=('Outcome'),axis  = 1)\n",
        "y = df['Outcome']"
      ],
      "execution_count": 4,
      "outputs": []
    },
    {
      "cell_type": "code",
      "metadata": {
        "colab": {
          "base_uri": "https://localhost:8080/"
        },
        "id": "ewaie6cs1ekP",
        "outputId": "318125d0-0d89-4143-df55-7c1fb9cc6098"
      },
      "source": [
        "from keras.models import Sequential\n",
        "from keras.layers import Dense\n",
        "model = Sequential()\n",
        "# $\\ #  Layers\n",
        "\n",
        "model.add(Dense(12,activation  = 'relu',input_dim = 8))\n",
        "model.add(Dense(10,activation  = 'relu'))\n",
        "model.add(Dense(1,activation  = 'sigmoid'))# Output layer\n",
        "model.summary()\n"
      ],
      "execution_count": 9,
      "outputs": [
        {
          "output_type": "stream",
          "text": [
            "Model: \"sequential_4\"\n",
            "_________________________________________________________________\n",
            "Layer (type)                 Output Shape              Param #   \n",
            "=================================================================\n",
            "dense_8 (Dense)              (None, 12)                108       \n",
            "_________________________________________________________________\n",
            "dense_9 (Dense)              (None, 10)                130       \n",
            "_________________________________________________________________\n",
            "dense_10 (Dense)             (None, 1)                 11        \n",
            "=================================================================\n",
            "Total params: 249\n",
            "Trainable params: 249\n",
            "Non-trainable params: 0\n",
            "_________________________________________________________________\n"
          ],
          "name": "stdout"
        }
      ]
    },
    {
      "cell_type": "code",
      "metadata": {
        "id": "9zEmPIrE2J42"
      },
      "source": [
        "# binary entropy,hinge loss,squared loss\n",
        "model.compile(loss = 'binary_crossentropy',optimizer = 'adam',metrics=['accuracy'])\n",
        "model.compile(loss= )"
      ],
      "execution_count": 19,
      "outputs": []
    },
    {
      "cell_type": "code",
      "metadata": {
        "colab": {
          "base_uri": "https://localhost:8080/"
        },
        "id": "aol_ePgu4HmG",
        "outputId": "fef3c2e4-9d9e-42b4-de80-46979bd9c608"
      },
      "source": [
        "# epochs = 50\n",
        "# batch =10\n",
        "model.fit(x,y,batch_size=10,epochs=50)\n"
      ],
      "execution_count": 12,
      "outputs": [
        {
          "output_type": "stream",
          "text": [
            "Epoch 1/50\n",
            "77/77 [==============================] - 1s 2ms/step - loss: 8.8712 - accuracy: 0.4352\n",
            "Epoch 2/50\n",
            "77/77 [==============================] - 0s 3ms/step - loss: 1.5703 - accuracy: 0.6098\n",
            "Epoch 3/50\n",
            "77/77 [==============================] - 0s 2ms/step - loss: 1.1747 - accuracy: 0.5712\n",
            "Epoch 4/50\n",
            "77/77 [==============================] - 0s 2ms/step - loss: 0.9088 - accuracy: 0.6087\n",
            "Epoch 5/50\n",
            "77/77 [==============================] - 0s 2ms/step - loss: 0.8983 - accuracy: 0.5615\n",
            "Epoch 6/50\n",
            "77/77 [==============================] - 0s 2ms/step - loss: 0.7699 - accuracy: 0.6309\n",
            "Epoch 7/50\n",
            "77/77 [==============================] - 0s 2ms/step - loss: 0.7044 - accuracy: 0.6213\n",
            "Epoch 8/50\n",
            "77/77 [==============================] - 0s 2ms/step - loss: 0.6697 - accuracy: 0.6632\n",
            "Epoch 9/50\n",
            "77/77 [==============================] - 0s 2ms/step - loss: 0.6660 - accuracy: 0.6487\n",
            "Epoch 10/50\n",
            "77/77 [==============================] - 0s 2ms/step - loss: 0.6392 - accuracy: 0.6705\n",
            "Epoch 11/50\n",
            "77/77 [==============================] - 0s 1ms/step - loss: 0.6231 - accuracy: 0.6930\n",
            "Epoch 12/50\n",
            "77/77 [==============================] - 0s 1ms/step - loss: 0.6412 - accuracy: 0.6890\n",
            "Epoch 13/50\n",
            "77/77 [==============================] - 0s 1ms/step - loss: 0.6353 - accuracy: 0.6780\n",
            "Epoch 14/50\n",
            "77/77 [==============================] - 0s 1ms/step - loss: 0.6447 - accuracy: 0.6582\n",
            "Epoch 15/50\n",
            "77/77 [==============================] - 0s 1ms/step - loss: 0.6234 - accuracy: 0.6959\n",
            "Epoch 16/50\n",
            "77/77 [==============================] - 0s 1ms/step - loss: 0.6140 - accuracy: 0.6951\n",
            "Epoch 17/50\n",
            "77/77 [==============================] - 0s 1ms/step - loss: 0.6089 - accuracy: 0.6989\n",
            "Epoch 18/50\n",
            "77/77 [==============================] - 0s 1ms/step - loss: 0.5955 - accuracy: 0.7016\n",
            "Epoch 19/50\n",
            "77/77 [==============================] - 0s 1ms/step - loss: 0.6083 - accuracy: 0.7001\n",
            "Epoch 20/50\n",
            "77/77 [==============================] - 0s 1ms/step - loss: 0.5601 - accuracy: 0.7286\n",
            "Epoch 21/50\n",
            "77/77 [==============================] - 0s 1ms/step - loss: 0.5841 - accuracy: 0.6936\n",
            "Epoch 22/50\n",
            "77/77 [==============================] - 0s 1ms/step - loss: 0.5690 - accuracy: 0.7137\n",
            "Epoch 23/50\n",
            "77/77 [==============================] - 0s 1ms/step - loss: 0.5497 - accuracy: 0.7280\n",
            "Epoch 24/50\n",
            "77/77 [==============================] - 0s 1ms/step - loss: 0.5573 - accuracy: 0.7193\n",
            "Epoch 25/50\n",
            "77/77 [==============================] - 0s 1ms/step - loss: 0.5821 - accuracy: 0.7146\n",
            "Epoch 26/50\n",
            "77/77 [==============================] - 0s 1ms/step - loss: 0.5291 - accuracy: 0.7488\n",
            "Epoch 27/50\n",
            "77/77 [==============================] - 0s 1ms/step - loss: 0.5668 - accuracy: 0.7149\n",
            "Epoch 28/50\n",
            "77/77 [==============================] - 0s 1ms/step - loss: 0.5680 - accuracy: 0.7095\n",
            "Epoch 29/50\n",
            "77/77 [==============================] - 0s 1ms/step - loss: 0.5776 - accuracy: 0.6633\n",
            "Epoch 30/50\n",
            "77/77 [==============================] - 0s 1ms/step - loss: 0.5516 - accuracy: 0.7223\n",
            "Epoch 31/50\n",
            "77/77 [==============================] - 0s 1ms/step - loss: 0.5280 - accuracy: 0.7409\n",
            "Epoch 32/50\n",
            "77/77 [==============================] - 0s 1ms/step - loss: 0.5746 - accuracy: 0.7254\n",
            "Epoch 33/50\n",
            "77/77 [==============================] - 0s 1ms/step - loss: 0.5536 - accuracy: 0.7165\n",
            "Epoch 34/50\n",
            "77/77 [==============================] - 0s 1ms/step - loss: 0.5662 - accuracy: 0.7303\n",
            "Epoch 35/50\n",
            "77/77 [==============================] - 0s 1ms/step - loss: 0.5411 - accuracy: 0.7289\n",
            "Epoch 36/50\n",
            "77/77 [==============================] - 0s 1ms/step - loss: 0.5341 - accuracy: 0.7163\n",
            "Epoch 37/50\n",
            "77/77 [==============================] - 0s 1ms/step - loss: 0.5738 - accuracy: 0.7206\n",
            "Epoch 38/50\n",
            "77/77 [==============================] - 0s 1ms/step - loss: 0.5563 - accuracy: 0.7247\n",
            "Epoch 39/50\n",
            "77/77 [==============================] - 0s 1ms/step - loss: 0.5339 - accuracy: 0.7340\n",
            "Epoch 40/50\n",
            "77/77 [==============================] - 0s 1ms/step - loss: 0.5227 - accuracy: 0.7439\n",
            "Epoch 41/50\n",
            "77/77 [==============================] - 0s 1ms/step - loss: 0.5509 - accuracy: 0.7174\n",
            "Epoch 42/50\n",
            "77/77 [==============================] - 0s 1ms/step - loss: 0.5204 - accuracy: 0.7575\n",
            "Epoch 43/50\n",
            "77/77 [==============================] - 0s 1ms/step - loss: 0.5327 - accuracy: 0.7454\n",
            "Epoch 44/50\n",
            "77/77 [==============================] - 0s 1ms/step - loss: 0.5594 - accuracy: 0.7139\n",
            "Epoch 45/50\n",
            "77/77 [==============================] - 0s 1ms/step - loss: 0.5304 - accuracy: 0.7636\n",
            "Epoch 46/50\n",
            "77/77 [==============================] - 0s 1ms/step - loss: 0.5198 - accuracy: 0.7299\n",
            "Epoch 47/50\n",
            "77/77 [==============================] - 0s 1ms/step - loss: 0.5230 - accuracy: 0.7409\n",
            "Epoch 48/50\n",
            "77/77 [==============================] - 0s 1ms/step - loss: 0.5352 - accuracy: 0.7528\n",
            "Epoch 49/50\n",
            "77/77 [==============================] - 0s 1ms/step - loss: 0.5547 - accuracy: 0.7202\n",
            "Epoch 50/50\n",
            "77/77 [==============================] - 0s 1ms/step - loss: 0.5234 - accuracy: 0.7404\n"
          ],
          "name": "stdout"
        },
        {
          "output_type": "execute_result",
          "data": {
            "text/plain": [
              "<tensorflow.python.keras.callbacks.History at 0x7f68c723ff50>"
            ]
          },
          "metadata": {
            "tags": []
          },
          "execution_count": 12
        }
      ]
    },
    {
      "cell_type": "code",
      "metadata": {
        "colab": {
          "base_uri": "https://localhost:8080/"
        },
        "id": "usmq6Cy44fsb",
        "outputId": "9725e219-25b4-4052-b4ae-f109c408e568"
      },
      "source": [
        "loss,acc  = model.evaluate(x,y)"
      ],
      "execution_count": 13,
      "outputs": [
        {
          "output_type": "stream",
          "text": [
            "24/24 [==============================] - 0s 1ms/step - loss: 0.5682 - accuracy: 0.7201\n"
          ],
          "name": "stdout"
        }
      ]
    },
    {
      "cell_type": "code",
      "metadata": {
        "colab": {
          "base_uri": "https://localhost:8080/"
        },
        "id": "YAAdpQY65RBb",
        "outputId": "c234c8c3-5e0b-471f-faa2-523396527600"
      },
      "source": [
        "loss,acc"
      ],
      "execution_count": 14,
      "outputs": [
        {
          "output_type": "execute_result",
          "data": {
            "text/plain": [
              "(0.5681588053703308, 0.7200520634651184)"
            ]
          },
          "metadata": {
            "tags": []
          },
          "execution_count": 14
        }
      ]
    },
    {
      "cell_type": "code",
      "metadata": {
        "id": "1L83946d5TFw"
      },
      "source": [
        ""
      ],
      "execution_count": null,
      "outputs": []
    }
  ]
}