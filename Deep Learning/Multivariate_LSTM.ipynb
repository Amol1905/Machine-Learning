{
  "nbformat": 4,
  "nbformat_minor": 0,
  "metadata": {
    "colab": {
      "name": "Multivariate_LSTM.ipynb",
      "provenance": []
    },
    "kernelspec": {
      "name": "python3",
      "display_name": "Python 3"
    },
    "language_info": {
      "name": "python"
    }
  },
  "cells": [
    {
      "cell_type": "code",
      "metadata": {
        "id": "Pnu82cn1Oqwk"
      },
      "source": [
        "import pandas as pd\n",
        "import numpy as np"
      ],
      "execution_count": 1,
      "outputs": []
    },
    {
      "cell_type": "code",
      "metadata": {
        "id": "uRjRc2HpPXMe"
      },
      "source": [
        "col_1 = np.array([10,20,30,40,50,60,70,80,90])\n",
        "col_2 =np.array( [15,25,35,45,55,65,75,85,95])"
      ],
      "execution_count": 5,
      "outputs": []
    },
    {
      "cell_type": "code",
      "metadata": {
        "colab": {
          "base_uri": "https://localhost:8080/"
        },
        "id": "7NmWo9TDPj70",
        "outputId": "a6dcd7d5-6993-4217-c624-c11a406343d3"
      },
      "source": [
        "out = []\n",
        "for i in range(len(col_1)):\n",
        "  out.append(col_1[i] + col_2[i])\n",
        "out_col = np.array(out)\n",
        "out_col"
      ],
      "execution_count": 6,
      "outputs": [
        {
          "output_type": "execute_result",
          "data": {
            "text/plain": [
              "array([ 25,  45,  65,  85, 105, 125, 145, 165, 185])"
            ]
          },
          "metadata": {
            "tags": []
          },
          "execution_count": 6
        }
      ]
    },
    {
      "cell_type": "code",
      "metadata": {
        "colab": {
          "base_uri": "https://localhost:8080/"
        },
        "id": "ESnnaoeKQBvr",
        "outputId": "f87764a1-1174-4175-dee1-83f2e393ec8c"
      },
      "source": [
        "out_col - np.array([col_1[i] + col_2[i] for i in range(len(col_1))])\n",
        "out_col"
      ],
      "execution_count": 8,
      "outputs": [
        {
          "output_type": "execute_result",
          "data": {
            "text/plain": [
              "array([ 25,  45,  65,  85, 105, 125, 145, 165, 185])"
            ]
          },
          "metadata": {
            "tags": []
          },
          "execution_count": 8
        }
      ]
    },
    {
      "cell_type": "code",
      "metadata": {
        "colab": {
          "base_uri": "https://localhost:8080/"
        },
        "id": "2MniBl6KQcJ-",
        "outputId": "8b2ac9e3-8589-4ce2-dd03-26662c49084a"
      },
      "source": [
        "col_1 = col_1.reshape(len(col_1),1)\n",
        "col_2 = col_2.reshape(len(col_2),1)\n",
        "out_col = out_col.reshape(len(out_col),1)\n",
        "data = np.hstack((col_1,col_2,out_col))\n",
        "print(data)\n",
        "print(data.shape)\n"
      ],
      "execution_count": 30,
      "outputs": [
        {
          "output_type": "stream",
          "text": [
            "[[ 10  15  25]\n",
            " [ 20  25  45]\n",
            " [ 30  35  65]\n",
            " [ 40  45  85]\n",
            " [ 50  55 105]\n",
            " [ 60  65 125]\n",
            " [ 70  75 145]\n",
            " [ 80  85 165]\n",
            " [ 90  95 185]]\n",
            "(9, 3)\n"
          ],
          "name": "stdout"
        }
      ]
    },
    {
      "cell_type": "code",
      "metadata": {
        "id": "kANYlZBzRo6j"
      },
      "source": [
        "def feature_selection(n_steps,data):\n",
        "  x = []\n",
        "  y =[]\n",
        "  for i in range(n_steps,len(data)+1):\n",
        "    x.append(data[i-n_steps:i,:2])\n",
        "    y.append(data[i-1,-1])\n",
        "  return np.array(x),np.array(y)"
      ],
      "execution_count": 27,
      "outputs": []
    },
    {
      "cell_type": "code",
      "metadata": {
        "colab": {
          "base_uri": "https://localhost:8080/"
        },
        "id": "-_aBp-HUScBC",
        "outputId": "129e301c-4751-4445-9c1b-3d156cfa40a3"
      },
      "source": [
        "n_steps = 3\n",
        "x,y = feature_selection(n_steps,data)\n",
        "x,y"
      ],
      "execution_count": 28,
      "outputs": [
        {
          "output_type": "execute_result",
          "data": {
            "text/plain": [
              "(array([[[10, 15],\n",
              "         [20, 25],\n",
              "         [30, 35]],\n",
              " \n",
              "        [[20, 25],\n",
              "         [30, 35],\n",
              "         [40, 45]],\n",
              " \n",
              "        [[30, 35],\n",
              "         [40, 45],\n",
              "         [50, 55]],\n",
              " \n",
              "        [[40, 45],\n",
              "         [50, 55],\n",
              "         [60, 65]],\n",
              " \n",
              "        [[50, 55],\n",
              "         [60, 65],\n",
              "         [70, 75]],\n",
              " \n",
              "        [[60, 65],\n",
              "         [70, 75],\n",
              "         [80, 85]],\n",
              " \n",
              "        [[70, 75],\n",
              "         [80, 85],\n",
              "         [90, 95]]]), array([ 65,  85, 105, 125, 145, 165, 185]))"
            ]
          },
          "metadata": {
            "tags": []
          },
          "execution_count": 28
        }
      ]
    },
    {
      "cell_type": "code",
      "metadata": {
        "colab": {
          "base_uri": "https://localhost:8080/"
        },
        "id": "4Dcn7KDASy5o",
        "outputId": "b5fb2f80-f228-425d-9d3d-e7c9e050a6d5"
      },
      "source": [
        "from keras.layers import LSTM,Dense\n",
        "from keras.models import Sequential\n",
        "model = Sequential()\n",
        "model.add(LSTM(50,activation = 'relu',input_shape = (n_steps,x.shape[2])))\n",
        "model.add(Dense(1))\n",
        "model.compile(optimizer = 'adam',loss = 'mean_squared_error')\n",
        "model.summary()"
      ],
      "execution_count": 21,
      "outputs": [
        {
          "output_type": "stream",
          "text": [
            "Model: \"sequential_2\"\n",
            "_________________________________________________________________\n",
            "Layer (type)                 Output Shape              Param #   \n",
            "=================================================================\n",
            "lstm_2 (LSTM)                (None, 50)                10600     \n",
            "_________________________________________________________________\n",
            "dense_2 (Dense)              (None, 1)                 51        \n",
            "=================================================================\n",
            "Total params: 10,651\n",
            "Trainable params: 10,651\n",
            "Non-trainable params: 0\n",
            "_________________________________________________________________\n"
          ],
          "name": "stdout"
        }
      ]
    },
    {
      "cell_type": "code",
      "metadata": {
        "colab": {
          "base_uri": "https://localhost:8080/",
          "height": 1000
        },
        "id": "Pq2_nRYETiTC",
        "outputId": "bdbb8da4-4f6d-48ac-bf97-e0e571563bb4"
      },
      "source": [
        "history = model.fit(x,y,epochs=100)\n",
        "import matplotlib.pyplot as plt\n",
        "plt.plot(history.history['loss'])"
      ],
      "execution_count": 22,
      "outputs": [
        {
          "output_type": "stream",
          "text": [
            "Epoch 1/100\n",
            "1/1 [==============================] - 1s 1s/step - loss: 18456.0176\n",
            "Epoch 2/100\n",
            "1/1 [==============================] - 0s 10ms/step - loss: 18290.5918\n",
            "Epoch 3/100\n",
            "1/1 [==============================] - 0s 13ms/step - loss: 18133.1074\n",
            "Epoch 4/100\n",
            "1/1 [==============================] - 0s 7ms/step - loss: 17981.4492\n",
            "Epoch 5/100\n",
            "1/1 [==============================] - 0s 5ms/step - loss: 17833.5898\n",
            "Epoch 6/100\n",
            "1/1 [==============================] - 0s 6ms/step - loss: 17687.7012\n",
            "Epoch 7/100\n",
            "1/1 [==============================] - 0s 8ms/step - loss: 17542.3223\n",
            "Epoch 8/100\n",
            "1/1 [==============================] - 0s 8ms/step - loss: 17396.4082\n",
            "Epoch 9/100\n",
            "1/1 [==============================] - 0s 7ms/step - loss: 17248.7695\n",
            "Epoch 10/100\n",
            "1/1 [==============================] - 0s 9ms/step - loss: 17098.1523\n",
            "Epoch 11/100\n",
            "1/1 [==============================] - 0s 8ms/step - loss: 16943.0977\n",
            "Epoch 12/100\n",
            "1/1 [==============================] - 0s 7ms/step - loss: 16781.6895\n",
            "Epoch 13/100\n",
            "1/1 [==============================] - 0s 10ms/step - loss: 16611.7988\n",
            "Epoch 14/100\n",
            "1/1 [==============================] - 0s 7ms/step - loss: 16430.3379\n",
            "Epoch 15/100\n",
            "1/1 [==============================] - 0s 7ms/step - loss: 16234.1182\n",
            "Epoch 16/100\n",
            "1/1 [==============================] - 0s 5ms/step - loss: 16019.6484\n",
            "Epoch 17/100\n",
            "1/1 [==============================] - 0s 5ms/step - loss: 15780.9824\n",
            "Epoch 18/100\n",
            "1/1 [==============================] - 0s 6ms/step - loss: 15514.3975\n",
            "Epoch 19/100\n",
            "1/1 [==============================] - 0s 5ms/step - loss: 15219.9736\n",
            "Epoch 20/100\n",
            "1/1 [==============================] - 0s 8ms/step - loss: 14899.3525\n",
            "Epoch 21/100\n",
            "1/1 [==============================] - 0s 8ms/step - loss: 14558.2480\n",
            "Epoch 22/100\n",
            "1/1 [==============================] - 0s 7ms/step - loss: 14206.4229\n",
            "Epoch 23/100\n",
            "1/1 [==============================] - 0s 7ms/step - loss: 13855.7275\n",
            "Epoch 24/100\n",
            "1/1 [==============================] - 0s 11ms/step - loss: 13516.6875\n",
            "Epoch 25/100\n",
            "1/1 [==============================] - 0s 7ms/step - loss: 13195.4316\n",
            "Epoch 26/100\n",
            "1/1 [==============================] - 0s 10ms/step - loss: 12892.8857\n",
            "Epoch 27/100\n",
            "1/1 [==============================] - 0s 7ms/step - loss: 12606.3018\n",
            "Epoch 28/100\n",
            "1/1 [==============================] - 0s 8ms/step - loss: 12331.5801\n",
            "Epoch 29/100\n",
            "1/1 [==============================] - 0s 7ms/step - loss: 12064.7822\n",
            "Epoch 30/100\n",
            "1/1 [==============================] - 0s 7ms/step - loss: 11802.4316\n",
            "Epoch 31/100\n",
            "1/1 [==============================] - 0s 10ms/step - loss: 11541.2744\n",
            "Epoch 32/100\n",
            "1/1 [==============================] - 0s 8ms/step - loss: 11278.3369\n",
            "Epoch 33/100\n",
            "1/1 [==============================] - 0s 8ms/step - loss: 11010.7119\n",
            "Epoch 34/100\n",
            "1/1 [==============================] - 0s 8ms/step - loss: 10737.0283\n",
            "Epoch 35/100\n",
            "1/1 [==============================] - 0s 7ms/step - loss: 10456.3770\n",
            "Epoch 36/100\n",
            "1/1 [==============================] - 0s 8ms/step - loss: 10168.0264\n",
            "Epoch 37/100\n",
            "1/1 [==============================] - 0s 7ms/step - loss: 9869.9951\n",
            "Epoch 38/100\n",
            "1/1 [==============================] - 0s 8ms/step - loss: 9557.9043\n",
            "Epoch 39/100\n",
            "1/1 [==============================] - 0s 8ms/step - loss: 9224.4307\n",
            "Epoch 40/100\n",
            "1/1 [==============================] - 0s 6ms/step - loss: 8859.3857\n",
            "Epoch 41/100\n",
            "1/1 [==============================] - 0s 11ms/step - loss: 8451.0264\n",
            "Epoch 42/100\n",
            "1/1 [==============================] - 0s 6ms/step - loss: 7989.5103\n",
            "Epoch 43/100\n",
            "1/1 [==============================] - 0s 11ms/step - loss: 7471.6221\n",
            "Epoch 44/100\n",
            "1/1 [==============================] - 0s 10ms/step - loss: 6903.0156\n",
            "Epoch 45/100\n",
            "1/1 [==============================] - 0s 8ms/step - loss: 6296.2085\n",
            "Epoch 46/100\n",
            "1/1 [==============================] - 0s 8ms/step - loss: 5664.9150\n",
            "Epoch 47/100\n",
            "1/1 [==============================] - 0s 6ms/step - loss: 5012.8638\n",
            "Epoch 48/100\n",
            "1/1 [==============================] - 0s 6ms/step - loss: 4315.6948\n",
            "Epoch 49/100\n",
            "1/1 [==============================] - 0s 6ms/step - loss: 3529.2000\n",
            "Epoch 50/100\n",
            "1/1 [==============================] - 0s 8ms/step - loss: 2661.0073\n",
            "Epoch 51/100\n",
            "1/1 [==============================] - 0s 8ms/step - loss: 1801.1853\n",
            "Epoch 52/100\n",
            "1/1 [==============================] - 0s 7ms/step - loss: 1101.5010\n",
            "Epoch 53/100\n",
            "1/1 [==============================] - 0s 7ms/step - loss: 643.9058\n",
            "Epoch 54/100\n",
            "1/1 [==============================] - 0s 8ms/step - loss: 353.5698\n",
            "Epoch 55/100\n",
            "1/1 [==============================] - 0s 7ms/step - loss: 187.2700\n",
            "Epoch 56/100\n",
            "1/1 [==============================] - 0s 7ms/step - loss: 126.0078\n",
            "Epoch 57/100\n",
            "1/1 [==============================] - 0s 38ms/step - loss: 152.1993\n",
            "Epoch 58/100\n",
            "1/1 [==============================] - 0s 9ms/step - loss: 242.1899\n",
            "Epoch 59/100\n",
            "1/1 [==============================] - 0s 6ms/step - loss: 360.7784\n",
            "Epoch 60/100\n",
            "1/1 [==============================] - 0s 8ms/step - loss: 468.3255\n",
            "Epoch 61/100\n",
            "1/1 [==============================] - 0s 8ms/step - loss: 535.7058\n",
            "Epoch 62/100\n",
            "1/1 [==============================] - 0s 7ms/step - loss: 551.4664\n",
            "Epoch 63/100\n",
            "1/1 [==============================] - 0s 8ms/step - loss: 520.1191\n",
            "Epoch 64/100\n",
            "1/1 [==============================] - 0s 6ms/step - loss: 456.7933\n",
            "Epoch 65/100\n",
            "1/1 [==============================] - 0s 7ms/step - loss: 378.9369\n",
            "Epoch 66/100\n",
            "1/1 [==============================] - 0s 7ms/step - loss: 298.3627\n",
            "Epoch 67/100\n",
            "1/1 [==============================] - 0s 9ms/step - loss: 222.1436\n",
            "Epoch 68/100\n",
            "1/1 [==============================] - 0s 7ms/step - loss: 157.6817\n",
            "Epoch 69/100\n",
            "1/1 [==============================] - 0s 9ms/step - loss: 110.7827\n",
            "Epoch 70/100\n",
            "1/1 [==============================] - 0s 7ms/step - loss: 82.2305\n",
            "Epoch 71/100\n",
            "1/1 [==============================] - 0s 12ms/step - loss: 72.4462\n",
            "Epoch 72/100\n",
            "1/1 [==============================] - 0s 6ms/step - loss: 84.7354\n",
            "Epoch 73/100\n",
            "1/1 [==============================] - 0s 12ms/step - loss: 105.4819\n",
            "Epoch 74/100\n",
            "1/1 [==============================] - 0s 7ms/step - loss: 115.5577\n",
            "Epoch 75/100\n",
            "1/1 [==============================] - 0s 8ms/step - loss: 112.8800\n",
            "Epoch 76/100\n",
            "1/1 [==============================] - 0s 8ms/step - loss: 102.4192\n",
            "Epoch 77/100\n",
            "1/1 [==============================] - 0s 8ms/step - loss: 90.9268\n",
            "Epoch 78/100\n",
            "1/1 [==============================] - 0s 8ms/step - loss: 81.9783\n",
            "Epoch 79/100\n",
            "1/1 [==============================] - 0s 8ms/step - loss: 75.5564\n",
            "Epoch 80/100\n",
            "1/1 [==============================] - 0s 11ms/step - loss: 70.7507\n",
            "Epoch 81/100\n",
            "1/1 [==============================] - 0s 12ms/step - loss: 66.8655\n",
            "Epoch 82/100\n",
            "1/1 [==============================] - 0s 7ms/step - loss: 63.4718\n",
            "Epoch 83/100\n",
            "1/1 [==============================] - 0s 7ms/step - loss: 60.3244\n",
            "Epoch 84/100\n",
            "1/1 [==============================] - 0s 13ms/step - loss: 57.3010\n",
            "Epoch 85/100\n",
            "1/1 [==============================] - 0s 10ms/step - loss: 54.3442\n",
            "Epoch 86/100\n",
            "1/1 [==============================] - 0s 7ms/step - loss: 51.3729\n",
            "Epoch 87/100\n",
            "1/1 [==============================] - 0s 7ms/step - loss: 48.2168\n",
            "Epoch 88/100\n",
            "1/1 [==============================] - 0s 7ms/step - loss: 44.7826\n",
            "Epoch 89/100\n",
            "1/1 [==============================] - 0s 7ms/step - loss: 41.1962\n",
            "Epoch 90/100\n",
            "1/1 [==============================] - 0s 7ms/step - loss: 37.6446\n",
            "Epoch 91/100\n",
            "1/1 [==============================] - 0s 7ms/step - loss: 34.2704\n",
            "Epoch 92/100\n",
            "1/1 [==============================] - 0s 8ms/step - loss: 31.0946\n",
            "Epoch 93/100\n",
            "1/1 [==============================] - 0s 11ms/step - loss: 28.0410\n",
            "Epoch 94/100\n",
            "1/1 [==============================] - 0s 8ms/step - loss: 25.0069\n",
            "Epoch 95/100\n",
            "1/1 [==============================] - 0s 8ms/step - loss: 21.9798\n",
            "Epoch 96/100\n",
            "1/1 [==============================] - 0s 7ms/step - loss: 19.1596\n",
            "Epoch 97/100\n",
            "1/1 [==============================] - 0s 7ms/step - loss: 16.6580\n",
            "Epoch 98/100\n",
            "1/1 [==============================] - 0s 13ms/step - loss: 14.4309\n",
            "Epoch 99/100\n",
            "1/1 [==============================] - 0s 15ms/step - loss: 12.4847\n",
            "Epoch 100/100\n",
            "1/1 [==============================] - 0s 7ms/step - loss: 10.8215\n"
          ],
          "name": "stdout"
        },
        {
          "output_type": "execute_result",
          "data": {
            "text/plain": [
              "[<matplotlib.lines.Line2D at 0x7fcb30f9d310>]"
            ]
          },
          "metadata": {
            "tags": []
          },
          "execution_count": 22
        },
        {
          "output_type": "display_data",
          "data": {
            "image/png": "[encoded data removed]",
            "text/plain": [
              "<Figure size 432x288 with 1 Axes>"
            ]
          },
          "metadata": {
            "tags": [],
            "needs_background": "light"
          }
        }
      ]
    },
    {
      "cell_type": "code",
      "metadata": {
        "colab": {
          "base_uri": "https://localhost:8080/"
        },
        "id": "kuSpz2EQT5FO",
        "outputId": "37f48daa-f6ca-4cfd-d921-70a225dbff33"
      },
      "source": [
        "xtest = np.array([[80,85],[90,95],[100,105]])\n",
        "xtest = xtest.reshape(1,n_steps,2)\n",
        "ypred = model.predict(xtest)\n",
        "ypred"
      ],
      "execution_count": 23,
      "outputs": [
        {
          "output_type": "execute_result",
          "data": {
            "text/plain": [
              "array([[207.26059]], dtype=float32)"
            ]
          },
          "metadata": {
            "tags": []
          },
          "execution_count": 23
        }
      ]
    },
    {
      "cell_type": "code",
      "metadata": {
        "id": "G-YnZu8fUXD1"
      },
      "source": [
        ""
      ],
      "execution_count": null,
      "outputs": []
    }
  ]
}