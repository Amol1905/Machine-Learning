{
  "nbformat": 4,
  "nbformat_minor": 0,
  "metadata": {
    "colab": {
      "name": "AMZN_LSTM.ipynb",
      "provenance": []
    },
    "kernelspec": {
      "name": "python3",
      "display_name": "Python 3"
    },
    "language_info": {
      "name": "python"
    }
  },
  "cells": [
    {
      "cell_type": "code",
      "metadata": {
        "id": "q8pUDc0_3Z6G"
      },
      "source": [
        "import pandas as pd\n",
        "import matplotlib.pyplot as plt\n",
        "import numpy as np\n"
      ],
      "execution_count": null,
      "outputs": []
    },
    {
      "cell_type": "code",
      "metadata": {
        "colab": {
          "base_uri": "https://localhost:8080/",
          "height": 235
        },
        "id": "I08ttMZN3ltU",
        "outputId": "5770cdb8-587d-43d5-a4e8-83f982098d7c"
      },
      "source": [
        "df = pd.read_csv('/content/AMZNtrain.csv',parse_dates=['Date'],index_col='Date')\n",
        "df.head()"
      ],
      "execution_count": 3,
      "outputs": [
        {
          "output_type": "execute_result",
          "data": {
            "text/html": [
              "<div>\n",
              "<style scoped>\n",
              "    .dataframe tbody tr th:only-of-type {\n",
              "        vertical-align: middle;\n",
              "    }\n",
              "\n",
              "    .dataframe tbody tr th {\n",
              "        vertical-align: top;\n",
              "    }\n",
              "\n",
              "    .dataframe thead th {\n",
              "        text-align: right;\n",
              "    }\n",
              "</style>\n",
              "<table border=\"1\" class=\"dataframe\">\n",
              "  <thead>\n",
              "    <tr style=\"text-align: right;\">\n",
              "      <th></th>\n",
              "      <th>Open</th>\n",
              "      <th>High</th>\n",
              "      <th>Low</th>\n",
              "      <th>Close</th>\n",
              "      <th>Adj Close</th>\n",
              "      <th>Volume</th>\n",
              "    </tr>\n",
              "    <tr>\n",
              "      <th>Date</th>\n",
              "      <th></th>\n",
              "      <th></th>\n",
              "      <th></th>\n",
              "      <th></th>\n",
              "      <th></th>\n",
              "      <th></th>\n",
              "    </tr>\n",
              "  </thead>\n",
              "  <tbody>\n",
              "    <tr>\n",
              "      <th>2014-01-02</th>\n",
              "      <td>398.799988</td>\n",
              "      <td>399.359985</td>\n",
              "      <td>394.019989</td>\n",
              "      <td>397.970001</td>\n",
              "      <td>397.970001</td>\n",
              "      <td>2137800</td>\n",
              "    </tr>\n",
              "    <tr>\n",
              "      <th>2014-01-03</th>\n",
              "      <td>398.290009</td>\n",
              "      <td>402.709991</td>\n",
              "      <td>396.220001</td>\n",
              "      <td>396.440002</td>\n",
              "      <td>396.440002</td>\n",
              "      <td>2210200</td>\n",
              "    </tr>\n",
              "    <tr>\n",
              "      <th>2014-01-06</th>\n",
              "      <td>395.850006</td>\n",
              "      <td>397.000000</td>\n",
              "      <td>388.420013</td>\n",
              "      <td>393.630005</td>\n",
              "      <td>393.630005</td>\n",
              "      <td>3170600</td>\n",
              "    </tr>\n",
              "    <tr>\n",
              "      <th>2014-01-07</th>\n",
              "      <td>395.040009</td>\n",
              "      <td>398.470001</td>\n",
              "      <td>394.290009</td>\n",
              "      <td>398.029999</td>\n",
              "      <td>398.029999</td>\n",
              "      <td>1916000</td>\n",
              "    </tr>\n",
              "    <tr>\n",
              "      <th>2014-01-08</th>\n",
              "      <td>398.470001</td>\n",
              "      <td>403.000000</td>\n",
              "      <td>396.040009</td>\n",
              "      <td>401.920013</td>\n",
              "      <td>401.920013</td>\n",
              "      <td>2316500</td>\n",
              "    </tr>\n",
              "  </tbody>\n",
              "</table>\n",
              "</div>"
            ],
            "text/plain": [
              "                  Open        High         Low       Close   Adj Close   Volume\n",
              "Date                                                                           \n",
              "2014-01-02  398.799988  399.359985  394.019989  397.970001  397.970001  2137800\n",
              "2014-01-03  398.290009  402.709991  396.220001  396.440002  396.440002  2210200\n",
              "2014-01-06  395.850006  397.000000  388.420013  393.630005  393.630005  3170600\n",
              "2014-01-07  395.040009  398.470001  394.290009  398.029999  398.029999  1916000\n",
              "2014-01-08  398.470001  403.000000  396.040009  401.920013  401.920013  2316500"
            ]
          },
          "metadata": {
            "tags": []
          },
          "execution_count": 3
        }
      ]
    },
    {
      "cell_type": "code",
      "metadata": {
        "id": "PBuR7bTZ3zXo",
        "colab": {
          "base_uri": "https://localhost:8080/"
        },
        "outputId": "6edae2de-4646-490d-d755-ed5f16c78ed0"
      },
      "source": [
        "xtrain = df[['Open']]\n",
        "xtrain.shape"
      ],
      "execution_count": 6,
      "outputs": [
        {
          "output_type": "execute_result",
          "data": {
            "text/plain": [
              "(1258, 1)"
            ]
          },
          "metadata": {
            "tags": []
          },
          "execution_count": 6
        }
      ]
    },
    {
      "cell_type": "code",
      "metadata": {
        "colab": {
          "base_uri": "https://localhost:8080/"
        },
        "id": "OEQG1IT-44ys",
        "outputId": "fb064d7c-2560-484e-c2fb-aaaea15e40af"
      },
      "source": [
        "from sklearn.preprocessing import MinMaxScaler\n",
        "mnc = MinMaxScaler()\n",
        "mnc_xtrain = mnc.fit_transform(xtrain)\n",
        "mnc_xtrain.shape"
      ],
      "execution_count": 7,
      "outputs": [
        {
          "output_type": "execute_result",
          "data": {
            "text/plain": [
              "(1258, 1)"
            ]
          },
          "metadata": {
            "tags": []
          },
          "execution_count": 7
        }
      ]
    },
    {
      "cell_type": "code",
      "metadata": {
        "id": "NcrcrtzG5PMC"
      },
      "source": [
        "def feature_selection(n_steps,data):\n",
        "  x = []\n",
        "  y = []\n",
        "  for i in range(n_steps,len(data)):\n",
        "    x.append(data[i-n_steps:i,0])\n",
        "    y.append(data[i,0])\n",
        "  return np.array(x),np.array(y)\n"
      ],
      "execution_count": 8,
      "outputs": []
    },
    {
      "cell_type": "code",
      "metadata": {
        "colab": {
          "base_uri": "https://localhost:8080/"
        },
        "id": "gHit9_705eav",
        "outputId": "95918bab-3f2a-4175-9042-b45f098a22e5"
      },
      "source": [
        "n_steps = 15\n",
        "x_train, y_train = feature_selection(n_steps,mnc_xtrain)\n",
        "x_train.shape,y_train.shape"
      ],
      "execution_count": 12,
      "outputs": [
        {
          "output_type": "execute_result",
          "data": {
            "text/plain": [
              "((1243, 15), (1243,))"
            ]
          },
          "metadata": {
            "tags": []
          },
          "execution_count": 12
        }
      ]
    },
    {
      "cell_type": "code",
      "metadata": {
        "colab": {
          "base_uri": "https://localhost:8080/"
        },
        "id": "wX1qciPP50yR",
        "outputId": "1b4d521f-acb4-42b7-ebe3-9a468f433424"
      },
      "source": [
        "x_train = x_train.reshape(x_train.shape[0],x_train.shape[1],1)\n",
        "x_train.shape"
      ],
      "execution_count": 13,
      "outputs": [
        {
          "output_type": "execute_result",
          "data": {
            "text/plain": [
              "(1243, 15, 1)"
            ]
          },
          "metadata": {
            "tags": []
          },
          "execution_count": 13
        }
      ]
    },
    {
      "cell_type": "code",
      "metadata": {
        "id": "ojmSTL_l7Jl3"
      },
      "source": [
        "# GRU Model"
      ],
      "execution_count": null,
      "outputs": []
    },
    {
      "cell_type": "code",
      "metadata": {
        "colab": {
          "base_uri": "https://localhost:8080/"
        },
        "id": "Zr9SAljt6VCK",
        "outputId": "0420f9ab-4075-4512-cd20-24e3478d3855"
      },
      "source": [
        "from keras.models import Sequential\n",
        "from keras.layers import GRU,Dense\n",
        "model = Sequential()\n",
        "model.add(GRU(100,activation = 'relu',input_shape = (n_steps,1)))\n",
        "model.add(Dense(1))\n",
        "model.compile(optimizer = 'adam',loss = 'mean_squared_error')\n",
        "model.summary()"
      ],
      "execution_count": 63,
      "outputs": [
        {
          "output_type": "stream",
          "text": [
            "Model: \"sequential_3\"\n",
            "_________________________________________________________________\n",
            "Layer (type)                 Output Shape              Param #   \n",
            "=================================================================\n",
            "gru_1 (GRU)                  (None, 100)               30900     \n",
            "_________________________________________________________________\n",
            "dense_3 (Dense)              (None, 1)                 101       \n",
            "=================================================================\n",
            "Total params: 31,001\n",
            "Trainable params: 31,001\n",
            "Non-trainable params: 0\n",
            "_________________________________________________________________\n"
          ],
          "name": "stdout"
        }
      ]
    },
    {
      "cell_type": "code",
      "metadata": {
        "colab": {
          "base_uri": "https://localhost:8080/"
        },
        "id": "FjYUbNwS71NP",
        "outputId": "f213c5f8-5ddb-4e6f-c274-d33e2b49e517"
      },
      "source": [
        "history = model.fit(x_train,y_train,epochs=100,batch_size=12)"
      ],
      "execution_count": 64,
      "outputs": [
        {
          "output_type": "stream",
          "text": [
            "Epoch 1/100\n",
            "104/104 [==============================] - 2s 9ms/step - loss: 0.0379\n",
            "Epoch 2/100\n",
            "104/104 [==============================] - 1s 10ms/step - loss: 2.5639e-04\n",
            "Epoch 3/100\n",
            "104/104 [==============================] - 1s 10ms/step - loss: 2.5246e-04\n",
            "Epoch 4/100\n",
            "104/104 [==============================] - 1s 10ms/step - loss: 2.4791e-04\n",
            "Epoch 5/100\n",
            "104/104 [==============================] - 1s 10ms/step - loss: 2.1858e-04\n",
            "Epoch 6/100\n",
            "104/104 [==============================] - 1s 10ms/step - loss: 2.5632e-04\n",
            "Epoch 7/100\n",
            "104/104 [==============================] - 1s 10ms/step - loss: 2.3508e-04\n",
            "Epoch 8/100\n",
            "104/104 [==============================] - 1s 10ms/step - loss: 1.6826e-04\n",
            "Epoch 9/100\n",
            "104/104 [==============================] - 1s 9ms/step - loss: 2.0089e-04\n",
            "Epoch 10/100\n",
            "104/104 [==============================] - 1s 10ms/step - loss: 2.0749e-04\n",
            "Epoch 11/100\n",
            "104/104 [==============================] - 1s 10ms/step - loss: 1.6853e-04\n",
            "Epoch 12/100\n",
            "104/104 [==============================] - 1s 9ms/step - loss: 1.7068e-04\n",
            "Epoch 13/100\n",
            "104/104 [==============================] - 1s 10ms/step - loss: 1.9704e-04\n",
            "Epoch 14/100\n",
            "104/104 [==============================] - 1s 9ms/step - loss: 1.9024e-04\n",
            "Epoch 15/100\n",
            "104/104 [==============================] - 1s 9ms/step - loss: 2.2603e-04\n",
            "Epoch 16/100\n",
            "104/104 [==============================] - 1s 9ms/step - loss: 1.9137e-04\n",
            "Epoch 17/100\n",
            "104/104 [==============================] - 1s 10ms/step - loss: 1.6187e-04\n",
            "Epoch 18/100\n",
            "104/104 [==============================] - 1s 10ms/step - loss: 2.2090e-04\n",
            "Epoch 19/100\n",
            "104/104 [==============================] - 1s 10ms/step - loss: 1.5639e-04\n",
            "Epoch 20/100\n",
            "104/104 [==============================] - 1s 9ms/step - loss: 1.7682e-04\n",
            "Epoch 21/100\n",
            "104/104 [==============================] - 1s 10ms/step - loss: 1.5327e-04\n",
            "Epoch 22/100\n",
            "104/104 [==============================] - 1s 9ms/step - loss: 1.8578e-04\n",
            "Epoch 23/100\n",
            "104/104 [==============================] - 1s 9ms/step - loss: 1.5020e-04\n",
            "Epoch 24/100\n",
            "104/104 [==============================] - 1s 9ms/step - loss: 1.8742e-04\n",
            "Epoch 25/100\n",
            "104/104 [==============================] - 1s 9ms/step - loss: 2.0402e-04\n",
            "Epoch 26/100\n",
            "104/104 [==============================] - 1s 10ms/step - loss: 2.0143e-04\n",
            "Epoch 27/100\n",
            "104/104 [==============================] - 1s 10ms/step - loss: 1.3192e-04\n",
            "Epoch 28/100\n",
            "104/104 [==============================] - 1s 10ms/step - loss: 1.4643e-04\n",
            "Epoch 29/100\n",
            "104/104 [==============================] - 1s 9ms/step - loss: 2.6053e-04\n",
            "Epoch 30/100\n",
            "104/104 [==============================] - 1s 9ms/step - loss: 1.4798e-04\n",
            "Epoch 31/100\n",
            "104/104 [==============================] - 1s 10ms/step - loss: 1.8045e-04\n",
            "Epoch 32/100\n",
            "104/104 [==============================] - 1s 10ms/step - loss: 1.7791e-04\n",
            "Epoch 33/100\n",
            "104/104 [==============================] - 1s 9ms/step - loss: 2.1989e-04\n",
            "Epoch 34/100\n",
            "104/104 [==============================] - 1s 9ms/step - loss: 1.5436e-04\n",
            "Epoch 35/100\n",
            "104/104 [==============================] - 1s 9ms/step - loss: 1.7560e-04\n",
            "Epoch 36/100\n",
            "104/104 [==============================] - 1s 9ms/step - loss: 1.7787e-04\n",
            "Epoch 37/100\n",
            "104/104 [==============================] - 1s 9ms/step - loss: 2.0217e-04\n",
            "Epoch 38/100\n",
            "104/104 [==============================] - 1s 9ms/step - loss: 1.6716e-04\n",
            "Epoch 39/100\n",
            "104/104 [==============================] - 1s 9ms/step - loss: 1.8948e-04\n",
            "Epoch 40/100\n",
            "104/104 [==============================] - 1s 9ms/step - loss: 1.7560e-04\n",
            "Epoch 41/100\n",
            "104/104 [==============================] - 1s 9ms/step - loss: 1.6897e-04\n",
            "Epoch 42/100\n",
            "104/104 [==============================] - 1s 9ms/step - loss: 1.8391e-04\n",
            "Epoch 43/100\n",
            "104/104 [==============================] - 1s 9ms/step - loss: 2.2102e-04\n",
            "Epoch 44/100\n",
            "104/104 [==============================] - 1s 10ms/step - loss: 1.5896e-04\n",
            "Epoch 45/100\n",
            "104/104 [==============================] - 1s 10ms/step - loss: 1.6139e-04\n",
            "Epoch 46/100\n",
            "104/104 [==============================] - 1s 10ms/step - loss: 1.7583e-04\n",
            "Epoch 47/100\n",
            "104/104 [==============================] - 1s 10ms/step - loss: 1.9994e-04\n",
            "Epoch 48/100\n",
            "104/104 [==============================] - 1s 10ms/step - loss: 1.6731e-04\n",
            "Epoch 49/100\n",
            "104/104 [==============================] - 1s 10ms/step - loss: 1.6514e-04\n",
            "Epoch 50/100\n",
            "104/104 [==============================] - 1s 9ms/step - loss: 1.5506e-04\n",
            "Epoch 51/100\n",
            "104/104 [==============================] - 1s 10ms/step - loss: 1.5502e-04\n",
            "Epoch 52/100\n",
            "104/104 [==============================] - 1s 9ms/step - loss: 1.6794e-04\n",
            "Epoch 53/100\n",
            "104/104 [==============================] - 1s 10ms/step - loss: 2.0816e-04\n",
            "Epoch 54/100\n",
            "104/104 [==============================] - 1s 9ms/step - loss: 1.5039e-04\n",
            "Epoch 55/100\n",
            "104/104 [==============================] - 1s 9ms/step - loss: 1.8384e-04\n",
            "Epoch 56/100\n",
            "104/104 [==============================] - 1s 9ms/step - loss: 1.2523e-04\n",
            "Epoch 57/100\n",
            "104/104 [==============================] - 1s 9ms/step - loss: 2.0588e-04\n",
            "Epoch 58/100\n",
            "104/104 [==============================] - 1s 9ms/step - loss: 1.6674e-04\n",
            "Epoch 59/100\n",
            "104/104 [==============================] - 1s 9ms/step - loss: 2.8033e-04\n",
            "Epoch 60/100\n",
            "104/104 [==============================] - 1s 9ms/step - loss: 1.3388e-04\n",
            "Epoch 61/100\n",
            "104/104 [==============================] - 1s 10ms/step - loss: 1.5353e-04\n",
            "Epoch 62/100\n",
            "104/104 [==============================] - 1s 9ms/step - loss: 1.4683e-04\n",
            "Epoch 63/100\n",
            "104/104 [==============================] - 1s 9ms/step - loss: 1.3726e-04\n",
            "Epoch 64/100\n",
            "104/104 [==============================] - 1s 9ms/step - loss: 1.6064e-04\n",
            "Epoch 65/100\n",
            "104/104 [==============================] - 1s 9ms/step - loss: 2.0571e-04\n",
            "Epoch 66/100\n",
            "104/104 [==============================] - 1s 9ms/step - loss: 1.9848e-04\n",
            "Epoch 67/100\n",
            "104/104 [==============================] - 1s 9ms/step - loss: 1.8523e-04\n",
            "Epoch 68/100\n",
            "104/104 [==============================] - 1s 9ms/step - loss: 1.5986e-04\n",
            "Epoch 69/100\n",
            "104/104 [==============================] - 1s 9ms/step - loss: 1.6937e-04\n",
            "Epoch 70/100\n",
            "104/104 [==============================] - 1s 9ms/step - loss: 1.3906e-04\n",
            "Epoch 71/100\n",
            "104/104 [==============================] - 1s 9ms/step - loss: 1.5849e-04\n",
            "Epoch 72/100\n",
            "104/104 [==============================] - 1s 10ms/step - loss: 2.1459e-04\n",
            "Epoch 73/100\n",
            "104/104 [==============================] - 1s 9ms/step - loss: 1.6336e-04\n",
            "Epoch 74/100\n",
            "104/104 [==============================] - 1s 10ms/step - loss: 1.5522e-04\n",
            "Epoch 75/100\n",
            "104/104 [==============================] - 1s 10ms/step - loss: 1.3144e-04\n",
            "Epoch 76/100\n",
            "104/104 [==============================] - 1s 9ms/step - loss: 2.2286e-04\n",
            "Epoch 77/100\n",
            "104/104 [==============================] - 1s 9ms/step - loss: 1.5475e-04\n",
            "Epoch 78/100\n",
            "104/104 [==============================] - 1s 10ms/step - loss: 1.6332e-04\n",
            "Epoch 79/100\n",
            "104/104 [==============================] - 1s 10ms/step - loss: 1.9845e-04\n",
            "Epoch 80/100\n",
            "104/104 [==============================] - 1s 9ms/step - loss: 1.5865e-04\n",
            "Epoch 81/100\n",
            "104/104 [==============================] - 1s 10ms/step - loss: 1.8810e-04\n",
            "Epoch 82/100\n",
            "104/104 [==============================] - 1s 10ms/step - loss: 1.8482e-04\n",
            "Epoch 83/100\n",
            "104/104 [==============================] - 1s 9ms/step - loss: 1.5121e-04\n",
            "Epoch 84/100\n",
            "104/104 [==============================] - 1s 10ms/step - loss: 1.9651e-04\n",
            "Epoch 85/100\n",
            "104/104 [==============================] - 1s 10ms/step - loss: 1.5347e-04\n",
            "Epoch 86/100\n",
            "104/104 [==============================] - 1s 10ms/step - loss: 1.7223e-04\n",
            "Epoch 87/100\n",
            "104/104 [==============================] - 1s 9ms/step - loss: 1.5916e-04\n",
            "Epoch 88/100\n",
            "104/104 [==============================] - 1s 9ms/step - loss: 1.8861e-04\n",
            "Epoch 89/100\n",
            "104/104 [==============================] - 1s 10ms/step - loss: 1.6207e-04\n",
            "Epoch 90/100\n",
            "104/104 [==============================] - 1s 9ms/step - loss: 1.2829e-04\n",
            "Epoch 91/100\n",
            "104/104 [==============================] - 1s 9ms/step - loss: 1.5400e-04\n",
            "Epoch 92/100\n",
            "104/104 [==============================] - 1s 10ms/step - loss: 1.4902e-04\n",
            "Epoch 93/100\n",
            "104/104 [==============================] - 1s 10ms/step - loss: 1.6631e-04\n",
            "Epoch 94/100\n",
            "104/104 [==============================] - 1s 10ms/step - loss: 1.6437e-04\n",
            "Epoch 95/100\n",
            "104/104 [==============================] - 1s 10ms/step - loss: 1.5235e-04\n",
            "Epoch 96/100\n",
            "104/104 [==============================] - 1s 9ms/step - loss: 1.5839e-04\n",
            "Epoch 97/100\n",
            "104/104 [==============================] - 1s 9ms/step - loss: 1.6293e-04\n",
            "Epoch 98/100\n",
            "104/104 [==============================] - 1s 10ms/step - loss: 1.5593e-04\n",
            "Epoch 99/100\n",
            "104/104 [==============================] - 1s 9ms/step - loss: 1.8210e-04\n",
            "Epoch 100/100\n",
            "104/104 [==============================] - 1s 10ms/step - loss: 2.0404e-04\n"
          ],
          "name": "stdout"
        }
      ]
    },
    {
      "cell_type": "code",
      "metadata": {
        "colab": {
          "base_uri": "https://localhost:8080/",
          "height": 282
        },
        "id": "awfX0xWi8GYQ",
        "outputId": "46bb0d27-693c-4fa4-c3a3-b6a63da5fcef"
      },
      "source": [
        "plt.plot(history.history['loss'])"
      ],
      "execution_count": 65,
      "outputs": [
        {
          "output_type": "execute_result",
          "data": {
            "text/plain": [
              "[<matplotlib.lines.Line2D at 0x7f9ab0a47090>]"
            ]
          },
          "metadata": {
            "tags": []
          },
          "execution_count": 65
        },
        {
          "output_type": "display_data",
          "data": {
            "image/png": "[encoded data removed]",
            "text/plain": [
              "<Figure size 432x288 with 1 Axes>"
            ]
          },
          "metadata": {
            "tags": [],
            "needs_background": "light"
          }
        }
      ]
    },
    {
      "cell_type": "code",
      "metadata": {
        "colab": {
          "base_uri": "https://localhost:8080/",
          "height": 235
        },
        "id": "tNz1XMfm8p0b",
        "outputId": "bcb8e775-3555-42fa-8c42-16a0bd4b6e09"
      },
      "source": [
        "test = pd.read_csv('/content/AMZNtrain.csv',parse_dates=['Date'],index_col='Date')\n",
        "test.head()\n"
      ],
      "execution_count": 66,
      "outputs": [
        {
          "output_type": "execute_result",
          "data": {
            "text/html": [
              "<div>\n",
              "<style scoped>\n",
              "    .dataframe tbody tr th:only-of-type {\n",
              "        vertical-align: middle;\n",
              "    }\n",
              "\n",
              "    .dataframe tbody tr th {\n",
              "        vertical-align: top;\n",
              "    }\n",
              "\n",
              "    .dataframe thead th {\n",
              "        text-align: right;\n",
              "    }\n",
              "</style>\n",
              "<table border=\"1\" class=\"dataframe\">\n",
              "  <thead>\n",
              "    <tr style=\"text-align: right;\">\n",
              "      <th></th>\n",
              "      <th>Open</th>\n",
              "      <th>High</th>\n",
              "      <th>Low</th>\n",
              "      <th>Close</th>\n",
              "      <th>Adj Close</th>\n",
              "      <th>Volume</th>\n",
              "    </tr>\n",
              "    <tr>\n",
              "      <th>Date</th>\n",
              "      <th></th>\n",
              "      <th></th>\n",
              "      <th></th>\n",
              "      <th></th>\n",
              "      <th></th>\n",
              "      <th></th>\n",
              "    </tr>\n",
              "  </thead>\n",
              "  <tbody>\n",
              "    <tr>\n",
              "      <th>2014-01-02</th>\n",
              "      <td>398.799988</td>\n",
              "      <td>399.359985</td>\n",
              "      <td>394.019989</td>\n",
              "      <td>397.970001</td>\n",
              "      <td>397.970001</td>\n",
              "      <td>2137800</td>\n",
              "    </tr>\n",
              "    <tr>\n",
              "      <th>2014-01-03</th>\n",
              "      <td>398.290009</td>\n",
              "      <td>402.709991</td>\n",
              "      <td>396.220001</td>\n",
              "      <td>396.440002</td>\n",
              "      <td>396.440002</td>\n",
              "      <td>2210200</td>\n",
              "    </tr>\n",
              "    <tr>\n",
              "      <th>2014-01-06</th>\n",
              "      <td>395.850006</td>\n",
              "      <td>397.000000</td>\n",
              "      <td>388.420013</td>\n",
              "      <td>393.630005</td>\n",
              "      <td>393.630005</td>\n",
              "      <td>3170600</td>\n",
              "    </tr>\n",
              "    <tr>\n",
              "      <th>2014-01-07</th>\n",
              "      <td>395.040009</td>\n",
              "      <td>398.470001</td>\n",
              "      <td>394.290009</td>\n",
              "      <td>398.029999</td>\n",
              "      <td>398.029999</td>\n",
              "      <td>1916000</td>\n",
              "    </tr>\n",
              "    <tr>\n",
              "      <th>2014-01-08</th>\n",
              "      <td>398.470001</td>\n",
              "      <td>403.000000</td>\n",
              "      <td>396.040009</td>\n",
              "      <td>401.920013</td>\n",
              "      <td>401.920013</td>\n",
              "      <td>2316500</td>\n",
              "    </tr>\n",
              "  </tbody>\n",
              "</table>\n",
              "</div>"
            ],
            "text/plain": [
              "                  Open        High         Low       Close   Adj Close   Volume\n",
              "Date                                                                           \n",
              "2014-01-02  398.799988  399.359985  394.019989  397.970001  397.970001  2137800\n",
              "2014-01-03  398.290009  402.709991  396.220001  396.440002  396.440002  2210200\n",
              "2014-01-06  395.850006  397.000000  388.420013  393.630005  393.630005  3170600\n",
              "2014-01-07  395.040009  398.470001  394.290009  398.029999  398.029999  1916000\n",
              "2014-01-08  398.470001  403.000000  396.040009  401.920013  401.920013  2316500"
            ]
          },
          "metadata": {
            "tags": []
          },
          "execution_count": 66
        }
      ]
    },
    {
      "cell_type": "code",
      "metadata": {
        "colab": {
          "base_uri": "https://localhost:8080/"
        },
        "id": "sUkvPLl180ZA",
        "outputId": "48984f79-2ca9-4c52-e942-2a4ba6e783ee"
      },
      "source": [
        "test.shape"
      ],
      "execution_count": 67,
      "outputs": [
        {
          "output_type": "execute_result",
          "data": {
            "text/plain": [
              "(1258, 6)"
            ]
          },
          "metadata": {
            "tags": []
          },
          "execution_count": 67
        }
      ]
    },
    {
      "cell_type": "code",
      "metadata": {
        "colab": {
          "base_uri": "https://localhost:8080/"
        },
        "id": "BFTHjoAB9Acl",
        "outputId": "ff74cc25-f630-47ee-b743-29f67de87162"
      },
      "source": [
        "xtest = test[['Open']]\n",
        "xtest.shape"
      ],
      "execution_count": 68,
      "outputs": [
        {
          "output_type": "execute_result",
          "data": {
            "text/plain": [
              "(1258, 1)"
            ]
          },
          "metadata": {
            "tags": []
          },
          "execution_count": 68
        }
      ]
    },
    {
      "cell_type": "code",
      "metadata": {
        "colab": {
          "base_uri": "https://localhost:8080/"
        },
        "id": "0H8yG7ow9O29",
        "outputId": "d960cb1c-5042-451e-a570-1381729a91ab"
      },
      "source": [
        "mnc_xtest = mnc.fit_transform(xtest)\n",
        "mnc_xtest.shape"
      ],
      "execution_count": 69,
      "outputs": [
        {
          "output_type": "execute_result",
          "data": {
            "text/plain": [
              "(1258, 1)"
            ]
          },
          "metadata": {
            "tags": []
          },
          "execution_count": 69
        }
      ]
    },
    {
      "cell_type": "code",
      "metadata": {
        "colab": {
          "base_uri": "https://localhost:8080/"
        },
        "id": "9swHNezK9biN",
        "outputId": "24f368f9-b916-4f87-fd72-a76afd3dac85"
      },
      "source": [
        "x_test,y_test = feature_selection(n_steps,mnc_xtest)\n",
        "x_test.shape,y_test.shape"
      ],
      "execution_count": 70,
      "outputs": [
        {
          "output_type": "execute_result",
          "data": {
            "text/plain": [
              "((1243, 15), (1243,))"
            ]
          },
          "metadata": {
            "tags": []
          },
          "execution_count": 70
        }
      ]
    },
    {
      "cell_type": "code",
      "metadata": {
        "colab": {
          "base_uri": "https://localhost:8080/"
        },
        "id": "6g3TR5Ep9oUW",
        "outputId": "ebedf2db-3810-4d24-88dd-4e21ce024067"
      },
      "source": [
        "x_test = x_test.reshape(x_test.shape[0],x_test.shape[1],1)\n",
        "x_test.shape"
      ],
      "execution_count": 71,
      "outputs": [
        {
          "output_type": "execute_result",
          "data": {
            "text/plain": [
              "(1243, 15, 1)"
            ]
          },
          "metadata": {
            "tags": []
          },
          "execution_count": 71
        }
      ]
    },
    {
      "cell_type": "code",
      "metadata": {
        "colab": {
          "base_uri": "https://localhost:8080/"
        },
        "id": "ya-BvrL99zfg",
        "outputId": "f5f61c54-21e5-4eff-c2b4-9b607cbb7917"
      },
      "source": [
        "pred = model.predict(x_test)\n",
        "predicted_value = mnc.inverse_transform(pred)\n",
        "predicted_value"
      ],
      "execution_count": 72,
      "outputs": [
        {
          "output_type": "execute_result",
          "data": {
            "text/plain": [
              "array([[ 394.68317],\n",
              "       [ 391.36182],\n",
              "       [ 384.30246],\n",
              "       ...,\n",
              "       [1377.4792 ],\n",
              "       [1455.0125 ],\n",
              "       [1482.6058 ]], dtype=float32)"
            ]
          },
          "metadata": {
            "tags": []
          },
          "execution_count": 72
        }
      ]
    },
    {
      "cell_type": "code",
      "metadata": {
        "colab": {
          "base_uri": "https://localhost:8080/"
        },
        "id": "ge9JV0Lt-JR6",
        "outputId": "c6d7857a-be3a-49a8-c53b-884924eab3f7"
      },
      "source": [
        "actual_value = mnc.inverse_transform(y_test.reshape(-1,1))\n",
        "actual_value.shape\n"
      ],
      "execution_count": 73,
      "outputs": [
        {
          "output_type": "execute_result",
          "data": {
            "text/plain": [
              "(1243, 1)"
            ]
          },
          "metadata": {
            "tags": []
          },
          "execution_count": 73
        }
      ]
    },
    {
      "cell_type": "code",
      "metadata": {
        "id": "NNXhMTwSAlpz"
      },
      "source": [
        ""
      ],
      "execution_count": 73,
      "outputs": []
    },
    {
      "cell_type": "code",
      "metadata": {
        "colab": {
          "base_uri": "https://localhost:8080/",
          "height": 419
        },
        "id": "kQ7jgkqP-Yzp",
        "outputId": "4a4da369-26e4-4ff9-bf91-42fd6251909a"
      },
      "source": [
        "result = pd.DataFrame({'Actual':list(actual_value),'Predicted':list(predicted_value)})\n",
        "result"
      ],
      "execution_count": 74,
      "outputs": [
        {
          "output_type": "execute_result",
          "data": {
            "text/html": [
              "<div>\n",
              "<style scoped>\n",
              "    .dataframe tbody tr th:only-of-type {\n",
              "        vertical-align: middle;\n",
              "    }\n",
              "\n",
              "    .dataframe tbody tr th {\n",
              "        vertical-align: top;\n",
              "    }\n",
              "\n",
              "    .dataframe thead th {\n",
              "        text-align: right;\n",
              "    }\n",
              "</style>\n",
              "<table border=\"1\" class=\"dataframe\">\n",
              "  <thead>\n",
              "    <tr style=\"text-align: right;\">\n",
              "      <th></th>\n",
              "      <th>Actual</th>\n",
              "      <th>Predicted</th>\n",
              "    </tr>\n",
              "  </thead>\n",
              "  <tbody>\n",
              "    <tr>\n",
              "      <th>0</th>\n",
              "      <td>[398.160004]</td>\n",
              "      <td>[394.68317]</td>\n",
              "    </tr>\n",
              "    <tr>\n",
              "      <th>1</th>\n",
              "      <td>[390.5]</td>\n",
              "      <td>[391.36182]</td>\n",
              "    </tr>\n",
              "    <tr>\n",
              "      <th>2</th>\n",
              "      <td>[387.399994]</td>\n",
              "      <td>[384.30246]</td>\n",
              "    </tr>\n",
              "    <tr>\n",
              "      <th>3</th>\n",
              "      <td>[392.160004]</td>\n",
              "      <td>[380.55408]</td>\n",
              "    </tr>\n",
              "    <tr>\n",
              "      <th>4</th>\n",
              "      <td>[393.769989]</td>\n",
              "      <td>[384.15237]</td>\n",
              "    </tr>\n",
              "    <tr>\n",
              "      <th>...</th>\n",
              "      <td>...</td>\n",
              "      <td>...</td>\n",
              "    </tr>\n",
              "    <tr>\n",
              "      <th>1238</th>\n",
              "      <td>[1346.0]</td>\n",
              "      <td>[1477.099]</td>\n",
              "    </tr>\n",
              "    <tr>\n",
              "      <th>1239</th>\n",
              "      <td>[1368.890015]</td>\n",
              "      <td>[1364.1213]</td>\n",
              "    </tr>\n",
              "    <tr>\n",
              "      <th>1240</th>\n",
              "      <td>[1454.199951]</td>\n",
              "      <td>[1377.4792]</td>\n",
              "    </tr>\n",
              "    <tr>\n",
              "      <th>1241</th>\n",
              "      <td>[1473.349976]</td>\n",
              "      <td>[1455.0125]</td>\n",
              "    </tr>\n",
              "    <tr>\n",
              "      <th>1242</th>\n",
              "      <td>[1510.800049]</td>\n",
              "      <td>[1482.6058]</td>\n",
              "    </tr>\n",
              "  </tbody>\n",
              "</table>\n",
              "<p>1243 rows × 2 columns</p>\n",
              "</div>"
            ],
            "text/plain": [
              "             Actual    Predicted\n",
              "0      [398.160004]  [394.68317]\n",
              "1           [390.5]  [391.36182]\n",
              "2      [387.399994]  [384.30246]\n",
              "3      [392.160004]  [380.55408]\n",
              "4      [393.769989]  [384.15237]\n",
              "...             ...          ...\n",
              "1238       [1346.0]   [1477.099]\n",
              "1239  [1368.890015]  [1364.1213]\n",
              "1240  [1454.199951]  [1377.4792]\n",
              "1241  [1473.349976]  [1455.0125]\n",
              "1242  [1510.800049]  [1482.6058]\n",
              "\n",
              "[1243 rows x 2 columns]"
            ]
          },
          "metadata": {
            "tags": []
          },
          "execution_count": 74
        }
      ]
    },
    {
      "cell_type": "code",
      "metadata": {
        "colab": {
          "base_uri": "https://localhost:8080/"
        },
        "id": "7OmtiRbDCn0V",
        "outputId": "8bb182aa-a301-4e0f-eb0f-b9053bc37a60"
      },
      "source": [
        "from sklearn.metrics import r2_score,mean_squared_error\n",
        "print('mse',mean_squared_error(actual_value,predicted_value))\n",
        "print('RMSE',np.sqrt(mean_squared_error(actual_value,predicted_value)))\n",
        "print('r2_score',r2_score(actual_value,predicted_value))\n"
      ],
      "execution_count": 75,
      "outputs": [
        {
          "output_type": "stream",
          "text": [
            "mse 447.26392320901334\n",
            "RMSE 21.148615160549245\n",
            "r2_score 0.9980450406016151\n"
          ],
          "name": "stdout"
        }
      ]
    },
    {
      "cell_type": "code",
      "metadata": {
        "id": "cp2Ylo6jDB7b"
      },
      "source": [
        ""
      ],
      "execution_count": null,
      "outputs": []
    }
  ]
}