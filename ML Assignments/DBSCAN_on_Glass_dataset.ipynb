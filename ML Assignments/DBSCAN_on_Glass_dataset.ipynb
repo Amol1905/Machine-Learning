{
 "cells": [
  {
   "cell_type": "code",
   "execution_count": 1,
   "id": "af20f689",
   "metadata": {},
   "outputs": [],
   "source": [
    "import numpy as np\n",
    "import pandas as pd\n",
    "import matplotlib.pyplot as plt\n",
    "import seaborn as sns\n"
   ]
  },
  {
   "cell_type": "code",
   "execution_count": 2,
   "id": "31c7ccbb",
   "metadata": {},
   "outputs": [],
   "source": [
    "df = pd.read_csv(\"glass.csv\")"
   ]
  },
  {
   "cell_type": "code",
   "execution_count": 3,
   "id": "86bd392d",
   "metadata": {},
   "outputs": [
    {
     "data": {
      "text/html": [
       "<div>\n",
       "<style scoped>\n",
       "    .dataframe tbody tr th:only-of-type {\n",
       "        vertical-align: middle;\n",
       "    }\n",
       "\n",
       "    .dataframe tbody tr th {\n",
       "        vertical-align: top;\n",
       "    }\n",
       "\n",
       "    .dataframe thead th {\n",
       "        text-align: right;\n",
       "    }\n",
       "</style>\n",
       "<table border=\"1\" class=\"dataframe\">\n",
       "  <thead>\n",
       "    <tr style=\"text-align: right;\">\n",
       "      <th></th>\n",
       "      <th>RI</th>\n",
       "      <th>Na</th>\n",
       "      <th>Mg</th>\n",
       "      <th>Al</th>\n",
       "      <th>Si</th>\n",
       "      <th>K</th>\n",
       "      <th>Ca</th>\n",
       "      <th>Ba</th>\n",
       "      <th>Fe</th>\n",
       "      <th>Type</th>\n",
       "    </tr>\n",
       "  </thead>\n",
       "  <tbody>\n",
       "    <tr>\n",
       "      <th>0</th>\n",
       "      <td>1.52101</td>\n",
       "      <td>13.64</td>\n",
       "      <td>4.49</td>\n",
       "      <td>1.10</td>\n",
       "      <td>71.78</td>\n",
       "      <td>0.06</td>\n",
       "      <td>8.75</td>\n",
       "      <td>0.0</td>\n",
       "      <td>0.0</td>\n",
       "      <td>1</td>\n",
       "    </tr>\n",
       "    <tr>\n",
       "      <th>1</th>\n",
       "      <td>1.51761</td>\n",
       "      <td>13.89</td>\n",
       "      <td>3.60</td>\n",
       "      <td>1.36</td>\n",
       "      <td>72.73</td>\n",
       "      <td>0.48</td>\n",
       "      <td>7.83</td>\n",
       "      <td>0.0</td>\n",
       "      <td>0.0</td>\n",
       "      <td>1</td>\n",
       "    </tr>\n",
       "    <tr>\n",
       "      <th>2</th>\n",
       "      <td>1.51618</td>\n",
       "      <td>13.53</td>\n",
       "      <td>3.55</td>\n",
       "      <td>1.54</td>\n",
       "      <td>72.99</td>\n",
       "      <td>0.39</td>\n",
       "      <td>7.78</td>\n",
       "      <td>0.0</td>\n",
       "      <td>0.0</td>\n",
       "      <td>1</td>\n",
       "    </tr>\n",
       "    <tr>\n",
       "      <th>3</th>\n",
       "      <td>1.51766</td>\n",
       "      <td>13.21</td>\n",
       "      <td>3.69</td>\n",
       "      <td>1.29</td>\n",
       "      <td>72.61</td>\n",
       "      <td>0.57</td>\n",
       "      <td>8.22</td>\n",
       "      <td>0.0</td>\n",
       "      <td>0.0</td>\n",
       "      <td>1</td>\n",
       "    </tr>\n",
       "    <tr>\n",
       "      <th>4</th>\n",
       "      <td>1.51742</td>\n",
       "      <td>13.27</td>\n",
       "      <td>3.62</td>\n",
       "      <td>1.24</td>\n",
       "      <td>73.08</td>\n",
       "      <td>0.55</td>\n",
       "      <td>8.07</td>\n",
       "      <td>0.0</td>\n",
       "      <td>0.0</td>\n",
       "      <td>1</td>\n",
       "    </tr>\n",
       "  </tbody>\n",
       "</table>\n",
       "</div>"
      ],
      "text/plain": [
       "        RI     Na    Mg    Al     Si     K    Ca   Ba   Fe  Type\n",
       "0  1.52101  13.64  4.49  1.10  71.78  0.06  8.75  0.0  0.0     1\n",
       "1  1.51761  13.89  3.60  1.36  72.73  0.48  7.83  0.0  0.0     1\n",
       "2  1.51618  13.53  3.55  1.54  72.99  0.39  7.78  0.0  0.0     1\n",
       "3  1.51766  13.21  3.69  1.29  72.61  0.57  8.22  0.0  0.0     1\n",
       "4  1.51742  13.27  3.62  1.24  73.08  0.55  8.07  0.0  0.0     1"
      ]
     },
     "execution_count": 3,
     "metadata": {},
     "output_type": "execute_result"
    }
   ],
   "source": [
    "df.head()"
   ]
  },
  {
   "cell_type": "code",
   "execution_count": 4,
   "id": "298267ce",
   "metadata": {},
   "outputs": [
    {
     "data": {
      "text/plain": [
       "(214, 10)"
      ]
     },
     "execution_count": 4,
     "metadata": {},
     "output_type": "execute_result"
    }
   ],
   "source": [
    "df.shape"
   ]
  },
  {
   "cell_type": "code",
   "execution_count": 5,
   "id": "f07c9966",
   "metadata": {},
   "outputs": [
    {
     "data": {
      "text/plain": [
       "RI      0\n",
       "Na      0\n",
       "Mg      0\n",
       "Al      0\n",
       "Si      0\n",
       "K       0\n",
       "Ca      0\n",
       "Ba      0\n",
       "Fe      0\n",
       "Type    0\n",
       "dtype: int64"
      ]
     },
     "execution_count": 5,
     "metadata": {},
     "output_type": "execute_result"
    }
   ],
   "source": [
    "df.isna().sum()"
   ]
  },
  {
   "cell_type": "code",
   "execution_count": 15,
   "id": "01c8d13a",
   "metadata": {},
   "outputs": [
    {
     "data": {
      "image/png": "[encoded data removed]",
      "text/plain": [
       "<Figure size 720x504 with 1 Axes>"
      ]
     },
     "metadata": {
      "needs_background": "light"
     },
     "output_type": "display_data"
    }
   ],
   "source": [
    "plt.figure(figsize=(10,7))\n",
    "\n",
    "for column in df.columns[1:9]:\n",
    "    plt.scatter(df[column],df['RI'],label = str(column))\n",
    "    plt.xlabel(\"RI\")\n",
    "    plt.legend()"
   ]
  },
  {
   "cell_type": "code",
   "execution_count": 9,
   "id": "cfe99473",
   "metadata": {},
   "outputs": [],
   "source": [
    "from sklearn.neighbors import NearestNeighbors"
   ]
  },
  {
   "cell_type": "code",
   "execution_count": 10,
   "id": "c5280ee6",
   "metadata": {},
   "outputs": [
    {
     "data": {
      "text/plain": [
       "array([[0.        , 0.88701951],\n",
       "       [0.        , 0.49264799],\n",
       "       [0.        , 0.49264799],\n",
       "       [0.        , 0.30049961],\n",
       "       [0.        , 0.14933185],\n",
       "       [0.        , 0.29257488],\n",
       "       [0.        , 0.14933185],\n",
       "       [0.        , 0.2412468 ],\n",
       "       [0.        , 0.58770742],\n",
       "       [0.        , 0.21863238],\n",
       "       [0.        , 0.24596754],\n",
       "       [0.        , 0.12649116],\n",
       "       [0.        , 0.24596754],\n",
       "       [0.        , 0.1897367 ],\n",
       "       [0.        , 0.19339082],\n",
       "       [0.        , 0.1897367 ],\n",
       "       [0.        , 0.23065131],\n",
       "       [0.        , 0.6033242 ],\n",
       "       [0.        , 0.59489792],\n",
       "       [0.        , 0.31827664],\n",
       "       [0.        , 0.31827664],\n",
       "       [0.        , 0.86296356],\n",
       "       [0.        , 0.21330781],\n",
       "       [0.        , 0.12649116],\n",
       "       [0.        , 0.22249122],\n",
       "       [0.        , 0.19261454],\n",
       "       [0.        , 0.23345239],\n",
       "       [0.        , 0.10630645],\n",
       "       [0.        , 0.2076054 ],\n",
       "       [0.        , 0.20273145],\n",
       "       [0.        , 0.21283802],\n",
       "       [0.        , 0.19364922],\n",
       "       [0.        , 0.27110886],\n",
       "       [0.        , 0.19339082],\n",
       "       [0.        , 0.12688585],\n",
       "       [0.        , 0.16156885],\n",
       "       [0.        , 0.49487373],\n",
       "       [0.        , 0.12688585],\n",
       "       [0.        , 0.        ],\n",
       "       [0.        , 0.        ],\n",
       "       [0.        , 0.23409402],\n",
       "       [0.        , 0.20199011],\n",
       "       [0.        , 0.16156885],\n",
       "       [0.        , 0.36193942],\n",
       "       [0.        , 0.27110886],\n",
       "       [0.        , 0.25690465],\n",
       "       [0.        , 0.32939461],\n",
       "       [0.        , 0.35372215],\n",
       "       [0.        , 0.26551948],\n",
       "       [0.        , 0.25690465],\n",
       "       [0.        , 0.43943283],\n",
       "       [0.        , 0.4907141 ],\n",
       "       [0.        , 0.30232448],\n",
       "       [0.        , 0.1870838 ],\n",
       "       [0.        , 0.1870838 ],\n",
       "       [0.        , 0.99513819],\n",
       "       [0.        , 0.30386076],\n",
       "       [0.        , 0.10630645],\n",
       "       [0.        , 0.27331303],\n",
       "       [0.        , 0.27110905],\n",
       "       [0.        , 0.58906996],\n",
       "       [0.        , 0.71944455],\n",
       "       [0.        , 0.27037012],\n",
       "       [0.        , 0.35372215],\n",
       "       [0.        , 0.27037012],\n",
       "       [0.        , 0.41785229],\n",
       "       [0.        , 0.1       ],\n",
       "       [0.        , 0.1       ],\n",
       "       [0.        , 0.117047  ],\n",
       "       [0.        , 0.26551948],\n",
       "       [0.        , 1.36231487],\n",
       "       [0.        , 0.38065763],\n",
       "       [0.        , 0.117047  ],\n",
       "       [0.        , 0.26191662],\n",
       "       [0.        , 0.07681148],\n",
       "       [0.        , 0.07681148],\n",
       "       [0.        , 0.17262678],\n",
       "       [0.        , 0.14212673],\n",
       "       [0.        , 0.63812233],\n",
       "       [0.        , 0.3       ],\n",
       "       [0.        , 0.3       ],\n",
       "       [0.        , 0.25039968],\n",
       "       [0.        , 0.3173329 ],\n",
       "       [0.        , 0.16278854],\n",
       "       [0.        , 1.26566541],\n",
       "       [0.        , 0.23916602],\n",
       "       [0.        , 0.28495621],\n",
       "       [0.        , 0.19646934],\n",
       "       [0.        , 0.14212673],\n",
       "       [0.        , 0.4317408 ],\n",
       "       [0.        , 0.24979992],\n",
       "       [0.        , 0.3059412 ],\n",
       "       [0.        , 0.47370877],\n",
       "       [0.        , 0.28495621],\n",
       "       [0.        , 0.38987185],\n",
       "       [0.        , 0.43588992],\n",
       "       [0.        , 0.24979992],\n",
       "       [0.        , 0.80399053],\n",
       "       [0.        , 0.48207895],\n",
       "       [0.        , 0.41207072],\n",
       "       [0.        , 0.47854199],\n",
       "       [0.        , 0.80249646],\n",
       "       [0.        , 0.96845268],\n",
       "       [0.        , 1.1757593 ],\n",
       "       [0.        , 1.1757593 ],\n",
       "       [0.        , 2.22099282],\n",
       "       [0.        , 4.02664156],\n",
       "       [0.        , 2.63617866],\n",
       "       [0.        , 1.43045454],\n",
       "       [0.        , 2.04044513],\n",
       "       [0.        , 0.37389913],\n",
       "       [0.        , 0.37389913],\n",
       "       [0.        , 1.77668305],\n",
       "       [0.        , 0.23811893],\n",
       "       [0.        , 0.29257478],\n",
       "       [0.        , 0.22449951],\n",
       "       [0.        , 0.22449951],\n",
       "       [0.        , 0.53665668],\n",
       "       [0.        , 0.2932577 ],\n",
       "       [0.        , 0.17262678],\n",
       "       [0.        , 0.23600852],\n",
       "       [0.        , 0.23537306],\n",
       "       [0.        , 0.22539047],\n",
       "       [0.        , 0.23345241],\n",
       "       [0.        , 0.25555944],\n",
       "       [0.        , 0.40927277],\n",
       "       [0.        , 0.30236734],\n",
       "       [0.        , 0.57930995],\n",
       "       [0.        , 0.57930995],\n",
       "       [0.        , 0.89370155],\n",
       "       [0.        , 0.89370155],\n",
       "       [0.        , 1.77668305],\n",
       "       [0.        , 0.23811893],\n",
       "       [0.        , 0.38065763],\n",
       "       [0.        , 0.31701838],\n",
       "       [0.        , 0.25278481],\n",
       "       [0.        , 0.37175288],\n",
       "       [0.        , 0.19078969],\n",
       "       [0.        , 0.27313001],\n",
       "       [0.        , 0.20664149],\n",
       "       [0.        , 0.19646934],\n",
       "       [0.        , 0.25555944],\n",
       "       [0.        , 0.29832868],\n",
       "       [0.        , 0.32984947],\n",
       "       [0.        , 0.41207072],\n",
       "       [0.        , 0.4207172 ],\n",
       "       [0.        , 0.57026548],\n",
       "       [0.        , 0.18520356],\n",
       "       [0.        , 0.18520356],\n",
       "       [0.        , 0.80174825],\n",
       "       [0.        , 0.4767599 ],\n",
       "       [0.        , 0.53665632],\n",
       "       [0.        , 0.48610946],\n",
       "       [0.        , 0.2019901 ],\n",
       "       [0.        , 0.52867781],\n",
       "       [0.        , 0.45891182],\n",
       "       [0.        , 0.34655476],\n",
       "       [0.        , 0.53665632],\n",
       "       [0.        , 0.18466196],\n",
       "       [0.        , 0.18466196],\n",
       "       [0.        , 0.30935467],\n",
       "       [0.        , 0.48610946],\n",
       "       [0.        , 0.60794795],\n",
       "       [0.        , 2.88100859],\n",
       "       [0.        , 0.96104217],\n",
       "       [0.        , 0.8380931 ],\n",
       "       [0.        , 0.8380931 ],\n",
       "       [0.        , 0.75861865],\n",
       "       [0.        , 1.51506078],\n",
       "       [0.        , 0.76648651],\n",
       "       [0.        , 0.32343566],\n",
       "       [0.        , 0.2238303 ],\n",
       "       [0.        , 0.2238303 ],\n",
       "       [0.        , 0.32343566],\n",
       "       [0.        , 0.96104217],\n",
       "       [0.        , 0.75861865],\n",
       "       [0.        , 0.45891206],\n",
       "       [0.        , 0.61114655],\n",
       "       [0.        , 0.47822594],\n",
       "       [0.        , 0.45891206],\n",
       "       [0.        , 2.27618318],\n",
       "       [0.        , 1.53590367],\n",
       "       [0.        , 1.53590367],\n",
       "       [0.        , 1.78106717],\n",
       "       [0.        , 3.86926393],\n",
       "       [0.        , 1.84809361],\n",
       "       [0.        , 1.84809361],\n",
       "       [0.        , 1.79797575],\n",
       "       [0.        , 2.4373349 ],\n",
       "       [0.        , 2.4373349 ],\n",
       "       [0.        , 1.55373927],\n",
       "       [0.        , 0.18439095],\n",
       "       [0.        , 0.2622987 ],\n",
       "       [0.        , 0.23216398],\n",
       "       [0.        , 0.2733397 ],\n",
       "       [0.        , 0.2622987 ],\n",
       "       [0.        , 0.52810985],\n",
       "       [0.        , 0.26210983],\n",
       "       [0.        , 0.38366655],\n",
       "       [0.        , 0.35071357],\n",
       "       [0.        , 0.4179713 ],\n",
       "       [0.        , 3.38499631],\n",
       "       [0.        , 0.4179713 ],\n",
       "       [0.        , 0.21377575],\n",
       "       [0.        , 0.18439095],\n",
       "       [0.        , 0.22781738],\n",
       "       [0.        , 0.22781738],\n",
       "       [0.        , 2.62537673],\n",
       "       [0.        , 0.46637023],\n",
       "       [0.        , 0.69267599],\n",
       "       [0.        , 0.21377575],\n",
       "       [0.        , 0.22229966],\n",
       "       [0.        , 0.22229966],\n",
       "       [0.        , 0.23960912]])"
      ]
     },
     "execution_count": 10,
     "metadata": {},
     "output_type": "execute_result"
    }
   ],
   "source": [
    "n = NearestNeighbors(n_neighbors = 2)\n",
    "n_fit = n.fit(df)\n",
    "distance,_ = n_fit.kneighbors(df)\n",
    "distance"
   ]
  },
  {
   "cell_type": "code",
   "execution_count": 11,
   "id": "3936483e",
   "metadata": {},
   "outputs": [
    {
     "data": {
      "text/plain": [
       "array([0.        , 0.        , 0.07681148, 0.07681148, 0.1       ,\n",
       "       0.1       , 0.10630645, 0.10630645, 0.117047  , 0.117047  ,\n",
       "       0.12649116, 0.12649116, 0.12688585, 0.12688585, 0.14212673,\n",
       "       0.14212673, 0.14933185, 0.14933185, 0.16156885, 0.16156885,\n",
       "       0.16278854, 0.17262678, 0.17262678, 0.18439095, 0.18439095,\n",
       "       0.18466196, 0.18466196, 0.18520356, 0.18520356, 0.1870838 ,\n",
       "       0.1870838 , 0.1897367 , 0.1897367 , 0.19078969, 0.19261454,\n",
       "       0.19339082, 0.19339082, 0.19364922, 0.19646934, 0.19646934,\n",
       "       0.2019901 , 0.20199011, 0.20273145, 0.20664149, 0.2076054 ,\n",
       "       0.21283802, 0.21330781, 0.21377575, 0.21377575, 0.21863238,\n",
       "       0.22229966, 0.22229966, 0.22249122, 0.2238303 , 0.2238303 ,\n",
       "       0.22449951, 0.22449951, 0.22539047, 0.22781738, 0.22781738,\n",
       "       0.23065131, 0.23216398, 0.23345239, 0.23345241, 0.23409402,\n",
       "       0.23537306, 0.23600852, 0.23811893, 0.23811893, 0.23916602,\n",
       "       0.23960912, 0.2412468 , 0.24596754, 0.24596754, 0.24979992,\n",
       "       0.24979992, 0.25039968, 0.25278481, 0.25555944, 0.25555944,\n",
       "       0.25690465, 0.25690465, 0.26191662, 0.26210983, 0.2622987 ,\n",
       "       0.2622987 , 0.26551948, 0.26551948, 0.27037012, 0.27037012,\n",
       "       0.27110886, 0.27110886, 0.27110905, 0.27313001, 0.27331303,\n",
       "       0.2733397 , 0.28495621, 0.28495621, 0.29257478, 0.29257488,\n",
       "       0.2932577 , 0.29832868, 0.3       , 0.3       , 0.30049961,\n",
       "       0.30232448, 0.30236734, 0.30386076, 0.3059412 , 0.30935467,\n",
       "       0.31701838, 0.3173329 , 0.31827664, 0.31827664, 0.32343566,\n",
       "       0.32343566, 0.32939461, 0.32984947, 0.34655476, 0.35071357,\n",
       "       0.35372215, 0.35372215, 0.36193942, 0.37175288, 0.37389913,\n",
       "       0.37389913, 0.38065763, 0.38065763, 0.38366655, 0.38987185,\n",
       "       0.40927277, 0.41207072, 0.41207072, 0.41785229, 0.4179713 ,\n",
       "       0.4179713 , 0.4207172 , 0.4317408 , 0.43588992, 0.43943283,\n",
       "       0.45891182, 0.45891206, 0.45891206, 0.46637023, 0.47370877,\n",
       "       0.4767599 , 0.47822594, 0.47854199, 0.48207895, 0.48610946,\n",
       "       0.48610946, 0.4907141 , 0.49264799, 0.49264799, 0.49487373,\n",
       "       0.52810985, 0.52867781, 0.53665632, 0.53665632, 0.53665668,\n",
       "       0.57026548, 0.57930995, 0.57930995, 0.58770742, 0.58906996,\n",
       "       0.59489792, 0.6033242 , 0.60794795, 0.61114655, 0.63812233,\n",
       "       0.69267599, 0.71944455, 0.75861865, 0.75861865, 0.76648651,\n",
       "       0.80174825, 0.80249646, 0.80399053, 0.8380931 , 0.8380931 ,\n",
       "       0.86296356, 0.88701951, 0.89370155, 0.89370155, 0.96104217,\n",
       "       0.96104217, 0.96845268, 0.99513819, 1.1757593 , 1.1757593 ,\n",
       "       1.26566541, 1.36231487, 1.43045454, 1.51506078, 1.53590367,\n",
       "       1.53590367, 1.55373927, 1.77668305, 1.77668305, 1.78106717,\n",
       "       1.79797575, 1.84809361, 1.84809361, 2.04044513, 2.22099282,\n",
       "       2.27618318, 2.4373349 , 2.4373349 , 2.62537673, 2.63617866,\n",
       "       2.88100859, 3.38499631, 3.86926393, 4.02664156])"
      ]
     },
     "execution_count": 11,
     "metadata": {},
     "output_type": "execute_result"
    }
   ],
   "source": [
    "\n",
    "distance=np.sort(distance,axis = 0)\n",
    "distance = distance[:,1]\n",
    "distance"
   ]
  },
  {
   "cell_type": "code",
   "execution_count": 14,
   "id": "81106233",
   "metadata": {},
   "outputs": [
    {
     "data": {
      "text/plain": [
       "Text(0.5, 0, 'Distance')"
      ]
     },
     "execution_count": 14,
     "metadata": {},
     "output_type": "execute_result"
    },
    {
     "data": {
      "image/png": "[encoded data removed]",
      "text/plain": [
       "<Figure size 720x504 with 1 Axes>"
      ]
     },
     "metadata": {
      "needs_background": "light"
     },
     "output_type": "display_data"
    }
   ],
   "source": [
    "plt.figure(figsize=(10,7))\n",
    "plt.plot(distance,marker = 'o')\n",
    "plt.ylabel('Epsilon')\n",
    "plt.xlabel('Distance')"
   ]
  },
  {
   "cell_type": "code",
   "execution_count": 17,
   "id": "0db75444",
   "metadata": {},
   "outputs": [],
   "source": [
    "# epsilon = 1.3,min_sample = 10 + 1 --> dimension + 1 = 11"
   ]
  },
  {
   "cell_type": "code",
   "execution_count": 18,
   "id": "9d56f00d",
   "metadata": {},
   "outputs": [],
   "source": [
    "from sklearn.cluster import DBSCAN"
   ]
  },
  {
   "cell_type": "code",
   "execution_count": 19,
   "id": "522fdfed",
   "metadata": {},
   "outputs": [
    {
     "data": {
      "text/plain": [
       "array([ 0,  0,  0,  0,  0,  0,  0,  0,  0,  0,  0,  0,  0,  0,  0,  0,  0,\n",
       "        0,  0,  0,  0,  0,  0,  0,  0,  0,  0,  0,  0,  0,  0,  0,  0,  0,\n",
       "        0,  0,  0,  0,  0,  0,  0,  0,  0,  0,  0,  0,  0,  0,  0,  0,  0,\n",
       "        0,  0,  0,  0,  0,  0,  0,  0,  0,  0,  0,  0,  0,  0,  0,  0,  0,\n",
       "        0,  0, -1,  0,  0,  0,  0,  0,  0,  0,  0,  0,  0,  0,  0,  0,  0,\n",
       "        0,  0,  0,  0,  0,  0,  0,  0,  0,  0,  0,  0,  0,  0,  0,  0,  0,\n",
       "        0, -1, -1, -1, -1, -1, -1, -1, -1, -1, -1,  0,  0,  0,  0,  0,  0,\n",
       "        0,  0,  0,  0,  0,  0,  0,  0, -1, -1, -1, -1, -1,  0,  0,  0,  0,\n",
       "        0,  0,  0,  0,  0,  0,  0,  0,  0,  0,  0,  0,  0,  0,  0, -1,  0,\n",
       "        0,  0,  0,  0,  0,  0,  0,  0,  0, -1, -1, -1, -1, -1, -1, -1, -1,\n",
       "       -1, -1, -1, -1, -1, -1, -1, -1, -1, -1, -1, -1, -1, -1, -1, -1, -1,\n",
       "       -1, -1, -1, -1,  1,  1,  1,  1,  1,  1,  1,  1,  1,  1, -1,  1,  1,\n",
       "        1,  1,  1, -1,  1,  1,  1,  1,  1,  1], dtype=int64)"
      ]
     },
     "execution_count": 19,
     "metadata": {},
     "output_type": "execute_result"
    }
   ],
   "source": [
    "model = DBSCAN(eps = 1.3,min_samples=11)\n",
    "model.fit(df)\n",
    "model.labels_"
   ]
  },
  {
   "cell_type": "code",
   "execution_count": 26,
   "id": "20b4254a",
   "metadata": {},
   "outputs": [
    {
     "data": {
      "image/png": "[encoded data removed]",
      "text/plain": [
       "<Figure size 720x504 with 1 Axes>"
      ]
     },
     "metadata": {
      "needs_background": "light"
     },
     "output_type": "display_data"
    }
   ],
   "source": [
    "plt.figure(figsize=(10,7))\n",
    "\n",
    "for column in df.columns[1:9]:\n",
    "    plt.scatter(df[column],df['RI'],c = model.labels_)\n",
    "    plt.xlabel(\"RI\")\n",
    "#     plt.legend()"
   ]
  },
  {
   "cell_type": "code",
   "execution_count": null,
   "id": "df810dbf",
   "metadata": {},
   "outputs": [],
   "source": []
  }
 ],
 "metadata": {
  "kernelspec": {
   "display_name": "Python 3",
   "language": "python",
   "name": "python3"
  },
  "language_info": {
   "codemirror_mode": {
    "name": "ipython",
    "version": 3
   },
   "file_extension": ".py",
   "mimetype": "text/x-python",
   "name": "python",
   "nbconvert_exporter": "python",
   "pygments_lexer": "ipython3",
   "version": "3.9.2"
  }
 },
 "nbformat": 4,
 "nbformat_minor": 5
}
