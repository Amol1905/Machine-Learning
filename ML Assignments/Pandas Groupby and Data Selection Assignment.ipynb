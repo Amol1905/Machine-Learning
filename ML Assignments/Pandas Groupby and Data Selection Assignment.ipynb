{
 "metadata": {
  "language_info": {
   "codemirror_mode": {
    "name": "ipython",
    "version": 3
   },
   "file_extension": ".py",
   "mimetype": "text/x-python",
   "name": "python",
   "nbconvert_exporter": "python",
   "pygments_lexer": "ipython3",
   "version": "3.9.2-final"
  },
  "orig_nbformat": 2,
  "kernelspec": {
   "name": "python3",
   "display_name": "Python 3.9.2 64-bit",
   "metadata": {
    "interpreter": {
     "hash": "43f3d5464ecdc28984f4e55fa968953c88401d2bb2627061fda4cc5061bd2fa5"
    }
   }
  }
 },
 "nbformat": 4,
 "nbformat_minor": 2,
 "cells": [
  {
   "cell_type": "code",
   "execution_count": 2,
   "metadata": {},
   "outputs": [],
   "source": [
    "import pandas as pd\n",
    "import numpy as np\n",
    "# a = pd.Series([18, 11,9, 5, 18, 4, 15, 13, 18])\n",
    "# print(a.mode())\n",
    "# print(a.median())\n"
   ]
  },
  {
   "cell_type": "code",
   "execution_count": 5,
   "metadata": {},
   "outputs": [
    {
     "output_type": "stream",
     "name": "stdout",
     "text": [
      "    Unnamed: 0  index      company   body-style  wheel-base  length  \\\n0            0      0  alfa-romero  convertible        88.6   168.8   \n1            1      1  alfa-romero  convertible        88.6   168.8   \n2            2      2  alfa-romero    hatchback        94.5   171.2   \n3            3      3         audi        sedan        99.8   176.6   \n4            4      4         audi        sedan        99.4   176.6   \n..         ...    ...          ...          ...         ...     ...   \n56          56     81   volkswagen        sedan        97.3   171.7   \n57          57     82   volkswagen        sedan        97.3   171.7   \n58          58     86   volkswagen        sedan        97.3   171.7   \n59          59     87        volvo        sedan       104.3   188.8   \n60          60     88        volvo        wagon       104.3   188.8   \n\n   engine-type num-of-cylinders  horsepower  average-mileage    price  \n0         dohc             four         111               21  13495.0  \n1         dohc             four         111               21  16500.0  \n2         ohcv              six         154               19  16500.0  \n3          ohc             four         102               24  13950.0  \n4          ohc             five         115               18  17450.0  \n..         ...              ...         ...              ...      ...  \n56         ohc             four          85               27   7975.0  \n57         ohc             four          52               37   7995.0  \n58         ohc             four         100               26   9995.0  \n59         ohc             four         114               23  12940.0  \n60         ohc             four         114               23  13415.0  \n\n[61 rows x 11 columns]\n"
     ]
    }
   ],
   "source": [
    "#1 From Given data set print first five and last five rows\n",
    "df = pd.read_csv(\"D:\\Python\\ClassRoom\\Pandas Groupby and Data Selection Assignment\\Automobile_dataset.csv\")\n",
    "print(df)"
   ]
  },
  {
   "cell_type": "code",
   "execution_count": 6,
   "metadata": {},
   "outputs": [
    {
     "output_type": "stream",
     "name": "stdout",
     "text": [
      "    Unnamed: 0  index      company   body-style  wheel-base  length  \\\n0            0      0  alfa-romero  convertible        88.6   168.8   \n1            1      1  alfa-romero  convertible        88.6   168.8   \n2            2      2  alfa-romero    hatchback        94.5   171.2   \n3            3      3         audi        sedan        99.8   176.6   \n4            4      4         audi        sedan        99.4   176.6   \n..         ...    ...          ...          ...         ...     ...   \n56          56     81   volkswagen        sedan        97.3   171.7   \n57          57     82   volkswagen        sedan        97.3   171.7   \n58          58     86   volkswagen        sedan        97.3   171.7   \n59          59     87        volvo        sedan       104.3   188.8   \n60          60     88        volvo        wagon       104.3   188.8   \n\n   engine-type num-of-cylinders  horsepower  average-mileage    price  \n0         dohc             four         111               21  13495.0  \n1         dohc             four         111               21  16500.0  \n2         ohcv              six         154               19  16500.0  \n3          ohc             four         102               24  13950.0  \n4          ohc             five         115               18  17450.0  \n..         ...              ...         ...              ...      ...  \n56         ohc             four          85               27   7975.0  \n57         ohc             four          52               37   7995.0  \n58         ohc             four         100               26   9995.0  \n59         ohc             four         114               23  12940.0  \n60         ohc             four         114               23  13415.0  \n\n[61 rows x 11 columns]\n"
     ]
    }
   ],
   "source": [
    "#2 clean data and update csv file\n",
    "# df = df.fillna('NaN',inplace=True)\n",
    "df.fillna('NaN',inplace = True)\n",
    "df.to_csv(\"Automobile_dataset.csv\")\n",
    "print(df)"
   ]
  },
  {
   "cell_type": "code",
   "execution_count": 54,
   "metadata": {},
   "outputs": [
    {
     "output_type": "stream",
     "name": "stdout",
     "text": [
      "          company    price\n35  mercedes-benz  45400.0\n"
     ]
    }
   ],
   "source": [
    "# 3 Find the most expensive car company name\n",
    "def convert(data):\n",
    "    return float(data)\n",
    "df['price'] = df['price'].apply(convert)\n",
    "# ne = df[df.price == df.price.max()]\n",
    "# print(ne[['company','price']])\n",
    "out = df.loc[df.price == df.price.max(), ['company','price']]\n",
    "print(out)\n",
    "\n"
   ]
  },
  {
   "cell_type": "code",
   "execution_count": 8,
   "metadata": {},
   "outputs": [
    {
     "output_type": "stream",
     "name": "stdout",
     "text": [
      "    Unnamed: 0  index company body-style  wheel-base  length engine-type  \\\n48          48     66  toyota  hatchback        95.7   158.7         ohc   \n49          49     67  toyota  hatchback        95.7   158.7         ohc   \n50          50     68  toyota  hatchback        95.7   158.7         ohc   \n51          51     69  toyota      wagon        95.7   169.7         ohc   \n52          52     70  toyota      wagon        95.7   169.7         ohc   \n53          53     71  toyota      wagon        95.7   169.7         ohc   \n54          54     79  toyota      wagon       104.5   187.8        dohc   \n\n   num-of-cylinders  horsepower  average-mileage    price  \n48             four          62               35   5348.0  \n49             four          62               31   6338.0  \n50             four          62               31   6488.0  \n51             four          62               31   6918.0  \n52             four          62               27   7898.0  \n53             four          62               27   8778.0  \n54              six         156               19  15750.0  \n"
     ]
    }
   ],
   "source": [
    "#4 Print all Toyota car details\n",
    "print(df[df.company == 'toyota'])"
   ]
  },
  {
   "cell_type": "code",
   "execution_count": 26,
   "metadata": {},
   "outputs": [
    {
     "output_type": "stream",
     "name": "stdout",
     "text": [
      "toyota           7\nbmw              6\nmazda            5\nnissan           5\nvolkswagen       4\naudi             4\nmercedes-benz    4\nmitsubishi       4\nalfa-romero      3\nisuzu            3\nhonda            3\nporsche          3\njaguar           3\nchevrolet        3\nvolvo            2\ndodge            2\nName: company, dtype: int64\n"
     ]
    }
   ],
   "source": [
    "# 5 Find total cars per company\n",
    "# print(df['company'].count())\n",
    "company = df['company']\n",
    "# print(dir(company))\n",
    "print(company.value_counts())"
   ]
  },
  {
   "cell_type": "code",
   "execution_count": 60,
   "metadata": {},
   "outputs": [
    {
     "output_type": "stream",
     "name": "stdout",
     "text": [
      "                     company    price\n",
      "company                              \n",
      "alfa-romero      alfa-romero  16500.0\n",
      "audi                    audi  18920.0\n",
      "bmw                      bmw  41315.0\n",
      "chevrolet          chevrolet   6575.0\n",
      "dodge                  dodge   6377.0\n",
      "honda                  honda  12945.0\n",
      "isuzu                  isuzu   6785.0\n",
      "jaguar                jaguar  36000.0\n",
      "mazda                  mazda  18344.0\n",
      "mercedes-benz  mercedes-benz  45400.0\n",
      "mitsubishi        mitsubishi   8189.0\n",
      "nissan                nissan  13499.0\n",
      "porsche              porsche  37028.0\n",
      "toyota                toyota  15750.0\n",
      "volkswagen        volkswagen   9995.0\n",
      "volvo                  volvo  13415.0\n",
      "<ipython-input-60-eb0f44f202d6>:7: FutureWarning: Indexing with multiple keys (implicitly converted to a tuple of keys) will be deprecated, use a list instead.\n",
      "  print(company['company','price'].max())\n"
     ]
    }
   ],
   "source": [
    "# 6 Find Each Company`s Highest price Car\n",
    "# company = df.groupby('company')\n",
    "# for key,value in company.groups.items():\n",
    "#     print(key,value.max())\n",
    "\n",
    "company = df.groupby(['company'])\n",
    "print(company['company','price'].max())"
   ]
  },
  {
   "cell_type": "code",
   "execution_count": 66,
   "metadata": {},
   "outputs": [
    {
     "output_type": "stream",
     "name": "stdout",
     "text": [
      "               average-mileage\n",
      "company                       \n",
      "alfa-romero          20.333333\n",
      "audi                 20.000000\n",
      "bmw                  19.000000\n",
      "chevrolet            41.000000\n",
      "dodge                31.000000\n",
      "honda                26.333333\n",
      "isuzu                33.333333\n",
      "jaguar               14.333333\n",
      "mazda                28.000000\n",
      "mercedes-benz        18.000000\n",
      "mitsubishi           29.500000\n",
      "nissan               31.400000\n",
      "porsche              17.000000\n",
      "toyota               28.714286\n",
      "volkswagen           31.750000\n",
      "volvo                23.000000\n",
      "<ipython-input-66-645ee5a1ffec>:4: FutureWarning: Indexing with multiple keys (implicitly converted to a tuple of keys) will be deprecated, use a list instead.\n",
      "  print(company['company','average-mileage'].mean())\n"
     ]
    }
   ],
   "source": [
    "# 7 Find the average mileage of each car making company\n",
    "# print(df)\n",
    "company = df.groupby('company')\n",
    "print(company['company','average-mileage'].mean())"
   ]
  },
  {
   "cell_type": "code",
   "execution_count": 74,
   "metadata": {},
   "outputs": [
    {
     "output_type": "stream",
     "name": "stdout",
     "text": [
      "    Unnamed: 0  index        company   body-style  wheel-base  length  \\\n35          35     47  mercedes-benz      hardtop       112.0   199.2   \n11          11     14            bmw        sedan       103.5   193.8   \n34          34     46  mercedes-benz        sedan       120.9   208.1   \n46          46     62        porsche  convertible        89.5   168.9   \n12          12     15            bmw        sedan       110.0   197.0   \n\n   engine-type num-of-cylinders  horsepower  average-mileage    price  \n35        ohcv            eight         184               14  45400.0  \n11         ohc              six         182               16  41315.0  \n34        ohcv            eight         184               14  40960.0  \n46        ohcf              six         207               17  37028.0  \n12         ohc              six         182               15  36880.0  \n"
     ]
    }
   ],
   "source": [
    "# 8 Sort all cars by Price in descending order column and display first five rows\n",
    "sort_by_ascending = df.sort_values(by = ['price'],ascending  = False,kind = 'quicksort')\n",
    "print(sort_by_ascending.head())"
   ]
  },
  {
   "cell_type": "code",
   "execution_count": 80,
   "metadata": {},
   "outputs": [
    {
     "output_type": "stream",
     "name": "stdout",
     "text": [
      "               Company   Price\nGermany 0         Ford   23845\n        1     Mercedes  171995\n        2          BMV  135925\n        3         Audi   71400\nJarmany 0       Toyota   29995\n        1        Honda   23600\n        2       Nissan   61500\n        3  Mitsubishi    58900\n"
     ]
    }
   ],
   "source": [
    "# 9 Concatenate two data frames using the following conditions\n",
    "GermanCars =pd.DataFrame( {'Company': ['Ford', 'Mercedes', 'BMV', 'Audi'], 'Price': [23845, 171995, 135925 , 71400]})\n",
    "japaneseCars =pd.DataFrame( {'Company': ['Toyota', 'Honda', 'Nissan', 'Mitsubishi '], 'Price': [29995, 23600, 61500 , 58900]})\n",
    "new_data = pd.concat([GermanCars,japaneseCars],keys=['Germany','Jarmany'])\n",
    "print(new_data)\n"
   ]
  },
  {
   "cell_type": "code",
   "execution_count": 82,
   "metadata": {},
   "outputs": [
    {
     "output_type": "stream",
     "name": "stdout",
     "text": [
      "  Company   Price  horsepower\n0  Toyota   23845         141\n1   Honda   17995          80\n2     BMV  135925         182\n3    Audi   71400         160\n"
     ]
    }
   ],
   "source": [
    "# 10 Merge two data frames using the following condition\n",
    "# Create two data frames using the following two Dicts, Merge two data frames, and append the second data frame as a new column to the first data frame.\n",
    "Car_Price = pd.DataFrame({'Company': ['Toyota', 'Honda', 'BMV', 'Audi'], 'Price': [23845, 17995, 135925 , 71400]})\n",
    "car_Horsepower = pd.DataFrame({'Company': ['Toyota', 'Honda', 'BMV', 'Audi'], 'horsepower': [141, 80, 182 , 160]})\n",
    "\n",
    "new_data = pd.merge(Car_Price,car_Horsepower,on='Company')\n",
    "print(new_data)"
   ]
  },
  {
   "cell_type": "code",
   "execution_count": null,
   "metadata": {},
   "outputs": [],
   "source": []
  }
 ]
}