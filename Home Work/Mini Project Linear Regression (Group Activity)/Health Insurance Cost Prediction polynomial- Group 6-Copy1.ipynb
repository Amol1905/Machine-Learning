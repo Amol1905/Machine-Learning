{
 "cells": [
  {
   "cell_type": "code",
   "execution_count": null,
   "metadata": {},
   "outputs": [],
   "source": []
  },
  {
   "cell_type": "code",
   "execution_count": 1,
   "metadata": {
    "execution": {
     "iopub.execute_input": "2020-10-12T23:16:49.998979Z",
     "iopub.status.busy": "2020-10-12T23:16:49.998334Z",
     "iopub.status.idle": "2020-10-12T23:16:50.839568Z",
     "shell.execute_reply": "2020-10-12T23:16:50.838862Z"
    },
    "papermill": {
     "duration": 0.902999,
     "end_time": "2020-10-12T23:16:50.839686",
     "exception": false,
     "start_time": "2020-10-12T23:16:49.936687",
     "status": "completed"
    },
    "tags": []
   },
   "outputs": [],
   "source": [
    "import numpy as np\n",
    "import pandas as pd\n",
    "import matplotlib.pyplot as plt\n",
    "import seaborn as sns"
   ]
  },
  {
   "cell_type": "code",
   "execution_count": 2,
   "metadata": {
    "_cell_guid": "79c7e3d0-c299-4dcb-8224-4455121ee9b0",
    "_uuid": "d629ff2d2480ee46fbb7e2d37f6b5fab8052498a",
    "execution": {
     "iopub.execute_input": "2020-10-12T23:16:49.878302Z",
     "iopub.status.busy": "2020-10-12T23:16:49.877349Z",
     "iopub.status.idle": "2020-10-12T23:16:49.880201Z",
     "shell.execute_reply": "2020-10-12T23:16:49.879673Z"
    },
    "papermill": {
     "duration": 0.067378,
     "end_time": "2020-10-12T23:16:49.880320",
     "exception": false,
     "start_time": "2020-10-12T23:16:49.812942",
     "status": "completed"
    },
    "tags": []
   },
   "outputs": [],
   "source": [
    "import warnings\n",
    "warnings.filterwarnings('ignore')"
   ]
  },
  {
   "cell_type": "code",
   "execution_count": 3,
   "metadata": {
    "execution": {
     "iopub.execute_input": "2020-10-12T23:16:50.962316Z",
     "iopub.status.busy": "2020-10-12T23:16:50.961652Z",
     "iopub.status.idle": "2020-10-12T23:16:50.976386Z",
     "shell.execute_reply": "2020-10-12T23:16:50.975839Z"
    },
    "papermill": {
     "duration": 0.080476,
     "end_time": "2020-10-12T23:16:50.976493",
     "exception": false,
     "start_time": "2020-10-12T23:16:50.896017",
     "status": "completed"
    },
    "tags": []
   },
   "outputs": [],
   "source": [
    "data= pd.read_csv(\"D:\\Python\\ClassRoom\\Mini Project Linear Regression (Group Activity)\\insurance.csv\")"
   ]
  },
  {
   "cell_type": "code",
   "execution_count": 4,
   "metadata": {
    "execution": {
     "iopub.execute_input": "2020-10-12T23:16:51.102343Z",
     "iopub.status.busy": "2020-10-12T23:16:51.101643Z",
     "iopub.status.idle": "2020-10-12T23:16:51.110532Z",
     "shell.execute_reply": "2020-10-12T23:16:51.110962Z"
    },
    "papermill": {
     "duration": 0.077728,
     "end_time": "2020-10-12T23:16:51.111100",
     "exception": false,
     "start_time": "2020-10-12T23:16:51.033372",
     "status": "completed"
    },
    "tags": []
   },
   "outputs": [
    {
     "data": {
      "text/html": [
       "<div>\n",
       "<style scoped>\n",
       "    .dataframe tbody tr th:only-of-type {\n",
       "        vertical-align: middle;\n",
       "    }\n",
       "\n",
       "    .dataframe tbody tr th {\n",
       "        vertical-align: top;\n",
       "    }\n",
       "\n",
       "    .dataframe thead th {\n",
       "        text-align: right;\n",
       "    }\n",
       "</style>\n",
       "<table border=\"1\" class=\"dataframe\">\n",
       "  <thead>\n",
       "    <tr style=\"text-align: right;\">\n",
       "      <th></th>\n",
       "      <th>age</th>\n",
       "      <th>sex</th>\n",
       "      <th>bmi</th>\n",
       "      <th>children</th>\n",
       "      <th>smoker</th>\n",
       "      <th>region</th>\n",
       "      <th>expenses</th>\n",
       "    </tr>\n",
       "  </thead>\n",
       "  <tbody>\n",
       "    <tr>\n",
       "      <th>0</th>\n",
       "      <td>19</td>\n",
       "      <td>female</td>\n",
       "      <td>27.9</td>\n",
       "      <td>0</td>\n",
       "      <td>yes</td>\n",
       "      <td>southwest</td>\n",
       "      <td>16884.92</td>\n",
       "    </tr>\n",
       "    <tr>\n",
       "      <th>1</th>\n",
       "      <td>18</td>\n",
       "      <td>male</td>\n",
       "      <td>33.8</td>\n",
       "      <td>1</td>\n",
       "      <td>no</td>\n",
       "      <td>southeast</td>\n",
       "      <td>1725.55</td>\n",
       "    </tr>\n",
       "    <tr>\n",
       "      <th>2</th>\n",
       "      <td>28</td>\n",
       "      <td>male</td>\n",
       "      <td>33.0</td>\n",
       "      <td>3</td>\n",
       "      <td>no</td>\n",
       "      <td>southeast</td>\n",
       "      <td>4449.46</td>\n",
       "    </tr>\n",
       "    <tr>\n",
       "      <th>3</th>\n",
       "      <td>33</td>\n",
       "      <td>male</td>\n",
       "      <td>22.7</td>\n",
       "      <td>0</td>\n",
       "      <td>no</td>\n",
       "      <td>northwest</td>\n",
       "      <td>21984.47</td>\n",
       "    </tr>\n",
       "    <tr>\n",
       "      <th>4</th>\n",
       "      <td>32</td>\n",
       "      <td>male</td>\n",
       "      <td>28.9</td>\n",
       "      <td>0</td>\n",
       "      <td>no</td>\n",
       "      <td>northwest</td>\n",
       "      <td>3866.86</td>\n",
       "    </tr>\n",
       "  </tbody>\n",
       "</table>\n",
       "</div>"
      ],
      "text/plain": [
       "   age     sex   bmi  children smoker     region  expenses\n",
       "0   19  female  27.9         0    yes  southwest  16884.92\n",
       "1   18    male  33.8         1     no  southeast   1725.55\n",
       "2   28    male  33.0         3     no  southeast   4449.46\n",
       "3   33    male  22.7         0     no  northwest  21984.47\n",
       "4   32    male  28.9         0     no  northwest   3866.86"
      ]
     },
     "execution_count": 4,
     "metadata": {},
     "output_type": "execute_result"
    }
   ],
   "source": [
    "data.head()"
   ]
  },
  {
   "cell_type": "code",
   "execution_count": 5,
   "metadata": {
    "execution": {
     "iopub.execute_input": "2020-10-12T23:16:51.240720Z",
     "iopub.status.busy": "2020-10-12T23:16:51.239839Z",
     "iopub.status.idle": "2020-10-12T23:16:51.244014Z",
     "shell.execute_reply": "2020-10-12T23:16:51.243105Z"
    },
    "papermill": {
     "duration": 0.075207,
     "end_time": "2020-10-12T23:16:51.244195",
     "exception": false,
     "start_time": "2020-10-12T23:16:51.168988",
     "status": "completed"
    },
    "tags": []
   },
   "outputs": [
    {
     "name": "stdout",
     "output_type": "stream",
     "text": [
      "<class 'pandas.core.frame.DataFrame'>\n",
      "RangeIndex: 1338 entries, 0 to 1337\n",
      "Data columns (total 7 columns):\n",
      " #   Column    Non-Null Count  Dtype  \n",
      "---  ------    --------------  -----  \n",
      " 0   age       1338 non-null   int64  \n",
      " 1   sex       1338 non-null   object \n",
      " 2   bmi       1338 non-null   float64\n",
      " 3   children  1338 non-null   int64  \n",
      " 4   smoker    1338 non-null   object \n",
      " 5   region    1338 non-null   object \n",
      " 6   expenses  1338 non-null   float64\n",
      "dtypes: float64(2), int64(2), object(3)\n",
      "memory usage: 73.3+ KB\n"
     ]
    }
   ],
   "source": [
    "data.info()"
   ]
  },
  {
   "cell_type": "code",
   "execution_count": 6,
   "metadata": {
    "execution": {
     "iopub.execute_input": "2020-10-12T23:16:51.382563Z",
     "iopub.status.busy": "2020-10-12T23:16:51.381907Z",
     "iopub.status.idle": "2020-10-12T23:16:51.402466Z",
     "shell.execute_reply": "2020-10-12T23:16:51.401970Z"
    },
    "papermill": {
     "duration": 0.09805,
     "end_time": "2020-10-12T23:16:51.402592",
     "exception": false,
     "start_time": "2020-10-12T23:16:51.304542",
     "status": "completed"
    },
    "tags": []
   },
   "outputs": [
    {
     "data": {
      "text/html": [
       "<div>\n",
       "<style scoped>\n",
       "    .dataframe tbody tr th:only-of-type {\n",
       "        vertical-align: middle;\n",
       "    }\n",
       "\n",
       "    .dataframe tbody tr th {\n",
       "        vertical-align: top;\n",
       "    }\n",
       "\n",
       "    .dataframe thead th {\n",
       "        text-align: right;\n",
       "    }\n",
       "</style>\n",
       "<table border=\"1\" class=\"dataframe\">\n",
       "  <thead>\n",
       "    <tr style=\"text-align: right;\">\n",
       "      <th></th>\n",
       "      <th>age</th>\n",
       "      <th>bmi</th>\n",
       "      <th>children</th>\n",
       "      <th>expenses</th>\n",
       "    </tr>\n",
       "  </thead>\n",
       "  <tbody>\n",
       "    <tr>\n",
       "      <th>count</th>\n",
       "      <td>1338.000000</td>\n",
       "      <td>1338.000000</td>\n",
       "      <td>1338.000000</td>\n",
       "      <td>1338.000000</td>\n",
       "    </tr>\n",
       "    <tr>\n",
       "      <th>mean</th>\n",
       "      <td>39.207025</td>\n",
       "      <td>30.665471</td>\n",
       "      <td>1.094918</td>\n",
       "      <td>13270.422414</td>\n",
       "    </tr>\n",
       "    <tr>\n",
       "      <th>std</th>\n",
       "      <td>14.049960</td>\n",
       "      <td>6.098382</td>\n",
       "      <td>1.205493</td>\n",
       "      <td>12110.011240</td>\n",
       "    </tr>\n",
       "    <tr>\n",
       "      <th>min</th>\n",
       "      <td>18.000000</td>\n",
       "      <td>16.000000</td>\n",
       "      <td>0.000000</td>\n",
       "      <td>1121.870000</td>\n",
       "    </tr>\n",
       "    <tr>\n",
       "      <th>25%</th>\n",
       "      <td>27.000000</td>\n",
       "      <td>26.300000</td>\n",
       "      <td>0.000000</td>\n",
       "      <td>4740.287500</td>\n",
       "    </tr>\n",
       "    <tr>\n",
       "      <th>50%</th>\n",
       "      <td>39.000000</td>\n",
       "      <td>30.400000</td>\n",
       "      <td>1.000000</td>\n",
       "      <td>9382.030000</td>\n",
       "    </tr>\n",
       "    <tr>\n",
       "      <th>75%</th>\n",
       "      <td>51.000000</td>\n",
       "      <td>34.700000</td>\n",
       "      <td>2.000000</td>\n",
       "      <td>16639.915000</td>\n",
       "    </tr>\n",
       "    <tr>\n",
       "      <th>max</th>\n",
       "      <td>64.000000</td>\n",
       "      <td>53.100000</td>\n",
       "      <td>5.000000</td>\n",
       "      <td>63770.430000</td>\n",
       "    </tr>\n",
       "  </tbody>\n",
       "</table>\n",
       "</div>"
      ],
      "text/plain": [
       "               age          bmi     children      expenses\n",
       "count  1338.000000  1338.000000  1338.000000   1338.000000\n",
       "mean     39.207025    30.665471     1.094918  13270.422414\n",
       "std      14.049960     6.098382     1.205493  12110.011240\n",
       "min      18.000000    16.000000     0.000000   1121.870000\n",
       "25%      27.000000    26.300000     0.000000   4740.287500\n",
       "50%      39.000000    30.400000     1.000000   9382.030000\n",
       "75%      51.000000    34.700000     2.000000  16639.915000\n",
       "max      64.000000    53.100000     5.000000  63770.430000"
      ]
     },
     "execution_count": 6,
     "metadata": {},
     "output_type": "execute_result"
    }
   ],
   "source": [
    "data.describe()"
   ]
  },
  {
   "cell_type": "code",
   "execution_count": 7,
   "metadata": {
    "execution": {
     "iopub.execute_input": "2020-10-12T23:16:51.524333Z",
     "iopub.status.busy": "2020-10-12T23:16:51.523416Z",
     "iopub.status.idle": "2020-10-12T23:16:51.527378Z",
     "shell.execute_reply": "2020-10-12T23:16:51.526850Z"
    },
    "papermill": {
     "duration": 0.066682,
     "end_time": "2020-10-12T23:16:51.527491",
     "exception": false,
     "start_time": "2020-10-12T23:16:51.460809",
     "status": "completed"
    },
    "tags": []
   },
   "outputs": [
    {
     "data": {
      "text/plain": [
       "(1338, 7)"
      ]
     },
     "execution_count": 7,
     "metadata": {},
     "output_type": "execute_result"
    }
   ],
   "source": [
    "data.shape"
   ]
  },
  {
   "cell_type": "markdown",
   "metadata": {
    "papermill": {
     "duration": 0.058754,
     "end_time": "2020-10-12T23:16:51.645457",
     "exception": false,
     "start_time": "2020-10-12T23:16:51.586703",
     "status": "completed"
    },
    "tags": []
   },
   "source": [
    "### Looking at these above exploration we understanding:\n",
    "   - Dataset has 1338 rows and 7 columns.\n",
    "   - There are features which are categorical in nature but in int and float type.\n",
    "   - Later analyse and finalize whether to convert them to categorical or treat as integers."
   ]
  },
  {
   "cell_type": "markdown",
   "metadata": {
    "papermill": {
     "duration": 0.058185,
     "end_time": "2020-10-12T23:16:51.879581",
     "exception": false,
     "start_time": "2020-10-12T23:16:51.821396",
     "status": "completed"
    },
    "tags": []
   },
   "source": [
    "### Check for Missing Values:"
   ]
  },
  {
   "cell_type": "code",
   "execution_count": 8,
   "metadata": {
    "execution": {
     "iopub.execute_input": "2020-10-12T23:16:52.003156Z",
     "iopub.status.busy": "2020-10-12T23:16:52.002527Z",
     "iopub.status.idle": "2020-10-12T23:16:52.026114Z",
     "shell.execute_reply": "2020-10-12T23:16:52.025490Z"
    },
    "papermill": {
     "duration": 0.088378,
     "end_time": "2020-10-12T23:16:52.026257",
     "exception": false,
     "start_time": "2020-10-12T23:16:51.937879",
     "status": "completed"
    },
    "tags": []
   },
   "outputs": [
    {
     "data": {
      "text/plain": [
       "age         0\n",
       "sex         0\n",
       "bmi         0\n",
       "children    0\n",
       "smoker      0\n",
       "region      0\n",
       "expenses    0\n",
       "dtype: int64"
      ]
     },
     "execution_count": 8,
     "metadata": {},
     "output_type": "execute_result"
    }
   ],
   "source": [
    "data.isnull().sum()"
   ]
  },
  {
   "cell_type": "code",
   "execution_count": 9,
   "metadata": {
    "scrolled": true
   },
   "outputs": [
    {
     "data": {
      "text/plain": [
       "age         0.0\n",
       "sex         0.0\n",
       "bmi         0.0\n",
       "children    0.0\n",
       "smoker      0.0\n",
       "region      0.0\n",
       "expenses    0.0\n",
       "dtype: float64"
      ]
     },
     "execution_count": 9,
     "metadata": {},
     "output_type": "execute_result"
    }
   ],
   "source": [
    "#checking for missing values in the colums\n",
    "round(100*(data.isnull().sum()/len(data)),2).sort_values(ascending = False)"
   ]
  },
  {
   "cell_type": "code",
   "execution_count": 10,
   "metadata": {},
   "outputs": [
    {
     "data": {
      "text/plain": [
       "0       0.0\n",
       "898     0.0\n",
       "896     0.0\n",
       "895     0.0\n",
       "894     0.0\n",
       "       ... \n",
       "445     0.0\n",
       "444     0.0\n",
       "443     0.0\n",
       "442     0.0\n",
       "1337    0.0\n",
       "Length: 1338, dtype: float64"
      ]
     },
     "execution_count": 10,
     "metadata": {},
     "output_type": "execute_result"
    }
   ],
   "source": [
    "#checking for missing values in the rows\n",
    "round(100*(data.isnull().sum(axis=1)/len(data)),2).sort_values(ascending = False)"
   ]
  },
  {
   "cell_type": "markdown",
   "metadata": {
    "papermill": {
     "duration": 0.058955,
     "end_time": "2020-10-12T23:16:52.278213",
     "exception": false,
     "start_time": "2020-10-12T23:16:52.219258",
     "status": "completed"
    },
    "tags": []
   },
   "source": [
    "- There are no missing / Null values either in columns or rows"
   ]
  },
  {
   "cell_type": "markdown",
   "metadata": {
    "papermill": {
     "duration": 0.059939,
     "end_time": "2020-10-12T23:16:52.397523",
     "exception": false,
     "start_time": "2020-10-12T23:16:52.337584",
     "status": "completed"
    },
    "tags": []
   },
   "source": [
    "### Checking for Redundancy In The Data"
   ]
  },
  {
   "cell_type": "code",
   "execution_count": 12,
   "metadata": {
    "execution": {
     "iopub.execute_input": "2020-10-12T23:16:52.522096Z",
     "iopub.status.busy": "2020-10-12T23:16:52.521492Z",
     "iopub.status.idle": "2020-10-12T23:16:52.528440Z",
     "shell.execute_reply": "2020-10-12T23:16:52.528872Z"
    },
    "papermill": {
     "duration": 0.072279,
     "end_time": "2020-10-12T23:16:52.529010",
     "exception": false,
     "start_time": "2020-10-12T23:16:52.456731",
     "status": "completed"
    },
    "tags": []
   },
   "outputs": [],
   "source": [
    "data1 = data.copy()"
   ]
  },
  {
   "cell_type": "code",
   "execution_count": 13,
   "metadata": {},
   "outputs": [],
   "source": [
    "#Checking for duplicates and dropping the entire duplicate row if any\n",
    "data1.drop_duplicates(subset=None, inplace=True)"
   ]
  },
  {
   "cell_type": "code",
   "execution_count": 14,
   "metadata": {
    "execution": {
     "iopub.execute_input": "2020-10-12T23:16:52.653672Z",
     "iopub.status.busy": "2020-10-12T23:16:52.652853Z",
     "iopub.status.idle": "2020-10-12T23:16:52.656879Z",
     "shell.execute_reply": "2020-10-12T23:16:52.656408Z"
    },
    "papermill": {
     "duration": 0.068037,
     "end_time": "2020-10-12T23:16:52.656990",
     "exception": false,
     "start_time": "2020-10-12T23:16:52.588953",
     "status": "completed"
    },
    "tags": []
   },
   "outputs": [
    {
     "data": {
      "text/plain": [
       "(1337, 7)"
      ]
     },
     "execution_count": 14,
     "metadata": {},
     "output_type": "execute_result"
    }
   ],
   "source": [
    "data1.shape"
   ]
  },
  {
   "cell_type": "code",
   "execution_count": 15,
   "metadata": {},
   "outputs": [
    {
     "data": {
      "text/plain": [
       "(1338, 7)"
      ]
     },
     "execution_count": 15,
     "metadata": {},
     "output_type": "execute_result"
    }
   ],
   "source": [
    "data.shape"
   ]
  },
  {
   "cell_type": "markdown",
   "metadata": {
    "papermill": {
     "duration": 0.060422,
     "end_time": "2020-10-12T23:16:52.907721",
     "exception": false,
     "start_time": "2020-10-12T23:16:52.847299",
     "status": "completed"
    },
    "tags": []
   },
   "source": [
    "- The shape after running the drop duplicate command is same as the original dataframe. Hence we can conclude that there were zero duplicate values in the dataset."
   ]
  },
  {
   "cell_type": "markdown",
   "metadata": {
    "papermill": {
     "duration": 0.061226,
     "end_time": "2020-10-12T23:16:53.030151",
     "exception": false,
     "start_time": "2020-10-12T23:16:52.968925",
     "status": "completed"
    },
    "tags": []
   },
   "source": [
    "## Data Cleaning\n",
    "- Checking value_counts() for entire dataframe."
   ]
  },
  {
   "cell_type": "code",
   "execution_count": 16,
   "metadata": {
    "execution": {
     "iopub.execute_input": "2020-10-12T23:16:53.163393Z",
     "iopub.status.busy": "2020-10-12T23:16:53.161351Z",
     "iopub.status.idle": "2020-10-12T23:16:53.174011Z",
     "shell.execute_reply": "2020-10-12T23:16:53.173122Z"
    },
    "papermill": {
     "duration": 0.08317,
     "end_time": "2020-10-12T23:16:53.174197",
     "exception": false,
     "start_time": "2020-10-12T23:16:53.091027",
     "status": "completed"
    },
    "tags": []
   },
   "outputs": [
    {
     "data": {
      "text/plain": [
       "male      676\n",
       "female    662\n",
       "Name: sex, dtype: int64"
      ]
     },
     "execution_count": 16,
     "metadata": {},
     "output_type": "execute_result"
    }
   ],
   "source": [
    "data[\"sex\"].value_counts()"
   ]
  },
  {
   "cell_type": "code",
   "execution_count": 17,
   "metadata": {},
   "outputs": [
    {
     "data": {
      "text/plain": [
       "no     1064\n",
       "yes     274\n",
       "Name: smoker, dtype: int64"
      ]
     },
     "execution_count": 17,
     "metadata": {},
     "output_type": "execute_result"
    }
   ],
   "source": [
    "data[\"smoker\"].value_counts()"
   ]
  },
  {
   "cell_type": "code",
   "execution_count": 18,
   "metadata": {},
   "outputs": [
    {
     "data": {
      "text/plain": [
       "southeast    364\n",
       "northwest    325\n",
       "southwest    325\n",
       "northeast    324\n",
       "Name: region, dtype: int64"
      ]
     },
     "execution_count": 18,
     "metadata": {},
     "output_type": "execute_result"
    }
   ],
   "source": [
    "data[\"region\"].value_counts()"
   ]
  },
  {
   "cell_type": "markdown",
   "metadata": {
    "papermill": {
     "duration": 0.060537,
     "end_time": "2020-10-12T23:16:53.297477",
     "exception": false,
     "start_time": "2020-10-12T23:16:53.236940",
     "status": "completed"
    },
    "tags": []
   },
   "source": [
    "- There seems to be no unknown values in the entire dataset."
   ]
  },
  {
   "cell_type": "markdown",
   "metadata": {
    "papermill": {
     "duration": 0.06051,
     "end_time": "2020-10-12T23:16:53.419440",
     "exception": false,
     "start_time": "2020-10-12T23:16:53.358930",
     "status": "completed"
    },
    "tags": []
   },
   "source": [
    "### Coverting the categorical data into category type for futher analysis or one hot encoding"
   ]
  },
  {
   "cell_type": "code",
   "execution_count": 44,
   "metadata": {
    "execution": {
     "iopub.execute_input": "2020-10-12T23:16:53.551412Z",
     "iopub.status.busy": "2020-10-12T23:16:53.550636Z",
     "iopub.status.idle": "2020-10-12T23:16:53.554577Z",
     "shell.execute_reply": "2020-10-12T23:16:53.553957Z"
    },
    "papermill": {
     "duration": 0.074544,
     "end_time": "2020-10-12T23:16:53.554693",
     "exception": false,
     "start_time": "2020-10-12T23:16:53.480149",
     "status": "completed"
    },
    "tags": []
   },
   "outputs": [
    {
     "name": "stdout",
     "output_type": "stream",
     "text": [
      "<class 'pandas.core.frame.DataFrame'>\n",
      "RangeIndex: 1338 entries, 0 to 1337\n",
      "Data columns (total 7 columns):\n",
      " #   Column    Non-Null Count  Dtype  \n",
      "---  ------    --------------  -----  \n",
      " 0   age       1338 non-null   int64  \n",
      " 1   sex       1338 non-null   object \n",
      " 2   bmi       1338 non-null   float64\n",
      " 3   children  1338 non-null   int64  \n",
      " 4   smoker    1338 non-null   object \n",
      " 5   region    1338 non-null   object \n",
      " 6   expenses  1338 non-null   float64\n",
      "dtypes: float64(2), int64(2), object(3)\n",
      "memory usage: 73.3+ KB\n"
     ]
    }
   ],
   "source": [
    "#Check the datatypes before conversion\n",
    "data.info()"
   ]
  },
  {
   "cell_type": "markdown",
   "metadata": {
    "execution": {
     "iopub.execute_input": "2020-10-12T23:16:53.687678Z",
     "iopub.status.busy": "2020-10-12T23:16:53.686759Z",
     "iopub.status.idle": "2020-10-12T23:16:53.691483Z",
     "shell.execute_reply": "2020-10-12T23:16:53.690997Z"
    },
    "papermill": {
     "duration": 0.075271,
     "end_time": "2020-10-12T23:16:53.691592",
     "exception": false,
     "start_time": "2020-10-12T23:16:53.616321",
     "status": "completed"
    },
    "tags": []
   },
   "source": [
    "#Convert to 'category' data type\n",
    "data[\"sex\"] = data[\"sex\"].astype(\"category\")\n",
    "data[\"smoker\"] = data[\"smoker\"].astype(\"category\")\n",
    "data[\"children\"] = data[\"children\"].astype(\"category\")\n",
    "data[\"region\"] = data[\"region\"].astype(\"category\")"
   ]
  },
  {
   "cell_type": "code",
   "execution_count": 45,
   "metadata": {
    "execution": {
     "iopub.execute_input": "2020-10-12T23:16:53.833383Z",
     "iopub.status.busy": "2020-10-12T23:16:53.832747Z",
     "iopub.status.idle": "2020-10-12T23:16:53.844730Z",
     "shell.execute_reply": "2020-10-12T23:16:53.844018Z"
    },
    "papermill": {
     "duration": 0.090384,
     "end_time": "2020-10-12T23:16:53.844872",
     "exception": false,
     "start_time": "2020-10-12T23:16:53.754488",
     "status": "completed"
    },
    "tags": []
   },
   "outputs": [
    {
     "name": "stdout",
     "output_type": "stream",
     "text": [
      "<class 'pandas.core.frame.DataFrame'>\n",
      "RangeIndex: 1338 entries, 0 to 1337\n",
      "Data columns (total 9 columns):\n",
      " #   Column            Non-Null Count  Dtype  \n",
      "---  ------            --------------  -----  \n",
      " 0   age               1338 non-null   int64  \n",
      " 1   bmi               1338 non-null   float64\n",
      " 2   children          1338 non-null   int64  \n",
      " 3   expenses          1338 non-null   float64\n",
      " 4   sex_male          1338 non-null   uint8  \n",
      " 5   smoker_yes        1338 non-null   uint8  \n",
      " 6   region_northwest  1338 non-null   uint8  \n",
      " 7   region_southeast  1338 non-null   uint8  \n",
      " 8   region_southwest  1338 non-null   uint8  \n",
      "dtypes: float64(2), int64(2), uint8(5)\n",
      "memory usage: 48.5 KB\n"
     ]
    }
   ],
   "source": [
    "data1 = pd.get_dummies(data, drop_first=True)\n",
    "data1.info()"
   ]
  },
  {
   "cell_type": "markdown",
   "metadata": {},
   "source": [
    "As we can see:\n",
    "- created dummy variable\n",
    "- Drop original variable for which the dummy was created\n",
    "- Drop first dummy variable for each set of dummies created.\n"
   ]
  },
  {
   "cell_type": "code",
   "execution_count": 21,
   "metadata": {
    "execution": {
     "iopub.execute_input": "2020-10-12T23:16:53.975612Z",
     "iopub.status.busy": "2020-10-12T23:16:53.974618Z",
     "iopub.status.idle": "2020-10-12T23:16:53.978455Z",
     "shell.execute_reply": "2020-10-12T23:16:53.977829Z"
    },
    "papermill": {
     "duration": 0.070412,
     "end_time": "2020-10-12T23:16:53.978564",
     "exception": false,
     "start_time": "2020-10-12T23:16:53.908152",
     "status": "completed"
    },
    "tags": []
   },
   "outputs": [
    {
     "data": {
      "text/plain": [
       "(1338, 9)"
      ]
     },
     "execution_count": 21,
     "metadata": {},
     "output_type": "execute_result"
    }
   ],
   "source": [
    "data1.shape"
   ]
  },
  {
   "cell_type": "markdown",
   "metadata": {
    "papermill": {
     "duration": 0.062912,
     "end_time": "2020-10-12T23:16:54.109676",
     "exception": false,
     "start_time": "2020-10-12T23:16:54.046764",
     "status": "completed"
    },
    "tags": []
   },
   "source": [
    "# SPLITTING THE DATA\n",
    "- Splitting the data to Train and Test: - We will now split the data into TRAIN and TEST (70:30 ratio)\n",
    "- We will use train_test_split method from sklearn package for this"
   ]
  },
  {
   "cell_type": "code",
   "execution_count": 23,
   "metadata": {
    "execution": {
     "iopub.execute_input": "2020-10-12T23:16:54.559491Z",
     "iopub.status.busy": "2020-10-12T23:16:54.558752Z",
     "iopub.status.idle": "2020-10-12T23:16:54.676064Z",
     "shell.execute_reply": "2020-10-12T23:16:54.675358Z"
    },
    "papermill": {
     "duration": 0.185678,
     "end_time": "2020-10-12T23:16:54.676196",
     "exception": false,
     "start_time": "2020-10-12T23:16:54.490518",
     "status": "completed"
    },
    "tags": []
   },
   "outputs": [],
   "source": [
    "from sklearn.model_selection import train_test_split\n",
    "\n",
    "#'random_state' so that the train and test data set always have the same rows, respectively\n",
    "train_data, test_data = train_test_split(data1, test_size = 0.20)"
   ]
  },
  {
   "cell_type": "markdown",
   "metadata": {
    "papermill": {
     "duration": 0.063182,
     "end_time": "2020-10-12T23:16:54.805006",
     "exception": false,
     "start_time": "2020-10-12T23:16:54.741824",
     "status": "completed"
    },
    "tags": []
   },
   "source": [
    "- Verify the info and shape of the dataframes after split:"
   ]
  },
  {
   "cell_type": "code",
   "execution_count": 46,
   "metadata": {
    "execution": {
     "iopub.execute_input": "2020-10-12T23:16:54.943205Z",
     "iopub.status.busy": "2020-10-12T23:16:54.942520Z",
     "iopub.status.idle": "2020-10-12T23:16:54.945819Z",
     "shell.execute_reply": "2020-10-12T23:16:54.946329Z"
    },
    "papermill": {
     "duration": 0.077797,
     "end_time": "2020-10-12T23:16:54.946479",
     "exception": false,
     "start_time": "2020-10-12T23:16:54.868682",
     "status": "completed"
    },
    "tags": []
   },
   "outputs": [
    {
     "name": "stdout",
     "output_type": "stream",
     "text": [
      "<class 'pandas.core.frame.DataFrame'>\n",
      "Int64Index: 1070 entries, 746 to 829\n",
      "Data columns (total 9 columns):\n",
      " #   Column            Non-Null Count  Dtype  \n",
      "---  ------            --------------  -----  \n",
      " 0   age               1070 non-null   int64  \n",
      " 1   bmi               1070 non-null   float64\n",
      " 2   children          1070 non-null   int64  \n",
      " 3   expenses          1070 non-null   float64\n",
      " 4   sex_male          1070 non-null   uint8  \n",
      " 5   smoker_yes        1070 non-null   uint8  \n",
      " 6   region_northwest  1070 non-null   uint8  \n",
      " 7   region_southeast  1070 non-null   uint8  \n",
      " 8   region_southwest  1070 non-null   uint8  \n",
      "dtypes: float64(2), int64(2), uint8(5)\n",
      "memory usage: 47.0 KB\n"
     ]
    }
   ],
   "source": [
    "train_data.info()"
   ]
  },
  {
   "cell_type": "code",
   "execution_count": 25,
   "metadata": {
    "execution": {
     "iopub.execute_input": "2020-10-12T23:16:55.079650Z",
     "iopub.status.busy": "2020-10-12T23:16:55.078933Z",
     "iopub.status.idle": "2020-10-12T23:16:55.082798Z",
     "shell.execute_reply": "2020-10-12T23:16:55.082157Z"
    },
    "papermill": {
     "duration": 0.072472,
     "end_time": "2020-10-12T23:16:55.082905",
     "exception": false,
     "start_time": "2020-10-12T23:16:55.010433",
     "status": "completed"
    },
    "tags": []
   },
   "outputs": [
    {
     "data": {
      "text/plain": [
       "(1070, 9)"
      ]
     },
     "execution_count": 25,
     "metadata": {},
     "output_type": "execute_result"
    }
   ],
   "source": [
    "train_data.shape"
   ]
  },
  {
   "cell_type": "code",
   "execution_count": 47,
   "metadata": {
    "execution": {
     "iopub.execute_input": "2020-10-12T23:16:55.224898Z",
     "iopub.status.busy": "2020-10-12T23:16:55.224125Z",
     "iopub.status.idle": "2020-10-12T23:16:55.227813Z",
     "shell.execute_reply": "2020-10-12T23:16:55.227031Z"
    },
    "papermill": {
     "duration": 0.080354,
     "end_time": "2020-10-12T23:16:55.227962",
     "exception": false,
     "start_time": "2020-10-12T23:16:55.147608",
     "status": "completed"
    },
    "tags": []
   },
   "outputs": [
    {
     "name": "stdout",
     "output_type": "stream",
     "text": [
      "<class 'pandas.core.frame.DataFrame'>\n",
      "Int64Index: 268 entries, 984 to 1040\n",
      "Data columns (total 9 columns):\n",
      " #   Column            Non-Null Count  Dtype  \n",
      "---  ------            --------------  -----  \n",
      " 0   age               268 non-null    int64  \n",
      " 1   bmi               268 non-null    float64\n",
      " 2   children          268 non-null    int64  \n",
      " 3   expenses          268 non-null    float64\n",
      " 4   sex_male          268 non-null    uint8  \n",
      " 5   smoker_yes        268 non-null    uint8  \n",
      " 6   region_northwest  268 non-null    uint8  \n",
      " 7   region_southeast  268 non-null    uint8  \n",
      " 8   region_southwest  268 non-null    uint8  \n",
      "dtypes: float64(2), int64(2), uint8(5)\n",
      "memory usage: 11.8 KB\n"
     ]
    }
   ],
   "source": [
    "test_data.info()"
   ]
  },
  {
   "cell_type": "code",
   "execution_count": 27,
   "metadata": {
    "execution": {
     "iopub.execute_input": "2020-10-12T23:16:55.364747Z",
     "iopub.status.busy": "2020-10-12T23:16:55.364063Z",
     "iopub.status.idle": "2020-10-12T23:16:55.368046Z",
     "shell.execute_reply": "2020-10-12T23:16:55.367480Z"
    },
    "papermill": {
     "duration": 0.073903,
     "end_time": "2020-10-12T23:16:55.368147",
     "exception": false,
     "start_time": "2020-10-12T23:16:55.294244",
     "status": "completed"
    },
    "tags": []
   },
   "outputs": [
    {
     "data": {
      "text/plain": [
       "(268, 9)"
      ]
     },
     "execution_count": 27,
     "metadata": {},
     "output_type": "execute_result"
    }
   ],
   "source": [
    "test_data.shape"
   ]
  },
  {
   "cell_type": "markdown",
   "metadata": {
    "papermill": {
     "duration": 0.065366,
     "end_time": "2020-10-12T23:16:55.499285",
     "exception": false,
     "start_time": "2020-10-12T23:16:55.433919",
     "status": "completed"
    },
    "tags": []
   },
   "source": [
    "### Visualising Numeric Variables\n",
    "- Let's make a pairplot of all the numeric variables."
   ]
  },
  {
   "cell_type": "code",
   "execution_count": 28,
   "metadata": {
    "execution": {
     "iopub.execute_input": "2020-10-12T23:16:55.783261Z",
     "iopub.status.busy": "2020-10-12T23:16:55.782390Z",
     "iopub.status.idle": "2020-10-12T23:16:55.786456Z",
     "shell.execute_reply": "2020-10-12T23:16:55.786911Z"
    },
    "papermill": {
     "duration": 0.076234,
     "end_time": "2020-10-12T23:16:55.787062",
     "exception": false,
     "start_time": "2020-10-12T23:16:55.710828",
     "status": "completed"
    },
    "tags": []
   },
   "outputs": [
    {
     "data": {
      "text/plain": [
       "Index(['age', 'bmi', 'children', 'expenses', 'sex_male', 'smoker_yes',\n",
       "       'region_northwest', 'region_southeast', 'region_southwest'],\n",
       "      dtype='object')"
      ]
     },
     "execution_count": 28,
     "metadata": {},
     "output_type": "execute_result"
    }
   ],
   "source": [
    "train_data.columns"
   ]
  },
  {
   "cell_type": "code",
   "execution_count": 29,
   "metadata": {
    "execution": {
     "iopub.execute_input": "2020-10-12T23:16:55.927326Z",
     "iopub.status.busy": "2020-10-12T23:16:55.926655Z",
     "iopub.status.idle": "2020-10-12T23:16:58.083693Z",
     "shell.execute_reply": "2020-10-12T23:16:58.084253Z"
    },
    "papermill": {
     "duration": 2.229768,
     "end_time": "2020-10-12T23:16:58.084442",
     "exception": false,
     "start_time": "2020-10-12T23:16:55.854674",
     "status": "completed"
    },
    "tags": []
   },
   "outputs": [
    {
     "data": {
      "image/png": "[encoded data removed]",
      "text/plain": [
       "<Figure size 540x540 with 12 Axes>"
      ]
     },
     "metadata": {
      "needs_background": "light"
     },
     "output_type": "display_data"
    }
   ],
   "source": [
    "# Create a new dataframe of only numeric variables:\n",
    "\n",
    "numeric_data = train_data[[ \"age\", \"bmi\", \"expenses\"]]\n",
    "\n",
    "sns.pairplot(numeric_data, diag_kind='kde')\n",
    "plt.show()"
   ]
  },
  {
   "cell_type": "markdown",
   "metadata": {
    "papermill": {
     "duration": 0.069283,
     "end_time": "2020-10-12T23:16:58.223206",
     "exception": false,
     "start_time": "2020-10-12T23:16:58.153923",
     "status": "completed"
    },
    "tags": []
   },
   "source": [
    "- The above PairPlot tells us that there is a ***LINEAR RELATION*** between  **\"age\" and \"charges\"** and **\"bmi\" and \"charges\"**"
   ]
  },
  {
   "cell_type": "markdown",
   "metadata": {
    "papermill": {
     "duration": 0.069275,
     "end_time": "2020-10-12T23:16:58.362496",
     "exception": false,
     "start_time": "2020-10-12T23:16:58.293221",
     "status": "completed"
    },
    "tags": []
   },
   "source": [
    "## Visualising Catagorical Variables"
   ]
  },
  {
   "cell_type": "markdown",
   "metadata": {},
   "source": [
    "- Box plot (refer the fig above) to study their effect on the dependent variable (\"charges\")"
   ]
  },
  {
   "cell_type": "code",
   "execution_count": 30,
   "metadata": {
    "execution": {
     "iopub.execute_input": "2020-10-12T23:16:58.666839Z",
     "iopub.status.busy": "2020-10-12T23:16:58.665690Z",
     "iopub.status.idle": "2020-10-12T23:16:59.227727Z",
     "shell.execute_reply": "2020-10-12T23:16:59.227186Z"
    },
    "papermill": {
     "duration": 0.643902,
     "end_time": "2020-10-12T23:16:59.227838",
     "exception": false,
     "start_time": "2020-10-12T23:16:58.583936",
     "status": "completed"
    },
    "tags": []
   },
   "outputs": [
    {
     "data": {
      "text/plain": [
       "<AxesSubplot:xlabel='sex', ylabel='expenses'>"
      ]
     },
     "execution_count": 30,
     "metadata": {},
     "output_type": "execute_result"
    },
    {
     "data": {
      "image/png": "[encoded data removed]",
      "text/plain": [
       "<Figure size 432x288 with 1 Axes>"
      ]
     },
     "metadata": {
      "needs_background": "light"
     },
     "output_type": "display_data"
    }
   ],
   "source": [
    "sns.boxplot(x = \"sex\", y = \"expenses\", data = data)"
   ]
  },
  {
   "cell_type": "markdown",
   "metadata": {},
   "source": [
    "- **sex**: data is bit baised towards male , data is represented as 50.5 : 49.5 for male: female . Interquartile range for male is higher compared  to interquartile range for female."
   ]
  },
  {
   "cell_type": "code",
   "execution_count": 31,
   "metadata": {},
   "outputs": [
    {
     "data": {
      "text/plain": [
       "<AxesSubplot:xlabel='children', ylabel='expenses'>"
      ]
     },
     "execution_count": 31,
     "metadata": {},
     "output_type": "execute_result"
    },
    {
     "data": {
      "image/png": "[encoded data removed]",
      "text/plain": [
       "<Figure size 432x288 with 1 Axes>"
      ]
     },
     "metadata": {
      "needs_background": "light"
     },
     "output_type": "display_data"
    }
   ],
   "source": [
    "sns.boxplot(x = \"children\", y = \"expenses\", data = data)"
   ]
  },
  {
   "cell_type": "markdown",
   "metadata": {},
   "source": [
    "- **Children** : People have 2 children are having highest data  distribution  between 50 percentile to 75 percentile among all others."
   ]
  },
  {
   "cell_type": "code",
   "execution_count": 32,
   "metadata": {},
   "outputs": [
    {
     "data": {
      "text/plain": [
       "<AxesSubplot:xlabel='smoker', ylabel='expenses'>"
      ]
     },
     "execution_count": 32,
     "metadata": {},
     "output_type": "execute_result"
    },
    {
     "data": {
      "image/png": "[encoded data removed]",
      "text/plain": [
       "<Figure size 432x288 with 1 Axes>"
      ]
     },
     "metadata": {
      "needs_background": "light"
     },
     "output_type": "display_data"
    }
   ],
   "source": [
    "sns.boxplot(x = \"smoker\", y = \"expenses\", data = data)"
   ]
  },
  {
   "cell_type": "markdown",
   "metadata": {},
   "source": [
    "- **smoker**: 20.5 % of our data are smoker. Median for Smokers are quite high compared to people who don't smoke."
   ]
  },
  {
   "cell_type": "code",
   "execution_count": 33,
   "metadata": {},
   "outputs": [
    {
     "data": {
      "text/plain": [
       "<AxesSubplot:xlabel='region', ylabel='expenses'>"
      ]
     },
     "execution_count": 33,
     "metadata": {},
     "output_type": "execute_result"
    },
    {
     "data": {
      "image/png": "[encoded data removed]",
      "text/plain": [
       "<Figure size 432x288 with 1 Axes>"
      ]
     },
     "metadata": {
      "needs_background": "light"
     },
     "output_type": "display_data"
    }
   ],
   "source": [
    "sns.boxplot(x = \"region\", y = \"expenses\", data = data)"
   ]
  },
  {
   "cell_type": "markdown",
   "metadata": {
    "papermill": {
     "duration": 0.071029,
     "end_time": "2020-10-12T23:16:59.370366",
     "exception": false,
     "start_time": "2020-10-12T23:16:59.299337",
     "status": "completed"
    },
    "tags": []
   },
   "source": [
    "- **region** : Region as Souteast are having highest data  distribution  between 50 percentile to 75 percentile among all others."
   ]
  },
  {
   "cell_type": "markdown",
   "metadata": {
    "papermill": {
     "duration": 0.071676,
     "end_time": "2020-10-12T23:16:59.513805",
     "exception": false,
     "start_time": "2020-10-12T23:16:59.442129",
     "status": "completed"
    },
    "tags": []
   },
   "source": [
    "## Correlation Matrix"
   ]
  },
  {
   "cell_type": "markdown",
   "metadata": {},
   "source": [
    "- Let's check the correlation coefficients to see which variables are highly correlated. Here we are considering only those variables (dataframe: data1) that were chosen for analysis"
   ]
  },
  {
   "cell_type": "code",
   "execution_count": 34,
   "metadata": {
    "execution": {
     "iopub.execute_input": "2020-10-12T23:16:59.661426Z",
     "iopub.status.busy": "2020-10-12T23:16:59.660110Z",
     "iopub.status.idle": "2020-10-12T23:17:00.458514Z",
     "shell.execute_reply": "2020-10-12T23:17:00.458993Z"
    },
    "papermill": {
     "duration": 0.874673,
     "end_time": "2020-10-12T23:17:00.459130",
     "exception": false,
     "start_time": "2020-10-12T23:16:59.584457",
     "status": "completed"
    },
    "tags": []
   },
   "outputs": [
    {
     "data": {
      "image/png": "[encoded data removed]",
      "text/plain": [
       "<Figure size 1800x720 with 2 Axes>"
      ]
     },
     "metadata": {
      "needs_background": "light"
     },
     "output_type": "display_data"
    }
   ],
   "source": [
    "plt.figure(figsize = (25,10))\n",
    "sns.heatmap(data1.corr(), annot = True)\n",
    "plt.show()"
   ]
  },
  {
   "cell_type": "code",
   "execution_count": null,
   "metadata": {},
   "outputs": [],
   "source": []
  },
  {
   "cell_type": "markdown",
   "metadata": {
    "papermill": {
     "duration": 0.074022,
     "end_time": "2020-10-12T23:17:00.607344",
     "exception": false,
     "start_time": "2020-10-12T23:17:00.533322",
     "status": "completed"
    },
    "tags": []
   },
   "source": [
    "- The heatmap clearly shows which all variable are multicollinear in nature, and which variable have high collinearity with the target variable.\n",
    "- We will refer this map back-and-forth while building the linear model so as to validate different correlated values along with VIF and for identifying the correct variable to select/eliminate from the model."
   ]
  },
  {
   "cell_type": "markdown",
   "metadata": {},
   "source": [
    "## Amol's Part"
   ]
  },
  {
   "cell_type": "code",
   "execution_count": 51,
   "metadata": {},
   "outputs": [
    {
     "name": "stdout",
     "output_type": "stream",
     "text": [
      "     age   bmi  children  expenses  sex_male  smoker_yes  region_northwest  \\\n",
      "746   34  27.0         2  11737.85         1           0                 0   \n",
      "315   52  33.3         0   9722.77         1           0                 0   \n",
      "139   22  36.0         0   2166.73         0           0                 0   \n",
      "873   43  30.1         1   6849.03         1           0                 0   \n",
      "232   19  17.8         0   1727.79         0           0                 0   \n",
      "\n",
      "     region_southeast  region_southwest  \n",
      "746                 0                 1  \n",
      "315                 0                 0  \n",
      "139                 0                 1  \n",
      "873                 0                 1  \n",
      "232                 0                 1  \n",
      "     age   bmi  children  expenses  sex_male  smoker_yes  region_northwest  \\\n",
      "984   20  30.1         5   4915.06         1           0                 0   \n",
      "748   47  36.0         1   8556.91         0           0                 0   \n",
      "781   18  41.1         0   1146.80         1           0                 0   \n",
      "140   34  22.4         2  27375.90         1           0                 0   \n",
      "920   62  25.0         0  13451.12         0           0                 0   \n",
      "\n",
      "     region_southeast  region_southwest  \n",
      "984                 0                 0  \n",
      "748                 0                 1  \n",
      "781                 1                 0  \n",
      "140                 0                 0  \n",
      "920                 0                 1  \n"
     ]
    }
   ],
   "source": [
    "print(train_data.head())\n",
    "print(test_data.head())"
   ]
  },
  {
   "cell_type": "code",
   "execution_count": 164,
   "metadata": {},
   "outputs": [],
   "source": [
    "from sklearn.linear_model import LinearRegression\n",
    "from sklearn.preprocessing import MinMaxScaler,StandardScaler"
   ]
  },
  {
   "cell_type": "code",
   "execution_count": 165,
   "metadata": {},
   "outputs": [],
   "source": [
    "X_train = train_data.drop('expenses',axis = 1)\n",
    "X_test = test_data.drop('expenses',axis = 1)\n",
    "Y_train = train_data.expenses\n",
    "Y_test = test_data.expenses\n"
   ]
  },
  {
   "cell_type": "code",
   "execution_count": 166,
   "metadata": {},
   "outputs": [
    {
     "name": "stdout",
     "output_type": "stream",
     "text": [
      "(1070, 8) (1070,) (268, 8) (268,)\n"
     ]
    }
   ],
   "source": [
    "print(X_train.shape,Y_train.shape,X_test.shape,Y_test.shape)"
   ]
  },
  {
   "cell_type": "code",
   "execution_count": 167,
   "metadata": {},
   "outputs": [],
   "source": [
    "model = LinearRegression()"
   ]
  },
  {
   "cell_type": "code",
   "execution_count": 168,
   "metadata": {},
   "outputs": [
    {
     "name": "stdout",
     "output_type": "stream",
     "text": [
      "R^2 Value:  0.7241137671556126\n",
      "Intercept:  -12260.904138957021\n",
      "Coeffient:  [  250.52111002   347.05036403   517.07201607   -30.35271833\n",
      " 23743.52164981  -303.49809244  -805.80850135  -697.68918281]\n",
      "        Actaul     Predicted\n",
      "984    4915.06   5750.741381\n",
      "748    8556.91  11826.783970\n",
      "781    1146.80   5676.084583\n",
      "140   27375.90   5034.533070\n",
      "920   13451.12  11249.974600\n",
      "...        ...           ...\n",
      "1307  21472.48  30985.845514\n",
      "841   12323.94  11061.632626\n",
      "1090  41676.08  34984.171640\n",
      "1327   9377.90  10608.094189\n",
      "1040  20234.85  29664.768462\n",
      "\n",
      "[268 rows x 2 columns]\n"
     ]
    }
   ],
   "source": [
    "model.fit(X_train,Y_train)\n",
    "Y_pred = model.predict(X_test)\n",
    "print(\"R^2 Value: \",model.score(X_test,Y_test))\n",
    "print(\"Intercept: \",model.intercept_)\n",
    "print(\"Coeffient: \",model.coef_)\n",
    "p = pd.DataFrame({\"Actaul\": Y_test,'Predicted':Y_pred})\n",
    "print(p)\n"
   ]
  },
  {
   "cell_type": "code",
   "execution_count": 169,
   "metadata": {},
   "outputs": [],
   "source": [
    "def my_model(X_train,Y_train,X_test,Y_test):\n",
    "    lm = LinearRegression()\n",
    "    lm.fit(X_train,Y_train)\n",
    "    ypred = lm.predict(X_test)\n",
    "    \n",
    "    return (lm.score(X_test,Y_test)),ypred\n"
   ]
  },
  {
   "cell_type": "code",
   "execution_count": 170,
   "metadata": {},
   "outputs": [],
   "source": [
    "def scalling(scaler):\n",
    "    X_train_scale= scaler.fit_transform(X_train)\n",
    "    X_test_scale = scaler.fit_transform(X_test)\n",
    "    return X_train_scale,X_test_scale\n"
   ]
  },
  {
   "cell_type": "code",
   "execution_count": null,
   "metadata": {},
   "outputs": [],
   "source": []
  },
  {
   "cell_type": "code",
   "execution_count": 171,
   "metadata": {},
   "outputs": [
    {
     "name": "stdout",
     "output_type": "stream",
     "text": [
      "R^2 Value:  0.7256982332449515\n",
      "\n",
      "Using MinMaxScaler-----------------------------------------------------------\n",
      "        Actaul     Predicted\n",
      "984    4915.06   6298.657232\n",
      "748    8556.91  12487.793850\n",
      "781    1146.80   6434.853708\n",
      "140   27375.90   5434.851629\n",
      "920   13451.12  11700.131206\n",
      "...        ...           ...\n",
      "1307  21472.48  31495.424406\n",
      "841   12323.94  11506.038688\n",
      "1090  41676.08  35649.015215\n",
      "1327   9377.90  11154.093192\n",
      "1040  20234.85  30172.430506\n",
      "\n",
      "[268 rows x 2 columns]\n"
     ]
    }
   ],
   "source": [
    "X_train_scale_Value ,X_test_scale_Value= scalling(MinMaxScaler())\n",
    "\n",
    "Rsquare,Y_pred = my_model(X_train_scale_Value ,Y_train,X_test_scale_Value,Y_test)\n",
    "print(\"R^2 Value: \",Rsquare)\n",
    "\n",
    "print(\"\\nUsing MinMaxScaler-----------------------------------------------------------\")\n",
    "p = pd.DataFrame({\"Actaul\": Y_test,'Predicted':Y_pred})\n",
    "print(p)\n"
   ]
  },
  {
   "cell_type": "code",
   "execution_count": 172,
   "metadata": {},
   "outputs": [
    {
     "name": "stdout",
     "output_type": "stream",
     "text": [
      "R^2 Value:  0.7159714344172612\n",
      "\n",
      "Using StanardScaler-----------------------------------------------------------\n",
      "        Actaul     Predicted\n",
      "984    4915.06   4884.467485\n",
      "748    8556.91  11412.271246\n",
      "781    1146.80   5088.363800\n",
      "140   27375.90   4210.075386\n",
      "920   13451.12  10780.015557\n",
      "...        ...           ...\n",
      "1307  21472.48  29826.044492\n",
      "841   12323.94  10584.162383\n",
      "1090  41676.08  34182.431212\n",
      "1327   9377.90  10111.819860\n",
      "1040  20234.85  28610.992969\n",
      "\n",
      "[268 rows x 2 columns]\n"
     ]
    }
   ],
   "source": [
    "X_train_scale_Value ,X_test_scale_Value= scalling(StandardScaler())\n",
    "\n",
    "Rsquare,Y_pred = my_model(X_train_scale_Value ,Y_train,X_test_scale_Value,Y_test)\n",
    "print(\"R^2 Value: \",Rsquare)\n",
    "\n",
    "print(\"\\nUsing StanardScaler-----------------------------------------------------------\")\n",
    "p = pd.DataFrame({\"Actaul\": Y_test,'Predicted':Y_pred})\n",
    "print(p)\n"
   ]
  },
  {
   "cell_type": "code",
   "execution_count": 173,
   "metadata": {},
   "outputs": [],
   "source": [
    "from sklearn.preprocessing import PolynomialFeatures\n"
   ]
  },
  {
   "cell_type": "code",
   "execution_count": 174,
   "metadata": {},
   "outputs": [],
   "source": [
    "# X_train = train_data.drop('expenses',axis = 1)\n",
    "# X_test = test_data.drop('expenses',axis = 1)\n",
    "# Y_train = train_data.expenses\n",
    "# Y_test = test_data.expenses\n"
   ]
  },
  {
   "cell_type": "code",
   "execution_count": 175,
   "metadata": {},
   "outputs": [],
   "source": [
    "# Polynomial_Features = PolynomialFeatures(degree = 5)\n",
    "Polynomial_Features = PolynomialFeatures(degree = 7)\n"
   ]
  },
  {
   "cell_type": "code",
   "execution_count": 176,
   "metadata": {},
   "outputs": [],
   "source": [
    "X_train_poly = Polynomial_Features.fit_transform(X_train)\n",
    "X_test_poly = Polynomial_Features.fit_transform(X_test)\n"
   ]
  },
  {
   "cell_type": "code",
   "execution_count": 177,
   "metadata": {},
   "outputs": [],
   "source": [
    "linear_model = LinearRegression()\n",
    "linear_model.fit(X_train_poly,Y_train)\n",
    "ypred = linear_model.predict(X_test_poly)\n",
    "rsquare = linear_model.score(X_train_poly,Y_train)"
   ]
  },
  {
   "cell_type": "code",
   "execution_count": 160,
   "metadata": {},
   "outputs": [
    {
     "name": "stdout",
     "output_type": "stream",
     "text": [
      "R^2 Value:  0.9568696964093771\n",
      "\n",
      "Using Polynomial Regression -----------------------------------------------------------\n",
      "        Actual     Predicted\n",
      "984    4915.06  8.187184e+07\n",
      "748    8556.91  8.722415e+03\n",
      "781    1146.80  3.906493e+03\n",
      "140   27375.90 -2.286633e+04\n",
      "920   13451.12 -2.851478e+03\n",
      "...        ...           ...\n",
      "1307  21472.48 -9.326681e+06\n",
      "841   12323.94  1.206392e+04\n",
      "1090  41676.08 -3.084388e+05\n",
      "1327   9377.90  9.154748e+02\n",
      "1040  20234.85 -6.528726e+04\n",
      "\n",
      "[268 rows x 2 columns]\n"
     ]
    }
   ],
   "source": [
    "print(\"R^2 Value: \",rsquare)\n",
    "print(\"\\nUsing Polynomial Regression -----------------------------------------------------------\")\n",
    "d = pd.DataFrame({'Actual':Y_test,'Predicted':ypred})\n",
    "\n",
    "print(d)"
   ]
  },
  {
   "cell_type": "code",
   "execution_count": null,
   "metadata": {},
   "outputs": [],
   "source": []
  }
 ],
 "metadata": {
  "kernelspec": {
   "display_name": "Python 3",
   "language": "python",
   "name": "python3"
  },
  "language_info": {
   "codemirror_mode": {
    "name": "ipython",
    "version": 3
   },
   "file_extension": ".py",
   "mimetype": "text/x-python",
   "name": "python",
   "nbconvert_exporter": "python",
   "pygments_lexer": "ipython3",
   "version": "3.9.2"
  },
  "metadata": {
   "interpreter": {
    "hash": "43f3d5464ecdc28984f4e55fa968953c88401d2bb2627061fda4cc5061bd2fa5"
   }
  },
  "papermill": {
   "duration": 33.996366,
   "end_time": "2020-10-12T23:17:19.851373",
   "environment_variables": {},
   "exception": null,
   "input_path": "__notebook__.ipynb",
   "output_path": "__notebook__.ipynb",
   "parameters": {},
   "start_time": "2020-10-12T23:16:45.855007",
   "version": "2.1.0"
  }
 },
 "nbformat": 4,
 "nbformat_minor": 4
}
