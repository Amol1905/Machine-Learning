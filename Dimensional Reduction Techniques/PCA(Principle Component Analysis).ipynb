{
 "cells": [
  {
   "cell_type": "markdown",
   "id": "6a635350",
   "metadata": {},
   "source": [
    "# PCA (Principal Component Aanalusis)\n",
    " **USES**:\n",
    "1. To improve algorithm performence by tranforming data.\n",
    "2. To Make Algorithm very fast.\n",
    "3. Use for visualization of data.\n",
    "4. Use for Feature Extraction.\n",
    "\n",
    "**Components**:\n",
    "1. Mean\n",
    "2. STD(Standard Deviation)\n",
    "3. Covariance Matrix\n",
    "4. Eigen value (λ),Eigen Vectors (v).\n",
    "\n",
    "**Steps:**\n",
    "1. calculate mean of each column\n",
    "    - m = mean(data).\n",
    "2. Substract each column by its mean value\n",
    "    - scaled_dada = data - m\n",
    "3. Covariance Matrix\n",
    "    - v = cov(data)\n",
    "4. calculate Eigen values and Eigen Vectors\n",
    "    - values, vectors = eig(scaled_data)\n",
    "5. Select longest k values by sorting.\n",
    "    - B = (values,vectors)\n",
    "6. Transform the data\n",
    "    - B.T.dot(data) ---> Multiply\n"
   ]
  },
  {
   "cell_type": "code",
   "execution_count": 1,
   "id": "a65653d7",
   "metadata": {},
   "outputs": [],
   "source": [
    "import numpy as np"
   ]
  },
  {
   "cell_type": "code",
   "execution_count": 2,
   "id": "7dd86513",
   "metadata": {},
   "outputs": [
    {
     "data": {
      "text/plain": [
       "array([[1, 2],\n",
       "       [3, 4],\n",
       "       [5, 6]])"
      ]
     },
     "execution_count": 2,
     "metadata": {},
     "output_type": "execute_result"
    }
   ],
   "source": [
    "# data for matrix\n",
    "data = np.array([[1,2],[3,4],[5,6]])\n",
    "data"
   ]
  },
  {
   "cell_type": "code",
   "execution_count": 3,
   "id": "6bfe2394",
   "metadata": {},
   "outputs": [
    {
     "data": {
      "text/plain": [
       "array([3., 4.])"
      ]
     },
     "execution_count": 3,
     "metadata": {},
     "output_type": "execute_result"
    }
   ],
   "source": [
    "#mean of each column\n",
    "M = np.mean(data.T,axis=1)\n",
    "M"
   ]
  },
  {
   "cell_type": "code",
   "execution_count": 4,
   "id": "3691a589",
   "metadata": {},
   "outputs": [
    {
     "data": {
      "text/plain": [
       "array([[-2., -2.],\n",
       "       [ 0.,  0.],\n",
       "       [ 2.,  2.]])"
      ]
     },
     "execution_count": 4,
     "metadata": {},
     "output_type": "execute_result"
    }
   ],
   "source": [
    "# subtraction of mean from data\n",
    "scaled_data = data - M\n",
    "scaled_data"
   ]
  },
  {
   "cell_type": "code",
   "execution_count": 5,
   "id": "5f560250",
   "metadata": {},
   "outputs": [
    {
     "data": {
      "text/plain": [
       "array([[4., 4.],\n",
       "       [4., 4.]])"
      ]
     },
     "execution_count": 5,
     "metadata": {},
     "output_type": "execute_result"
    }
   ],
   "source": [
    "# covariance Matrix\n",
    "v = np.cov(scaled_data.T)\n",
    "v"
   ]
  },
  {
   "cell_type": "code",
   "execution_count": 6,
   "id": "5a34a8c6",
   "metadata": {},
   "outputs": [
    {
     "data": {
      "text/plain": [
       "(array([8., 0.]),\n",
       " array([[ 0.70710678, -0.70710678],\n",
       "        [ 0.70710678,  0.70710678]]))"
      ]
     },
     "execution_count": 6,
     "metadata": {},
     "output_type": "execute_result"
    }
   ],
   "source": [
    "# eigen value and eigen vectors\n",
    "values, vectors = np.linalg.eig(v)\n",
    "values,vectors"
   ]
  },
  {
   "cell_type": "code",
   "execution_count": 7,
   "id": "2cd86024",
   "metadata": {},
   "outputs": [],
   "source": [
    "# project the data / tranformation the data\n",
    "p = vectors.T.dot(scaled_data.T)"
   ]
  },
  {
   "cell_type": "code",
   "execution_count": 8,
   "id": "ead63f8e",
   "metadata": {},
   "outputs": [
    {
     "data": {
      "text/plain": [
       "array([[-2.82842712,  0.        ,  2.82842712],\n",
       "       [ 0.        ,  0.        ,  0.        ]])"
      ]
     },
     "execution_count": 8,
     "metadata": {},
     "output_type": "execute_result"
    }
   ],
   "source": [
    "p"
   ]
  },
  {
   "cell_type": "code",
   "execution_count": 9,
   "id": "302b3c0b",
   "metadata": {},
   "outputs": [
    {
     "data": {
      "text/plain": [
       "array([[-2.82842712,  0.        ],\n",
       "       [ 0.        ,  0.        ],\n",
       "       [ 2.82842712,  0.        ]])"
      ]
     },
     "execution_count": 9,
     "metadata": {},
     "output_type": "execute_result"
    }
   ],
   "source": [
    "p.T"
   ]
  },
  {
   "cell_type": "code",
   "execution_count": 10,
   "id": "ec513389",
   "metadata": {},
   "outputs": [],
   "source": [
    "from sklearn.decomposition import PCA"
   ]
  },
  {
   "cell_type": "code",
   "execution_count": 11,
   "id": "80622de3",
   "metadata": {},
   "outputs": [
    {
     "data": {
      "text/plain": [
       "array([[ 0.70710678,  0.70710678],\n",
       "       [-0.70710678,  0.70710678]])"
      ]
     },
     "execution_count": 11,
     "metadata": {},
     "output_type": "execute_result"
    }
   ],
   "source": [
    "pca = PCA()\n",
    "pca.fit(scaled_data)\n",
    "# Vectors\n",
    "pca.components_"
   ]
  },
  {
   "cell_type": "code",
   "execution_count": 15,
   "id": "2f59ae03",
   "metadata": {},
   "outputs": [
    {
     "name": "stdout",
     "output_type": "stream",
     "text": [
      "[8. 0.]\n",
      "[1. 0.]\n"
     ]
    }
   ],
   "source": [
    "# values\n",
    "print(pca.explained_variance_)\n",
    "print(pca.explained_variance_ratio_) ##(8.+0. = 8.0) result = [8.//8.0,0.//8.]-->[1.,0.]-->ratio"
   ]
  },
  {
   "cell_type": "code",
   "execution_count": null,
   "id": "c84f0cb1",
   "metadata": {},
   "outputs": [],
   "source": [
    "# transform\n",
    "# o/p is like subtraction of mean from data\n",
    "\n",
    "pca.transform(data)"
   ]
  },
  {
   "cell_type": "code",
   "execution_count": null,
   "id": "09e97f68",
   "metadata": {},
   "outputs": [],
   "source": [
    "# PCA on Iris dataset\n",
    "import pandas as pd\n",
    "df  = pd.read_csv(\"D:\\Python\\ML\\Datasets\\Iris.csv\")"
   ]
  },
  {
   "cell_type": "code",
   "execution_count": null,
   "id": "c7ebbf4e",
   "metadata": {},
   "outputs": [],
   "source": [
    "\n",
    "df.head()"
   ]
  },
  {
   "cell_type": "code",
   "execution_count": null,
   "id": "e3a329f6",
   "metadata": {},
   "outputs": [],
   "source": [
    "from sklearn.preprocessing import LabelEncoder\n",
    "le = LabelEncoder()\n",
    "\n",
    "df['Species'] =le.fit_transform(df['Species'])  "
   ]
  },
  {
   "cell_type": "code",
   "execution_count": null,
   "id": "64494b32",
   "metadata": {},
   "outputs": [],
   "source": [
    "df"
   ]
  },
  {
   "cell_type": "code",
   "execution_count": null,
   "id": "adbe30fd",
   "metadata": {},
   "outputs": [],
   "source": [
    "from sklearn.model_selection import train_test_split\n",
    "x = df.drop(columns = ['Species'])\n",
    "y = df['Species']\n",
    "xtrain,xtest,ytrain,ytest = train_test_split(x,y,test_size=0.2)"
   ]
  },
  {
   "cell_type": "code",
   "execution_count": null,
   "id": "296ab927",
   "metadata": {},
   "outputs": [],
   "source": [
    "from sklearn.preprocessing import StandardScaler\n",
    "sc = StandardScaler()\n",
    "xtrain = sc.fit_transform(xtrain)\n",
    "xtest = sc.fit_transform(xtest)"
   ]
  },
  {
   "cell_type": "code",
   "execution_count": null,
   "id": "9bd50528",
   "metadata": {},
   "outputs": [],
   "source": [
    "from sklearn.decomposition import PCA\n",
    "pca = PCA(n_components=2)\n",
    "xtrain = pca.fit_transform(xtrain)\n",
    "xtest = pca.fit_transform(xtest)"
   ]
  },
  {
   "cell_type": "code",
   "execution_count": null,
   "id": "6cd29625",
   "metadata": {},
   "outputs": [],
   "source": [
    "from sklearn.linear_model import LogisticRegression"
   ]
  },
  {
   "cell_type": "code",
   "execution_count": null,
   "id": "4b29a692",
   "metadata": {},
   "outputs": [],
   "source": [
    "model  = LogisticRegression()\n",
    "model.fit(xtrain,ytrain)\n",
    "ypred = model.predict(xtest)\n",
    "from sklearn.metrics import accuracy_score,classification_report\n",
    "print('ACCURACY: ',accuracy_score(ytest,ypred))\n"
   ]
  },
  {
   "cell_type": "code",
   "execution_count": null,
   "id": "38042f1d",
   "metadata": {},
   "outputs": [],
   "source": []
  },
  {
   "cell_type": "code",
   "execution_count": null,
   "id": "7a3df851",
   "metadata": {},
   "outputs": [],
   "source": [
    "import matplotlib.pyplot as plt"
   ]
  },
  {
   "cell_type": "code",
   "execution_count": null,
   "id": "14a586c6",
   "metadata": {},
   "outputs": [],
   "source": [
    "plt.plot(pca.explained_variance_ratio_,marker = 'o')\n",
    "pca.components_\n"
   ]
  },
  {
   "cell_type": "code",
   "execution_count": null,
   "id": "806fb992",
   "metadata": {},
   "outputs": [],
   "source": []
  }
 ],
 "metadata": {
  "kernelspec": {
   "display_name": "Python 3",
   "language": "python",
   "name": "python3"
  },
  "language_info": {
   "codemirror_mode": {
    "name": "ipython",
    "version": 3
   },
   "file_extension": ".py",
   "mimetype": "text/x-python",
   "name": "python",
   "nbconvert_exporter": "python",
   "pygments_lexer": "ipython3",
   "version": "3.9.2"
  }
 },
 "nbformat": 4,
 "nbformat_minor": 5
}
