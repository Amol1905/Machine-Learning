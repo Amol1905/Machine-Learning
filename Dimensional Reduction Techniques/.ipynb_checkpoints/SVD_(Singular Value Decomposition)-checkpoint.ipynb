{
 "cells": [
  {
   "cell_type": "markdown",
   "id": "0d576fd7",
   "metadata": {},
   "source": [
    "# SVD (Singular Value Decomposition)\n",
    "\n",
    "- **Uses:**\n",
    "    1. Image Comprehension.\n",
    "    2. Use for Linear Decomposion"
   ]
  },
  {
   "cell_type": "code",
   "execution_count": 25,
   "id": "ef822143",
   "metadata": {},
   "outputs": [],
   "source": [
    "import pandas as pd\n",
    "import numpy as np\n",
    "import matplotlib.pyplot as plt\n"
   ]
  },
  {
   "cell_type": "code",
   "execution_count": 26,
   "id": "ba2741e8",
   "metadata": {},
   "outputs": [],
   "source": [
    "# df = pd.read_csv(\"D:\\Python\\ML\\Datasets\\DailyTemps.csv\",parse_dates = ['DATE'],index_col='DATE')"
   ]
  },
  {
   "cell_type": "code",
   "execution_count": 27,
   "id": "a68830f0",
   "metadata": {},
   "outputs": [
    {
     "data": {
      "text/plain": [
       "array([[-1,  2,  0],\n",
       "       [ 2,  0,  1],\n",
       "       [ 0, -2,  1]])"
      ]
     },
     "execution_count": 27,
     "metadata": {},
     "output_type": "execute_result"
    }
   ],
   "source": [
    "A = np.array([[-1,2,0],[2,0,1],[0,-2,1]])\n",
    "A"
   ]
  },
  {
   "cell_type": "code",
   "execution_count": 29,
   "id": "468ca780",
   "metadata": {},
   "outputs": [],
   "source": [
    "# U,S,VT\n",
    "from numpy.linalg import svd\n",
    "\n",
    "U,S,VT = svd(A)"
   ]
  },
  {
   "cell_type": "code",
   "execution_count": 32,
   "id": "543737e6",
   "metadata": {},
   "outputs": [
    {
     "name": "stdout",
     "output_type": "stream",
     "text": [
      "[[-0.67028426 -0.14157742  0.72847433]\n",
      " [ 0.39926415 -0.89625169  0.19318659]\n",
      " [ 0.62554549  0.42034361  0.65727018]]\n",
      "Sigma [3.15029268 2.05306258 0.92767992]\n",
      "[[ 0.46624638 -0.8226726   0.32530617]\n",
      " [-0.80412841 -0.54739786 -0.23180398]\n",
      " [-0.36877068  0.15351016  0.91675668]]\n"
     ]
    }
   ],
   "source": [
    "print(U)\n",
    "print('Sigma',S)\n",
    "print(VT)"
   ]
  },
  {
   "cell_type": "code",
   "execution_count": 34,
   "id": "57e67561",
   "metadata": {},
   "outputs": [
    {
     "data": {
      "text/plain": [
       "array([[0., 0., 0.],\n",
       "       [0., 0., 0.],\n",
       "       [0., 0., 0.]])"
      ]
     },
     "execution_count": 34,
     "metadata": {},
     "output_type": "execute_result"
    }
   ],
   "source": [
    "\n",
    "sigma = np.zeros(A.shape)\n",
    "sigma"
   ]
  },
  {
   "cell_type": "code",
   "execution_count": null,
   "id": "51370058",
   "metadata": {},
   "outputs": [],
   "source": [
    "sigma.diagonal = "
   ]
  }
 ],
 "metadata": {
  "kernelspec": {
   "display_name": "Python 3",
   "language": "python",
   "name": "python3"
  },
  "language_info": {
   "codemirror_mode": {
    "name": "ipython",
    "version": 3
   },
   "file_extension": ".py",
   "mimetype": "text/x-python",
   "name": "python",
   "nbconvert_exporter": "python",
   "pygments_lexer": "ipython3",
   "version": "3.9.2"
  }
 },
 "nbformat": 4,
 "nbformat_minor": 5
}
