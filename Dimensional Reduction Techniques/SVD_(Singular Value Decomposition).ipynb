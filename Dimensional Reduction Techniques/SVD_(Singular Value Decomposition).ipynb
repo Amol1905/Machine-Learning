{
 "cells": [
  {
   "cell_type": "markdown",
   "id": "b1c0d929",
   "metadata": {},
   "source": [
    "# SVD (Singular Value Decomposition)\n",
    "\n",
    "- **Uses:**\n",
    "    1. Image Comprehension.\n",
    "    2. Use for Linear Decomposion\n",
    "    \n",
    "- **Formulae:**\n",
    "    - **A = UxSxVT**\n",
    "    1. U = A.AT\n",
    "    2. S(Sigma) = Root(eigen Value)\n",
    "    3. VT = (AT.A)T"
   ]
  },
  {
   "cell_type": "code",
   "execution_count": 1,
   "id": "588ead92",
   "metadata": {},
   "outputs": [],
   "source": [
    "import pandas as pd\n",
    "import numpy as np\n",
    "import matplotlib.pyplot as plt\n"
   ]
  },
  {
   "cell_type": "markdown",
   "id": "afb8167b",
   "metadata": {},
   "source": [
    "# SVD Using Numpy"
   ]
  },
  {
   "cell_type": "code",
   "execution_count": 2,
   "id": "1ed68a74",
   "metadata": {},
   "outputs": [
    {
     "data": {
      "text/plain": [
       "array([[-1,  2,  0],\n",
       "       [ 2,  0,  1],\n",
       "       [ 0, -2,  1]])"
      ]
     },
     "execution_count": 2,
     "metadata": {},
     "output_type": "execute_result"
    }
   ],
   "source": [
    "A = np.array([[-1,2,0],[2,0,1],[0,-2,1]])\n",
    "A"
   ]
  },
  {
   "cell_type": "code",
   "execution_count": 3,
   "id": "830c189f",
   "metadata": {},
   "outputs": [],
   "source": [
    "# U,S,VT\n",
    "from numpy.linalg import svd\n",
    "\n",
    "U,S,VT = svd(A)"
   ]
  },
  {
   "cell_type": "code",
   "execution_count": 4,
   "id": "e62ec01e",
   "metadata": {},
   "outputs": [
    {
     "name": "stdout",
     "output_type": "stream",
     "text": [
      "[[-0.67028426 -0.14157742  0.72847433]\n",
      " [ 0.39926415 -0.89625169  0.19318659]\n",
      " [ 0.62554549  0.42034361  0.65727018]]\n",
      "Sigma [3.15029268 2.05306258 0.92767992]\n",
      "[[ 0.46624638 -0.8226726   0.32530617]\n",
      " [-0.80412841 -0.54739786 -0.23180398]\n",
      " [-0.36877068  0.15351016  0.91675668]]\n"
     ]
    }
   ],
   "source": [
    "print(U)\n",
    "print('Sigma',S)\n",
    "print(VT)"
   ]
  },
  {
   "cell_type": "code",
   "execution_count": null,
   "id": "5fe82695",
   "metadata": {},
   "outputs": [],
   "source": []
  },
  {
   "cell_type": "code",
   "execution_count": 5,
   "id": "6de116c8",
   "metadata": {},
   "outputs": [
    {
     "data": {
      "text/plain": [
       "array([[3.15029268, 0.        , 0.        ],\n",
       "       [0.        , 2.05306258, 0.        ],\n",
       "       [0.        , 0.        , 0.92767992]])"
      ]
     },
     "execution_count": 5,
     "metadata": {},
     "output_type": "execute_result"
    }
   ],
   "source": [
    "sigma = np.diag(S)\n",
    "sigma"
   ]
  },
  {
   "cell_type": "code",
   "execution_count": 6,
   "id": "4e20fc60",
   "metadata": {},
   "outputs": [
    {
     "data": {
      "text/plain": [
       "array([[-2.11159159, -0.2906673 ,  0.67579101],\n",
       "       [ 1.25779892, -1.8400608 ,  0.17921532],\n",
       "       [ 1.97065138,  0.86299174,  0.60973635]])"
      ]
     },
     "execution_count": 6,
     "metadata": {},
     "output_type": "execute_result"
    }
   ],
   "source": [
    "\n",
    "t = U.dot(sigma)\n",
    "t = A.dot(VT.T)\n",
    "t"
   ]
  },
  {
   "cell_type": "code",
   "execution_count": null,
   "id": "756ab18b",
   "metadata": {},
   "outputs": [],
   "source": []
  },
  {
   "cell_type": "markdown",
   "id": "01cdc1f2",
   "metadata": {},
   "source": [
    "# SVD Using Scikit-learn"
   ]
  },
  {
   "cell_type": "markdown",
   "id": "b530ae40",
   "metadata": {},
   "source": [
    "# Truncated SVD"
   ]
  },
  {
   "cell_type": "code",
   "execution_count": 7,
   "id": "b0701fac",
   "metadata": {},
   "outputs": [
    {
     "data": {
      "text/plain": [
       "array([[ 2.11159159,  0.2906673 ],\n",
       "       [-1.25779892,  1.8400608 ],\n",
       "       [-1.97065138, -0.86299174]])"
      ]
     },
     "execution_count": 7,
     "metadata": {},
     "output_type": "execute_result"
    }
   ],
   "source": [
    "from sklearn.decomposition import TruncatedSVD\n",
    "svd = TruncatedSVD()\n",
    "svd.fit(A)\n",
    "T = svd.transform(A)\n",
    "T"
   ]
  },
  {
   "cell_type": "markdown",
   "id": "27e10209",
   "metadata": {},
   "source": [
    "# Randomized SVD"
   ]
  },
  {
   "cell_type": "code",
   "execution_count": 8,
   "id": "d06aa2ce",
   "metadata": {},
   "outputs": [],
   "source": [
    "from sklearn.utils.extmath import randomized_svd\n",
    "\n",
    "u,s,vt = randomized_svd(A,n_components=2)"
   ]
  },
  {
   "cell_type": "code",
   "execution_count": 9,
   "id": "626bcd4a",
   "metadata": {},
   "outputs": [
    {
     "name": "stdout",
     "output_type": "stream",
     "text": [
      "[[ 0.67028426  0.14157742]\n",
      " [-0.39926415  0.89625169]\n",
      " [-0.62554549 -0.42034361]]\n",
      "[[3.15029268 0.        ]\n",
      " [0.         2.05306258]]\n",
      "[[-0.46624638  0.8226726  -0.32530617]\n",
      " [ 0.80412841  0.54739786  0.23180398]]\n"
     ]
    }
   ],
   "source": [
    "print(u)\n",
    "print(np.diag(s))\n",
    "print(vt)"
   ]
  },
  {
   "cell_type": "code",
   "execution_count": 10,
   "id": "2a7e76b4",
   "metadata": {},
   "outputs": [
    {
     "data": {
      "text/plain": [
       "array([[ 2.11159159,  0.2906673 ],\n",
       "       [-1.25779892,  1.8400608 ],\n",
       "       [-1.97065138, -0.86299174]])"
      ]
     },
     "execution_count": 10,
     "metadata": {},
     "output_type": "execute_result"
    }
   ],
   "source": [
    "T  = u.dot(np.diag(s))\n",
    "T = A.dot(vt.T)\n",
    "T"
   ]
  },
  {
   "cell_type": "markdown",
   "id": "643b23dc",
   "metadata": {},
   "source": [
    "# SVD On Diabetes dataset"
   ]
  },
  {
   "cell_type": "code",
   "execution_count": 11,
   "id": "4e83eb42",
   "metadata": {},
   "outputs": [],
   "source": [
    "from sklearn.linear_model import LogisticRegression\n",
    "from sklearn.model_selection import train_test_split"
   ]
  },
  {
   "cell_type": "code",
   "execution_count": 12,
   "id": "28e424db",
   "metadata": {},
   "outputs": [],
   "source": [
    "df = pd.read_csv('..\\\\Datasets\\\\diabetes.csv')"
   ]
  },
  {
   "cell_type": "code",
   "execution_count": 13,
   "id": "a0154e4a",
   "metadata": {},
   "outputs": [
    {
     "data": {
      "text/html": [
       "<div>\n",
       "<style scoped>\n",
       "    .dataframe tbody tr th:only-of-type {\n",
       "        vertical-align: middle;\n",
       "    }\n",
       "\n",
       "    .dataframe tbody tr th {\n",
       "        vertical-align: top;\n",
       "    }\n",
       "\n",
       "    .dataframe thead th {\n",
       "        text-align: right;\n",
       "    }\n",
       "</style>\n",
       "<table border=\"1\" class=\"dataframe\">\n",
       "  <thead>\n",
       "    <tr style=\"text-align: right;\">\n",
       "      <th></th>\n",
       "      <th>Pregnancies</th>\n",
       "      <th>Glucose</th>\n",
       "      <th>BloodPressure</th>\n",
       "      <th>SkinThickness</th>\n",
       "      <th>Insulin</th>\n",
       "      <th>BMI</th>\n",
       "      <th>DiabetesPedigreeFunction</th>\n",
       "      <th>Age</th>\n",
       "      <th>Outcome</th>\n",
       "    </tr>\n",
       "  </thead>\n",
       "  <tbody>\n",
       "    <tr>\n",
       "      <th>0</th>\n",
       "      <td>6</td>\n",
       "      <td>148</td>\n",
       "      <td>72</td>\n",
       "      <td>35</td>\n",
       "      <td>0</td>\n",
       "      <td>33.6</td>\n",
       "      <td>0.627</td>\n",
       "      <td>50</td>\n",
       "      <td>1</td>\n",
       "    </tr>\n",
       "    <tr>\n",
       "      <th>1</th>\n",
       "      <td>1</td>\n",
       "      <td>85</td>\n",
       "      <td>66</td>\n",
       "      <td>29</td>\n",
       "      <td>0</td>\n",
       "      <td>26.6</td>\n",
       "      <td>0.351</td>\n",
       "      <td>31</td>\n",
       "      <td>0</td>\n",
       "    </tr>\n",
       "    <tr>\n",
       "      <th>2</th>\n",
       "      <td>8</td>\n",
       "      <td>183</td>\n",
       "      <td>64</td>\n",
       "      <td>0</td>\n",
       "      <td>0</td>\n",
       "      <td>23.3</td>\n",
       "      <td>0.672</td>\n",
       "      <td>32</td>\n",
       "      <td>1</td>\n",
       "    </tr>\n",
       "    <tr>\n",
       "      <th>3</th>\n",
       "      <td>1</td>\n",
       "      <td>89</td>\n",
       "      <td>66</td>\n",
       "      <td>23</td>\n",
       "      <td>94</td>\n",
       "      <td>28.1</td>\n",
       "      <td>0.167</td>\n",
       "      <td>21</td>\n",
       "      <td>0</td>\n",
       "    </tr>\n",
       "    <tr>\n",
       "      <th>4</th>\n",
       "      <td>0</td>\n",
       "      <td>137</td>\n",
       "      <td>40</td>\n",
       "      <td>35</td>\n",
       "      <td>168</td>\n",
       "      <td>43.1</td>\n",
       "      <td>2.288</td>\n",
       "      <td>33</td>\n",
       "      <td>1</td>\n",
       "    </tr>\n",
       "  </tbody>\n",
       "</table>\n",
       "</div>"
      ],
      "text/plain": [
       "   Pregnancies  Glucose  BloodPressure  SkinThickness  Insulin   BMI  \\\n",
       "0            6      148             72             35        0  33.6   \n",
       "1            1       85             66             29        0  26.6   \n",
       "2            8      183             64              0        0  23.3   \n",
       "3            1       89             66             23       94  28.1   \n",
       "4            0      137             40             35      168  43.1   \n",
       "\n",
       "   DiabetesPedigreeFunction  Age  Outcome  \n",
       "0                     0.627   50        1  \n",
       "1                     0.351   31        0  \n",
       "2                     0.672   32        1  \n",
       "3                     0.167   21        0  \n",
       "4                     2.288   33        1  "
      ]
     },
     "execution_count": 13,
     "metadata": {},
     "output_type": "execute_result"
    }
   ],
   "source": [
    "\n",
    "df.head()"
   ]
  },
  {
   "cell_type": "code",
   "execution_count": 14,
   "id": "bee6a2d5",
   "metadata": {},
   "outputs": [],
   "source": [
    "x = df.drop(columns = ['Outcome'])\n",
    "y = df['Outcome']"
   ]
  },
  {
   "cell_type": "code",
   "execution_count": 15,
   "id": "9ff54210",
   "metadata": {},
   "outputs": [],
   "source": [
    "xtrain,xtest,ytrain,ytest = train_test_split(x,y,test_size=0.2)"
   ]
  },
  {
   "cell_type": "code",
   "execution_count": 16,
   "id": "0a6b657e",
   "metadata": {},
   "outputs": [],
   "source": [
    "from sklearn.decomposition import TruncatedSVD\n",
    "svd = TruncatedSVD()\n",
    "xtrain = svd.fit_transform(xtrain)\n",
    "xtest = svd.fit_transform(xtest)\n"
   ]
  },
  {
   "cell_type": "code",
   "execution_count": 21,
   "id": "b094e12c",
   "metadata": {},
   "outputs": [
    {
     "name": "stdout",
     "output_type": "stream",
     "text": [
      "Train Score:  0.744299674267101\n",
      "Test Score:  0.7012987012987013\n"
     ]
    }
   ],
   "source": [
    "model = LogisticRegression()\n",
    "model.fit(xtrain,ytrain)\n",
    "ypred = model.predict(xtest)\n",
    "score_train = model.score(xtrain,ytrain)\n",
    "print(\"Train Score: \",score_train)\n",
    "score_test = model.score(xtest,ytest)\n",
    "print(\"Test Score: \",score_test)"
   ]
  },
  {
   "cell_type": "code",
   "execution_count": 22,
   "id": "9a2ec1ec",
   "metadata": {},
   "outputs": [
    {
     "name": "stdout",
     "output_type": "stream",
     "text": [
      "Accuracy:  0.7012987012987013\n"
     ]
    }
   ],
   "source": [
    "from sklearn.metrics import accuracy_score\n",
    "print('Accuracy: ',accuracy_score(ytest,ypred))"
   ]
  },
  {
   "cell_type": "code",
   "execution_count": 23,
   "id": "5163f47c",
   "metadata": {},
   "outputs": [],
   "source": [
    "from sklearn.pipeline import Pipeline"
   ]
  },
  {
   "cell_type": "code",
   "execution_count": 35,
   "id": "27adbf1c",
   "metadata": {},
   "outputs": [
    {
     "name": "stdout",
     "output_type": "stream",
     "text": [
      "with components 2, Accuracy is: 0.7207792207792207\n",
      "with components 3, Accuracy is: 0.7142857142857143\n",
      "with components 4, Accuracy is: 0.7207792207792207\n",
      "with components 5, Accuracy is: 0.7467532467532467\n",
      "with components 6, Accuracy is: 0.7597402597402597\n",
      "with components 7, Accuracy is: 0.7662337662337663\n"
     ]
    }
   ],
   "source": [
    "comps = list(range(2,8))\n",
    "# n_components : int, default=2\n",
    "# Desired dimensionality of output data.\n",
    "# Must be strictly less than the number of features.\n",
    "xtrain,xtest,ytrain,ytest = train_test_split(x,y,test_size=0.2)\n",
    "for i in comps:\n",
    "    model = Pipeline([('svd',TruncatedSVD(n_components=i)),('lr',LogisticRegression())])\n",
    "    model_fit = model.fit(xtrain,ytrain)\n",
    "    ypred = model_fit.predict(xtest)\n",
    "    print(f'with components {i}, Accuracy is: {accuracy_score(ytest,ypred)}')\n"
   ]
  },
  {
   "cell_type": "code",
   "execution_count": null,
   "id": "4d43d0ef",
   "metadata": {},
   "outputs": [],
   "source": []
  },
  {
   "cell_type": "code",
   "execution_count": null,
   "id": "c04db643",
   "metadata": {},
   "outputs": [],
   "source": []
  }
 ],
 "metadata": {
  "kernelspec": {
   "display_name": "Python 3",
   "language": "python",
   "name": "python3"
  },
  "language_info": {
   "codemirror_mode": {
    "name": "ipython",
    "version": 3
   },
   "file_extension": ".py",
   "mimetype": "text/x-python",
   "name": "python",
   "nbconvert_exporter": "python",
   "pygments_lexer": "ipython3",
   "version": "3.9.2"
  }
 },
 "nbformat": 4,
 "nbformat_minor": 5
}
