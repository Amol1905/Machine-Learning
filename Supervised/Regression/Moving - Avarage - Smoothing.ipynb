{
 "cells": [
  {
   "cell_type": "code",
   "execution_count": 3,
   "id": "e812f166",
   "metadata": {},
   "outputs": [],
   "source": [
    "# Moving Avg -> Timeseries\n",
    "# 1 Smoothing data\n",
    "# 2 Forcasting / Predition\n",
    "\n",
    "# Forcasting Algorithm Using:\n",
    "\n",
    "# ARIMA"
   ]
  },
  {
   "cell_type": "code",
   "execution_count": 5,
   "id": "e8d9cd2d",
   "metadata": {},
   "outputs": [],
   "source": [
    "# # Take subset of Dataset for calculate avg\n",
    "# Technique for  making subset\n",
    "# 1 Simple Moving Avg -> uses sliding window \n",
    "# 2 Cammulative Moving Avg ->\n",
    "# 3 Exponential weighted Moving Avg ->\n"
   ]
  },
  {
   "cell_type": "code",
   "execution_count": 6,
   "id": "bb2ad7b4",
   "metadata": {},
   "outputs": [],
   "source": [
    "import pandas as pd \n",
    "import numpy as np\n",
    "import matplotlib.pyplot as plt\n"
   ]
  },
  {
   "cell_type": "code",
   "execution_count": 12,
   "id": "a11ce706",
   "metadata": {},
   "outputs": [
    {
     "name": "stdout",
     "output_type": "stream",
     "text": [
      "                  datetime   Vancouver    Portland  San Francisco     Seattle  \\\n",
      "0      2012-10-01 12:00:00         NaN         NaN            NaN         NaN   \n",
      "1      2012-10-01 13:00:00  284.630000  282.080000     289.480000  281.800000   \n",
      "2      2012-10-01 14:00:00  284.629041  282.083252     289.474993  281.797217   \n",
      "3      2012-10-01 15:00:00  284.626998  282.091866     289.460618  281.789833   \n",
      "4      2012-10-01 16:00:00  284.624955  282.100481     289.446243  281.782449   \n",
      "...                    ...         ...         ...            ...         ...   \n",
      "45248  2017-11-29 20:00:00         NaN  282.000000            NaN  280.820000   \n",
      "45249  2017-11-29 21:00:00         NaN  282.890000            NaN  281.650000   \n",
      "45250  2017-11-29 22:00:00         NaN  283.390000            NaN  282.750000   \n",
      "45251  2017-11-29 23:00:00         NaN  283.020000            NaN  282.960000   \n",
      "45252  2017-11-30 00:00:00         NaN  282.280000            NaN  283.040000   \n",
      "\n",
      "       Los Angeles   San Diego   Las Vegas     Phoenix  Albuquerque  ...  \\\n",
      "0              NaN         NaN         NaN         NaN          NaN  ...   \n",
      "1       291.870000  291.530000  293.410000  296.600000   285.120000  ...   \n",
      "2       291.868186  291.533501  293.403141  296.608509   285.154558  ...   \n",
      "3       291.862844  291.543355  293.392177  296.631487   285.233952  ...   \n",
      "4       291.857503  291.553209  293.381213  296.654466   285.313345  ...   \n",
      "...            ...         ...         ...         ...          ...  ...   \n",
      "45248   293.550000  292.150000  289.540000  294.710000   285.720000  ...   \n",
      "45249   295.680000  292.740000  290.610000  295.590000   286.450000  ...   \n",
      "45250   295.960000  292.580000  291.340000  296.250000   286.440000  ...   \n",
      "45251   295.650000  292.610000  292.150000  297.150000   286.140000  ...   \n",
      "45252   294.930000  291.400000  291.640000  297.150000   284.700000  ...   \n",
      "\n",
      "       Philadelphia    New York    Montreal      Boston   Beersheba  \\\n",
      "0               NaN         NaN         NaN         NaN         NaN   \n",
      "1        285.630000  288.220000  285.830000  287.170000  307.590000   \n",
      "2        285.663208  288.247676  285.834650  287.186092  307.590000   \n",
      "3        285.756824  288.326940  285.847790  287.231672  307.391513   \n",
      "4        285.850440  288.406203  285.860929  287.277251  307.145200   \n",
      "...             ...         ...         ...         ...         ...   \n",
      "45248    290.240000         NaN  275.130000  288.080000         NaN   \n",
      "45249    289.240000         NaN  274.130000  286.020000         NaN   \n",
      "45250    286.780000         NaN  273.480000  283.940000         NaN   \n",
      "45251    284.570000         NaN  272.480000  282.170000         NaN   \n",
      "45252    283.420000         NaN  271.800000  280.650000         NaN   \n",
      "\n",
      "       Tel Aviv District       Eilat  Haifa  Nahariyya  Jerusalem  \n",
      "0                    NaN  309.100000    NaN        NaN        NaN  \n",
      "1             305.470000  310.580000  304.4      304.4      303.5  \n",
      "2             304.310000  310.495769  304.4      304.4      303.5  \n",
      "3             304.281841  310.411538  304.4      304.4      303.5  \n",
      "4             304.238015  310.327308  304.4      304.4      303.5  \n",
      "...                  ...         ...    ...        ...        ...  \n",
      "45248                NaN         NaN    NaN        NaN        NaN  \n",
      "45249                NaN         NaN    NaN        NaN        NaN  \n",
      "45250                NaN         NaN    NaN        NaN        NaN  \n",
      "45251                NaN         NaN    NaN        NaN        NaN  \n",
      "45252                NaN         NaN    NaN        NaN        NaN  \n",
      "\n",
      "[45253 rows x 37 columns]\n"
     ]
    }
   ],
   "source": [
    "df = pd.read_csv(\"D:\\\\Python\\\\ClassRoom\\\\Perform EDA on Temperature data\\\\temperature.csv\")\n",
    "print(df)"
   ]
  },
  {
   "cell_type": "code",
   "execution_count": 15,
   "id": "ba7c9c33",
   "metadata": {},
   "outputs": [],
   "source": [
    "df = df[['datetime','Boston']]\n",
    "df['datetime'] = pd.to_datetime(df['datetime'])"
   ]
  },
  {
   "cell_type": "code",
   "execution_count": 20,
   "id": "135e1c0a",
   "metadata": {},
   "outputs": [
    {
     "data": {
      "text/plain": [
       "datetime    0\n",
       "Boston      0\n",
       "dtype: int64"
      ]
     },
     "execution_count": 20,
     "metadata": {},
     "output_type": "execute_result"
    }
   ],
   "source": [
    "# df.info()\n",
    "df.isna().sum()\n",
    "df = df.dropna()\n",
    "df.isna().sum()\n"
   ]
  },
  {
   "cell_type": "code",
   "execution_count": 54,
   "id": "a0a5d17a",
   "metadata": {},
   "outputs": [],
   "source": [
    "#SMA -> rolling(window = 3)  \n",
    "df['SMA3'] = df['Boston'].rolling(window = 3).mean()\n",
    "df['SMA4'] = df['Boston'].rolling(window = 4).mean()\n",
    "df['SMA10'] = df['Boston'].rolling(window = 10).mean()\n",
    "\n",
    "\n"
   ]
  },
  {
   "cell_type": "code",
   "execution_count": 26,
   "id": "4d5d540c",
   "metadata": {},
   "outputs": [
    {
     "data": {
      "text/plain": [
       "1               NaN\n",
       "2               NaN\n",
       "3        287.195921\n",
       "4        287.231672\n",
       "5        287.277251\n",
       "            ...    \n",
       "45248    288.630000\n",
       "45249    287.753333\n",
       "45250    286.013333\n",
       "45251    284.043333\n",
       "45252    282.253333\n",
       "Name: SMA3, Length: 45250, dtype: float64"
      ]
     },
     "execution_count": 26,
     "metadata": {},
     "output_type": "execute_result"
    }
   ],
   "source": [
    "df['SMA3']"
   ]
  },
  {
   "cell_type": "code",
   "execution_count": 34,
   "id": "6efd6132",
   "metadata": {},
   "outputs": [
    {
     "data": {
      "text/html": [
       "<div>\n",
       "<style scoped>\n",
       "    .dataframe tbody tr th:only-of-type {\n",
       "        vertical-align: middle;\n",
       "    }\n",
       "\n",
       "    .dataframe tbody tr th {\n",
       "        vertical-align: top;\n",
       "    }\n",
       "\n",
       "    .dataframe thead th {\n",
       "        text-align: right;\n",
       "    }\n",
       "</style>\n",
       "<table border=\"1\" class=\"dataframe\">\n",
       "  <thead>\n",
       "    <tr style=\"text-align: right;\">\n",
       "      <th></th>\n",
       "      <th>datetime</th>\n",
       "      <th>Boston</th>\n",
       "      <th>SMA3</th>\n",
       "      <th>SMA4</th>\n",
       "    </tr>\n",
       "  </thead>\n",
       "  <tbody>\n",
       "    <tr>\n",
       "      <th>1</th>\n",
       "      <td>2012-10-01 13:00:00</td>\n",
       "      <td>287.170000</td>\n",
       "      <td>NaN</td>\n",
       "      <td>NaN</td>\n",
       "    </tr>\n",
       "    <tr>\n",
       "      <th>2</th>\n",
       "      <td>2012-10-01 14:00:00</td>\n",
       "      <td>287.186092</td>\n",
       "      <td>NaN</td>\n",
       "      <td>NaN</td>\n",
       "    </tr>\n",
       "    <tr>\n",
       "      <th>3</th>\n",
       "      <td>2012-10-01 15:00:00</td>\n",
       "      <td>287.231672</td>\n",
       "      <td>287.195921</td>\n",
       "      <td>NaN</td>\n",
       "    </tr>\n",
       "    <tr>\n",
       "      <th>4</th>\n",
       "      <td>2012-10-01 16:00:00</td>\n",
       "      <td>287.277251</td>\n",
       "      <td>287.231672</td>\n",
       "      <td>287.216254</td>\n",
       "    </tr>\n",
       "    <tr>\n",
       "      <th>5</th>\n",
       "      <td>2012-10-01 17:00:00</td>\n",
       "      <td>287.322831</td>\n",
       "      <td>287.277251</td>\n",
       "      <td>287.254461</td>\n",
       "    </tr>\n",
       "    <tr>\n",
       "      <th>...</th>\n",
       "      <td>...</td>\n",
       "      <td>...</td>\n",
       "      <td>...</td>\n",
       "      <td>...</td>\n",
       "    </tr>\n",
       "    <tr>\n",
       "      <th>45248</th>\n",
       "      <td>2017-11-29 20:00:00</td>\n",
       "      <td>288.080000</td>\n",
       "      <td>288.630000</td>\n",
       "      <td>288.200000</td>\n",
       "    </tr>\n",
       "    <tr>\n",
       "      <th>45249</th>\n",
       "      <td>2017-11-29 21:00:00</td>\n",
       "      <td>286.020000</td>\n",
       "      <td>287.753333</td>\n",
       "      <td>287.977500</td>\n",
       "    </tr>\n",
       "    <tr>\n",
       "      <th>45250</th>\n",
       "      <td>2017-11-29 22:00:00</td>\n",
       "      <td>283.940000</td>\n",
       "      <td>286.013333</td>\n",
       "      <td>286.800000</td>\n",
       "    </tr>\n",
       "    <tr>\n",
       "      <th>45251</th>\n",
       "      <td>2017-11-29 23:00:00</td>\n",
       "      <td>282.170000</td>\n",
       "      <td>284.043333</td>\n",
       "      <td>285.052500</td>\n",
       "    </tr>\n",
       "    <tr>\n",
       "      <th>45252</th>\n",
       "      <td>2017-11-30 00:00:00</td>\n",
       "      <td>280.650000</td>\n",
       "      <td>282.253333</td>\n",
       "      <td>283.195000</td>\n",
       "    </tr>\n",
       "  </tbody>\n",
       "</table>\n",
       "<p>45250 rows × 4 columns</p>\n",
       "</div>"
      ],
      "text/plain": [
       "                 datetime      Boston        SMA3        SMA4\n",
       "1     2012-10-01 13:00:00  287.170000         NaN         NaN\n",
       "2     2012-10-01 14:00:00  287.186092         NaN         NaN\n",
       "3     2012-10-01 15:00:00  287.231672  287.195921         NaN\n",
       "4     2012-10-01 16:00:00  287.277251  287.231672  287.216254\n",
       "5     2012-10-01 17:00:00  287.322831  287.277251  287.254461\n",
       "...                   ...         ...         ...         ...\n",
       "45248 2017-11-29 20:00:00  288.080000  288.630000  288.200000\n",
       "45249 2017-11-29 21:00:00  286.020000  287.753333  287.977500\n",
       "45250 2017-11-29 22:00:00  283.940000  286.013333  286.800000\n",
       "45251 2017-11-29 23:00:00  282.170000  284.043333  285.052500\n",
       "45252 2017-11-30 00:00:00  280.650000  282.253333  283.195000\n",
       "\n",
       "[45250 rows x 4 columns]"
      ]
     },
     "execution_count": 34,
     "metadata": {},
     "output_type": "execute_result"
    }
   ],
   "source": [
    "df\n"
   ]
  },
  {
   "cell_type": "code",
   "execution_count": 42,
   "id": "a825368e",
   "metadata": {},
   "outputs": [
    {
     "data": {
      "text/plain": [
       "1               NaN\n",
       "2               NaN\n",
       "3               NaN\n",
       "4        287.216254\n",
       "5        287.254461\n",
       "            ...    \n",
       "45248    288.200000\n",
       "45249    287.977500\n",
       "45250    286.800000\n",
       "45251    285.052500\n",
       "45252    283.195000\n",
       "Name: SMA4, Length: 45250, dtype: float64"
      ]
     },
     "execution_count": 42,
     "metadata": {},
     "output_type": "execute_result"
    }
   ],
   "source": [
    "# (287.231+287.186+287.277)/3\n",
    "# (287.231+287.186+287.170000)/3\n",
    "\n",
    "df['SMA4']"
   ]
  },
  {
   "cell_type": "code",
   "execution_count": 55,
   "id": "fe5d8867",
   "metadata": {},
   "outputs": [],
   "source": [
    "df_p = df.head(100) "
   ]
  },
  {
   "cell_type": "code",
   "execution_count": 56,
   "id": "a5841ad8",
   "metadata": {},
   "outputs": [
    {
     "data": {
      "text/html": [
       "<div>\n",
       "<style scoped>\n",
       "    .dataframe tbody tr th:only-of-type {\n",
       "        vertical-align: middle;\n",
       "    }\n",
       "\n",
       "    .dataframe tbody tr th {\n",
       "        vertical-align: top;\n",
       "    }\n",
       "\n",
       "    .dataframe thead th {\n",
       "        text-align: right;\n",
       "    }\n",
       "</style>\n",
       "<table border=\"1\" class=\"dataframe\">\n",
       "  <thead>\n",
       "    <tr style=\"text-align: right;\">\n",
       "      <th></th>\n",
       "      <th>datetime</th>\n",
       "      <th>Boston</th>\n",
       "      <th>SMA3</th>\n",
       "      <th>SMA4</th>\n",
       "      <th>SMA10</th>\n",
       "    </tr>\n",
       "  </thead>\n",
       "  <tbody>\n",
       "    <tr>\n",
       "      <th>1</th>\n",
       "      <td>2012-10-01 13:00:00</td>\n",
       "      <td>287.170000</td>\n",
       "      <td>NaN</td>\n",
       "      <td>NaN</td>\n",
       "      <td>NaN</td>\n",
       "    </tr>\n",
       "    <tr>\n",
       "      <th>2</th>\n",
       "      <td>2012-10-01 14:00:00</td>\n",
       "      <td>287.186092</td>\n",
       "      <td>NaN</td>\n",
       "      <td>NaN</td>\n",
       "      <td>NaN</td>\n",
       "    </tr>\n",
       "    <tr>\n",
       "      <th>3</th>\n",
       "      <td>2012-10-01 15:00:00</td>\n",
       "      <td>287.231672</td>\n",
       "      <td>287.195921</td>\n",
       "      <td>NaN</td>\n",
       "      <td>NaN</td>\n",
       "    </tr>\n",
       "    <tr>\n",
       "      <th>4</th>\n",
       "      <td>2012-10-01 16:00:00</td>\n",
       "      <td>287.277251</td>\n",
       "      <td>287.231672</td>\n",
       "      <td>287.216254</td>\n",
       "      <td>NaN</td>\n",
       "    </tr>\n",
       "    <tr>\n",
       "      <th>5</th>\n",
       "      <td>2012-10-01 17:00:00</td>\n",
       "      <td>287.322831</td>\n",
       "      <td>287.277251</td>\n",
       "      <td>287.254461</td>\n",
       "      <td>NaN</td>\n",
       "    </tr>\n",
       "    <tr>\n",
       "      <th>...</th>\n",
       "      <td>...</td>\n",
       "      <td>...</td>\n",
       "      <td>...</td>\n",
       "      <td>...</td>\n",
       "      <td>...</td>\n",
       "    </tr>\n",
       "    <tr>\n",
       "      <th>96</th>\n",
       "      <td>2012-10-05 12:00:00</td>\n",
       "      <td>288.670000</td>\n",
       "      <td>288.680000</td>\n",
       "      <td>288.743750</td>\n",
       "      <td>289.0285</td>\n",
       "    </tr>\n",
       "    <tr>\n",
       "      <th>97</th>\n",
       "      <td>2012-10-05 13:00:00</td>\n",
       "      <td>289.100000</td>\n",
       "      <td>288.776667</td>\n",
       "      <td>288.785000</td>\n",
       "      <td>288.9945</td>\n",
       "    </tr>\n",
       "    <tr>\n",
       "      <th>98</th>\n",
       "      <td>2012-10-05 14:00:00</td>\n",
       "      <td>289.440000</td>\n",
       "      <td>289.070000</td>\n",
       "      <td>288.942500</td>\n",
       "      <td>288.9975</td>\n",
       "    </tr>\n",
       "    <tr>\n",
       "      <th>99</th>\n",
       "      <td>2012-10-05 15:00:00</td>\n",
       "      <td>289.750000</td>\n",
       "      <td>289.430000</td>\n",
       "      <td>289.240000</td>\n",
       "      <td>289.0535</td>\n",
       "    </tr>\n",
       "    <tr>\n",
       "      <th>100</th>\n",
       "      <td>2012-10-05 16:00:00</td>\n",
       "      <td>290.150000</td>\n",
       "      <td>289.780000</td>\n",
       "      <td>289.610000</td>\n",
       "      <td>289.1565</td>\n",
       "    </tr>\n",
       "  </tbody>\n",
       "</table>\n",
       "<p>100 rows × 5 columns</p>\n",
       "</div>"
      ],
      "text/plain": [
       "               datetime      Boston        SMA3        SMA4     SMA10\n",
       "1   2012-10-01 13:00:00  287.170000         NaN         NaN       NaN\n",
       "2   2012-10-01 14:00:00  287.186092         NaN         NaN       NaN\n",
       "3   2012-10-01 15:00:00  287.231672  287.195921         NaN       NaN\n",
       "4   2012-10-01 16:00:00  287.277251  287.231672  287.216254       NaN\n",
       "5   2012-10-01 17:00:00  287.322831  287.277251  287.254461       NaN\n",
       "..                  ...         ...         ...         ...       ...\n",
       "96  2012-10-05 12:00:00  288.670000  288.680000  288.743750  289.0285\n",
       "97  2012-10-05 13:00:00  289.100000  288.776667  288.785000  288.9945\n",
       "98  2012-10-05 14:00:00  289.440000  289.070000  288.942500  288.9975\n",
       "99  2012-10-05 15:00:00  289.750000  289.430000  289.240000  289.0535\n",
       "100 2012-10-05 16:00:00  290.150000  289.780000  289.610000  289.1565\n",
       "\n",
       "[100 rows x 5 columns]"
      ]
     },
     "execution_count": 56,
     "metadata": {},
     "output_type": "execute_result"
    }
   ],
   "source": [
    "df_p"
   ]
  },
  {
   "cell_type": "code",
   "execution_count": 57,
   "id": "965e04a9",
   "metadata": {},
   "outputs": [
    {
     "data": {
      "text/plain": [
       "<matplotlib.legend.Legend at 0x22f6768cc40>"
      ]
     },
     "execution_count": 57,
     "metadata": {},
     "output_type": "execute_result"
    },
    {
     "data": {
      "image/png": "[encoded data removed]",
      "text/plain": [
       "<Figure size 432x288 with 1 Axes>"
      ]
     },
     "metadata": {
      "needs_background": "light"
     },
     "output_type": "display_data"
    }
   ],
   "source": [
    "plt.plot(df_p['Boston'],label = 'Original')\n",
    "plt.plot(df_p['SMA3'],label = 'SMA3')\n",
    "plt.plot(df_p['SMA4'],label = 'SMA4')\n",
    "plt.plot(df_p['SMA10'],label = 'SMA10')\n",
    "\n",
    "plt.legend()"
   ]
  },
  {
   "cell_type": "code",
   "execution_count": 65,
   "id": "8adf0fd2",
   "metadata": {},
   "outputs": [],
   "source": [
    "# df\n",
    "df_c = df[['datetime','Boston']]\n",
    "# df_c"
   ]
  },
  {
   "cell_type": "code",
   "execution_count": 66,
   "id": "a3bcdc94",
   "metadata": {},
   "outputs": [
    {
     "data": {
      "text/html": [
       "<div>\n",
       "<style scoped>\n",
       "    .dataframe tbody tr th:only-of-type {\n",
       "        vertical-align: middle;\n",
       "    }\n",
       "\n",
       "    .dataframe tbody tr th {\n",
       "        vertical-align: top;\n",
       "    }\n",
       "\n",
       "    .dataframe thead th {\n",
       "        text-align: right;\n",
       "    }\n",
       "</style>\n",
       "<table border=\"1\" class=\"dataframe\">\n",
       "  <thead>\n",
       "    <tr style=\"text-align: right;\">\n",
       "      <th></th>\n",
       "      <th>datetime</th>\n",
       "      <th>Boston</th>\n",
       "    </tr>\n",
       "  </thead>\n",
       "  <tbody>\n",
       "    <tr>\n",
       "      <th>1</th>\n",
       "      <td>2012-10-01 13:00:00</td>\n",
       "      <td>287.170000</td>\n",
       "    </tr>\n",
       "    <tr>\n",
       "      <th>2</th>\n",
       "      <td>2012-10-01 14:00:00</td>\n",
       "      <td>287.186092</td>\n",
       "    </tr>\n",
       "    <tr>\n",
       "      <th>3</th>\n",
       "      <td>2012-10-01 15:00:00</td>\n",
       "      <td>287.231672</td>\n",
       "    </tr>\n",
       "    <tr>\n",
       "      <th>4</th>\n",
       "      <td>2012-10-01 16:00:00</td>\n",
       "      <td>287.277251</td>\n",
       "    </tr>\n",
       "    <tr>\n",
       "      <th>5</th>\n",
       "      <td>2012-10-01 17:00:00</td>\n",
       "      <td>287.322831</td>\n",
       "    </tr>\n",
       "    <tr>\n",
       "      <th>...</th>\n",
       "      <td>...</td>\n",
       "      <td>...</td>\n",
       "    </tr>\n",
       "    <tr>\n",
       "      <th>45248</th>\n",
       "      <td>2017-11-29 20:00:00</td>\n",
       "      <td>288.080000</td>\n",
       "    </tr>\n",
       "    <tr>\n",
       "      <th>45249</th>\n",
       "      <td>2017-11-29 21:00:00</td>\n",
       "      <td>286.020000</td>\n",
       "    </tr>\n",
       "    <tr>\n",
       "      <th>45250</th>\n",
       "      <td>2017-11-29 22:00:00</td>\n",
       "      <td>283.940000</td>\n",
       "    </tr>\n",
       "    <tr>\n",
       "      <th>45251</th>\n",
       "      <td>2017-11-29 23:00:00</td>\n",
       "      <td>282.170000</td>\n",
       "    </tr>\n",
       "    <tr>\n",
       "      <th>45252</th>\n",
       "      <td>2017-11-30 00:00:00</td>\n",
       "      <td>280.650000</td>\n",
       "    </tr>\n",
       "  </tbody>\n",
       "</table>\n",
       "<p>45250 rows × 2 columns</p>\n",
       "</div>"
      ],
      "text/plain": [
       "                 datetime      Boston\n",
       "1     2012-10-01 13:00:00  287.170000\n",
       "2     2012-10-01 14:00:00  287.186092\n",
       "3     2012-10-01 15:00:00  287.231672\n",
       "4     2012-10-01 16:00:00  287.277251\n",
       "5     2012-10-01 17:00:00  287.322831\n",
       "...                   ...         ...\n",
       "45248 2017-11-29 20:00:00  288.080000\n",
       "45249 2017-11-29 21:00:00  286.020000\n",
       "45250 2017-11-29 22:00:00  283.940000\n",
       "45251 2017-11-29 23:00:00  282.170000\n",
       "45252 2017-11-30 00:00:00  280.650000\n",
       "\n",
       "[45250 rows x 2 columns]"
      ]
     },
     "execution_count": 66,
     "metadata": {},
     "output_type": "execute_result"
    }
   ],
   "source": [
    "df_c"
   ]
  },
  {
   "cell_type": "code",
   "execution_count": 85,
   "id": "36d78ed9",
   "metadata": {},
   "outputs": [],
   "source": [
    "# Commulative Moving Avg -> pd.expanding(min_periods = 2)\n",
    "# minwindow har bar expand hota hai\n",
    "df['CMA4'] = df_c['Boston'].expanding(min_periods = 4).mean()\n",
    "df['CMA2'] = df_c['Boston'].expanding(min_periods = 2).mean()"
   ]
  },
  {
   "cell_type": "code",
   "execution_count": 87,
   "id": "5ab66bda",
   "metadata": {},
   "outputs": [
    {
     "data": {
      "text/html": [
       "<div>\n",
       "<style scoped>\n",
       "    .dataframe tbody tr th:only-of-type {\n",
       "        vertical-align: middle;\n",
       "    }\n",
       "\n",
       "    .dataframe tbody tr th {\n",
       "        vertical-align: top;\n",
       "    }\n",
       "\n",
       "    .dataframe thead th {\n",
       "        text-align: right;\n",
       "    }\n",
       "</style>\n",
       "<table border=\"1\" class=\"dataframe\">\n",
       "  <thead>\n",
       "    <tr style=\"text-align: right;\">\n",
       "      <th></th>\n",
       "      <th>datetime</th>\n",
       "      <th>Boston</th>\n",
       "      <th>SMA3</th>\n",
       "      <th>SMA4</th>\n",
       "      <th>SMA10</th>\n",
       "      <th>CMA4</th>\n",
       "      <th>CMA2</th>\n",
       "    </tr>\n",
       "  </thead>\n",
       "  <tbody>\n",
       "    <tr>\n",
       "      <th>1</th>\n",
       "      <td>2012-10-01 13:00:00</td>\n",
       "      <td>287.170000</td>\n",
       "      <td>NaN</td>\n",
       "      <td>NaN</td>\n",
       "      <td>NaN</td>\n",
       "      <td>NaN</td>\n",
       "      <td>NaN</td>\n",
       "    </tr>\n",
       "    <tr>\n",
       "      <th>2</th>\n",
       "      <td>2012-10-01 14:00:00</td>\n",
       "      <td>287.186092</td>\n",
       "      <td>NaN</td>\n",
       "      <td>NaN</td>\n",
       "      <td>NaN</td>\n",
       "      <td>NaN</td>\n",
       "      <td>287.178046</td>\n",
       "    </tr>\n",
       "    <tr>\n",
       "      <th>3</th>\n",
       "      <td>2012-10-01 15:00:00</td>\n",
       "      <td>287.231672</td>\n",
       "      <td>287.195921</td>\n",
       "      <td>NaN</td>\n",
       "      <td>NaN</td>\n",
       "      <td>NaN</td>\n",
       "      <td>287.195921</td>\n",
       "    </tr>\n",
       "    <tr>\n",
       "      <th>4</th>\n",
       "      <td>2012-10-01 16:00:00</td>\n",
       "      <td>287.277251</td>\n",
       "      <td>287.231672</td>\n",
       "      <td>287.216254</td>\n",
       "      <td>NaN</td>\n",
       "      <td>287.216254</td>\n",
       "      <td>287.216254</td>\n",
       "    </tr>\n",
       "    <tr>\n",
       "      <th>5</th>\n",
       "      <td>2012-10-01 17:00:00</td>\n",
       "      <td>287.322831</td>\n",
       "      <td>287.277251</td>\n",
       "      <td>287.254461</td>\n",
       "      <td>NaN</td>\n",
       "      <td>287.237569</td>\n",
       "      <td>287.237569</td>\n",
       "    </tr>\n",
       "  </tbody>\n",
       "</table>\n",
       "</div>"
      ],
      "text/plain": [
       "             datetime      Boston        SMA3        SMA4  SMA10        CMA4  \\\n",
       "1 2012-10-01 13:00:00  287.170000         NaN         NaN    NaN         NaN   \n",
       "2 2012-10-01 14:00:00  287.186092         NaN         NaN    NaN         NaN   \n",
       "3 2012-10-01 15:00:00  287.231672  287.195921         NaN    NaN         NaN   \n",
       "4 2012-10-01 16:00:00  287.277251  287.231672  287.216254    NaN  287.216254   \n",
       "5 2012-10-01 17:00:00  287.322831  287.277251  287.254461    NaN  287.237569   \n",
       "\n",
       "         CMA2  \n",
       "1         NaN  \n",
       "2  287.178046  \n",
       "3  287.195921  \n",
       "4  287.216254  \n",
       "5  287.237569  "
      ]
     },
     "execution_count": 87,
     "metadata": {},
     "output_type": "execute_result"
    }
   ],
   "source": [
    "df.head()"
   ]
  },
  {
   "cell_type": "code",
   "execution_count": 73,
   "id": "5363994c",
   "metadata": {},
   "outputs": [
    {
     "data": {
      "text/plain": [
       "287.23658616666665"
      ]
     },
     "execution_count": 73,
     "metadata": {},
     "output_type": "execute_result"
    }
   ],
   "source": [
    "(287.170000+287.186092+287.231672+287.277251)/4 #->n\n",
    "(287.170000+287.186092+287.231672+287.277251+287.277251)/5 #->n+1\n",
    "(287.170000+287.186092+287.231672+287.277251+287.277251+287.277251)/6# ->n+1\n",
    "\n"
   ]
  },
  {
   "cell_type": "code",
   "execution_count": 88,
   "id": "df6f7581",
   "metadata": {},
   "outputs": [],
   "source": [
    "df_c = df.head(100)"
   ]
  },
  {
   "cell_type": "code",
   "execution_count": 89,
   "id": "989cf58f",
   "metadata": {},
   "outputs": [
    {
     "data": {
      "text/plain": [
       "<matplotlib.legend.Legend at 0x22f69e69340>"
      ]
     },
     "execution_count": 89,
     "metadata": {},
     "output_type": "execute_result"
    },
    {
     "data": {
      "image/png": "[encoded data removed]",
      "text/plain": [
       "<Figure size 432x288 with 1 Axes>"
      ]
     },
     "metadata": {
      "needs_background": "light"
     },
     "output_type": "display_data"
    }
   ],
   "source": [
    "plt.plot(df_c['Boston'],label = 'Original')\n",
    "plt.plot(df_c['CMA2'],label = 'CMA2')\n",
    "\n",
    "plt.plot(df_c['CMA4'],label = 'CMA4')\n",
    "\n",
    "plt.legend()"
   ]
  },
  {
   "cell_type": "code",
   "execution_count": 108,
   "id": "1d269a35",
   "metadata": {},
   "outputs": [],
   "source": [
    "#exponential Moving avg ->exponentially weighted function -> \n",
    "# 1 adjust = True->\n",
    "# 2 adjust -false ->\n",
    "# df['EMA'] = df['Boston'].ewm(com = 0.3).mean()\n",
    "# df['EMA'] = df['Boston'].ewm(span = 20).mean()\n",
    "# df['EMA'] = df['Boston'].ewm(alpha = 0.3).mean()\n",
    "df['EMA'] = df['Boston'].ewm(alpha = 0.3,adjust = False).mean()"
   ]
  },
  {
   "cell_type": "code",
   "execution_count": 91,
   "id": "6949afd0",
   "metadata": {},
   "outputs": [
    {
     "data": {
      "text/html": [
       "<div>\n",
       "<style scoped>\n",
       "    .dataframe tbody tr th:only-of-type {\n",
       "        vertical-align: middle;\n",
       "    }\n",
       "\n",
       "    .dataframe tbody tr th {\n",
       "        vertical-align: top;\n",
       "    }\n",
       "\n",
       "    .dataframe thead th {\n",
       "        text-align: right;\n",
       "    }\n",
       "</style>\n",
       "<table border=\"1\" class=\"dataframe\">\n",
       "  <thead>\n",
       "    <tr style=\"text-align: right;\">\n",
       "      <th></th>\n",
       "      <th>datetime</th>\n",
       "      <th>Boston</th>\n",
       "      <th>SMA3</th>\n",
       "      <th>SMA4</th>\n",
       "      <th>SMA10</th>\n",
       "      <th>CMA4</th>\n",
       "      <th>CMA2</th>\n",
       "      <th>EMA</th>\n",
       "    </tr>\n",
       "  </thead>\n",
       "  <tbody>\n",
       "    <tr>\n",
       "      <th>1</th>\n",
       "      <td>2012-10-01 13:00:00</td>\n",
       "      <td>287.170000</td>\n",
       "      <td>NaN</td>\n",
       "      <td>NaN</td>\n",
       "      <td>NaN</td>\n",
       "      <td>NaN</td>\n",
       "      <td>NaN</td>\n",
       "      <td>287.170000</td>\n",
       "    </tr>\n",
       "    <tr>\n",
       "      <th>2</th>\n",
       "      <td>2012-10-01 14:00:00</td>\n",
       "      <td>287.186092</td>\n",
       "      <td>NaN</td>\n",
       "      <td>NaN</td>\n",
       "      <td>NaN</td>\n",
       "      <td>NaN</td>\n",
       "      <td>287.178046</td>\n",
       "      <td>287.183075</td>\n",
       "    </tr>\n",
       "    <tr>\n",
       "      <th>3</th>\n",
       "      <td>2012-10-01 15:00:00</td>\n",
       "      <td>287.231672</td>\n",
       "      <td>287.195921</td>\n",
       "      <td>NaN</td>\n",
       "      <td>NaN</td>\n",
       "      <td>NaN</td>\n",
       "      <td>287.195921</td>\n",
       "      <td>287.220922</td>\n",
       "    </tr>\n",
       "    <tr>\n",
       "      <th>4</th>\n",
       "      <td>2012-10-01 16:00:00</td>\n",
       "      <td>287.277251</td>\n",
       "      <td>287.231672</td>\n",
       "      <td>287.216254</td>\n",
       "      <td>NaN</td>\n",
       "      <td>287.216254</td>\n",
       "      <td>287.216254</td>\n",
       "      <td>287.264375</td>\n",
       "    </tr>\n",
       "    <tr>\n",
       "      <th>5</th>\n",
       "      <td>2012-10-01 17:00:00</td>\n",
       "      <td>287.322831</td>\n",
       "      <td>287.277251</td>\n",
       "      <td>287.254461</td>\n",
       "      <td>NaN</td>\n",
       "      <td>287.237569</td>\n",
       "      <td>287.237569</td>\n",
       "      <td>287.309370</td>\n",
       "    </tr>\n",
       "    <tr>\n",
       "      <th>6</th>\n",
       "      <td>2012-10-01 18:00:00</td>\n",
       "      <td>287.368410</td>\n",
       "      <td>287.322831</td>\n",
       "      <td>287.300041</td>\n",
       "      <td>NaN</td>\n",
       "      <td>287.259376</td>\n",
       "      <td>287.259376</td>\n",
       "      <td>287.354792</td>\n",
       "    </tr>\n",
       "    <tr>\n",
       "      <th>7</th>\n",
       "      <td>2012-10-01 19:00:00</td>\n",
       "      <td>287.413990</td>\n",
       "      <td>287.368410</td>\n",
       "      <td>287.345620</td>\n",
       "      <td>NaN</td>\n",
       "      <td>287.281464</td>\n",
       "      <td>287.281464</td>\n",
       "      <td>287.400330</td>\n",
       "    </tr>\n",
       "    <tr>\n",
       "      <th>8</th>\n",
       "      <td>2012-10-01 20:00:00</td>\n",
       "      <td>287.459569</td>\n",
       "      <td>287.413990</td>\n",
       "      <td>287.391200</td>\n",
       "      <td>NaN</td>\n",
       "      <td>287.303727</td>\n",
       "      <td>287.303727</td>\n",
       "      <td>287.445899</td>\n",
       "    </tr>\n",
       "    <tr>\n",
       "      <th>9</th>\n",
       "      <td>2012-10-01 21:00:00</td>\n",
       "      <td>287.505149</td>\n",
       "      <td>287.459569</td>\n",
       "      <td>287.436779</td>\n",
       "      <td>NaN</td>\n",
       "      <td>287.326107</td>\n",
       "      <td>287.326107</td>\n",
       "      <td>287.491476</td>\n",
       "    </tr>\n",
       "    <tr>\n",
       "      <th>10</th>\n",
       "      <td>2012-10-01 22:00:00</td>\n",
       "      <td>287.550728</td>\n",
       "      <td>287.505149</td>\n",
       "      <td>287.482359</td>\n",
       "      <td>287.348569</td>\n",
       "      <td>287.348569</td>\n",
       "      <td>287.348569</td>\n",
       "      <td>287.537054</td>\n",
       "    </tr>\n",
       "  </tbody>\n",
       "</table>\n",
       "</div>"
      ],
      "text/plain": [
       "              datetime      Boston        SMA3        SMA4       SMA10  \\\n",
       "1  2012-10-01 13:00:00  287.170000         NaN         NaN         NaN   \n",
       "2  2012-10-01 14:00:00  287.186092         NaN         NaN         NaN   \n",
       "3  2012-10-01 15:00:00  287.231672  287.195921         NaN         NaN   \n",
       "4  2012-10-01 16:00:00  287.277251  287.231672  287.216254         NaN   \n",
       "5  2012-10-01 17:00:00  287.322831  287.277251  287.254461         NaN   \n",
       "6  2012-10-01 18:00:00  287.368410  287.322831  287.300041         NaN   \n",
       "7  2012-10-01 19:00:00  287.413990  287.368410  287.345620         NaN   \n",
       "8  2012-10-01 20:00:00  287.459569  287.413990  287.391200         NaN   \n",
       "9  2012-10-01 21:00:00  287.505149  287.459569  287.436779         NaN   \n",
       "10 2012-10-01 22:00:00  287.550728  287.505149  287.482359  287.348569   \n",
       "\n",
       "          CMA4        CMA2         EMA  \n",
       "1          NaN         NaN  287.170000  \n",
       "2          NaN  287.178046  287.183075  \n",
       "3          NaN  287.195921  287.220922  \n",
       "4   287.216254  287.216254  287.264375  \n",
       "5   287.237569  287.237569  287.309370  \n",
       "6   287.259376  287.259376  287.354792  \n",
       "7   287.281464  287.281464  287.400330  \n",
       "8   287.303727  287.303727  287.445899  \n",
       "9   287.326107  287.326107  287.491476  \n",
       "10  287.348569  287.348569  287.537054  "
      ]
     },
     "execution_count": 91,
     "metadata": {},
     "output_type": "execute_result"
    }
   ],
   "source": [
    "df.head(10)"
   ]
  },
  {
   "cell_type": "code",
   "execution_count": 111,
   "id": "edfa2a20",
   "metadata": {},
   "outputs": [
    {
     "data": {
      "text/plain": [
       "<matplotlib.legend.Legend at 0x22f734a0d30>"
      ]
     },
     "execution_count": 111,
     "metadata": {},
     "output_type": "execute_result"
    },
    {
     "data": {
      "image/png": "[encoded data removed]",
      "text/plain": [
       "<Figure size 432x288 with 1 Axes>"
      ]
     },
     "metadata": {
      "needs_background": "light"
     },
     "output_type": "display_data"
    }
   ],
   "source": [
    "plt.plot(df['Boston'],label = 'Original')\n",
    "plt.plot(df['EMA'],label = 'EMA')\n",
    "\n",
    "plt.plot(df['CMA4'],label = 'CMA4')\n",
    "plt.plot(df['SMA10'],label = 'SMA10')\n",
    "\n",
    "\n",
    "plt.legend()\n"
   ]
  },
  {
   "cell_type": "code",
   "execution_count": 113,
   "id": "6f848f40",
   "metadata": {},
   "outputs": [],
   "source": [
    "import seaborn as sns\n"
   ]
  },
  {
   "cell_type": "code",
   "execution_count": 114,
   "id": "054a2387",
   "metadata": {},
   "outputs": [
    {
     "name": "stdout",
     "output_type": "stream",
     "text": [
      "      RM  LSTAT  PTRATIO      MEDV\n",
      "0  6.575   4.98     15.3  504000.0\n",
      "1  6.421   9.14     17.8  453600.0\n",
      "2  7.185   4.03     17.8  728700.0\n",
      "3  6.998   2.94     18.7  701400.0\n",
      "4  7.147   5.33     18.7  760200.0\n"
     ]
    }
   ],
   "source": [
    "df = pd.read_csv(\"D:\\Python\\ClassRoom\\Polinomial Regression\\housing.csv\")\n",
    "print(df.head())"
   ]
  },
  {
   "cell_type": "code",
   "execution_count": 131,
   "id": "da871ade",
   "metadata": {},
   "outputs": [
    {
     "data": {
      "text/plain": [
       "<AxesSubplot:>"
      ]
     },
     "execution_count": 131,
     "metadata": {},
     "output_type": "execute_result"
    },
    {
     "data": {
      "image/png": "[encoded data removed]",
      "text/plain": [
       "<Figure size 432x288 with 2 Axes>"
      ]
     },
     "metadata": {
      "needs_background": "light"
     },
     "output_type": "display_data"
    }
   ],
   "source": [
    "sns.heatmap(data = df ,annot= True)"
   ]
  },
  {
   "cell_type": "code",
   "execution_count": 120,
   "id": "d2e86baf",
   "metadata": {},
   "outputs": [],
   "source": [
    "from statsmodels.stats.outliers_influence import variance_inflation_factor"
   ]
  },
  {
   "cell_type": "code",
   "execution_count": 133,
   "id": "daca6f76",
   "metadata": {},
   "outputs": [
    {
     "name": "stdout",
     "output_type": "stream",
     "text": [
      "RM --> 118.38808961936905\n",
      "LSTAT --> 8.209014631871812\n",
      "PTRATIO --> 64.5755032599558\n",
      "MEDV --> 28.218939396203833\n"
     ]
    }
   ],
   "source": [
    "# vif factor is in between 1 to 5\n",
    "# if it >5 then drop one column to achieve vif factor\n",
    "for i in range(df.shape[1]):\n",
    "    print(df.columns[i],'-->',variance_inflation_factor(df.values,i))"
   ]
  },
  {
   "cell_type": "code",
   "execution_count": null,
   "id": "950bdffd",
   "metadata": {},
   "outputs": [],
   "source": []
  }
 ],
 "metadata": {
  "kernelspec": {
   "display_name": "Python 3",
   "language": "python",
   "name": "python3"
  },
  "language_info": {
   "codemirror_mode": {
    "name": "ipython",
    "version": 3
   },
   "file_extension": ".py",
   "mimetype": "text/x-python",
   "name": "python",
   "nbconvert_exporter": "python",
   "pygments_lexer": "ipython3",
   "version": "3.9.2"
  }
 },
 "nbformat": 4,
 "nbformat_minor": 5
}
